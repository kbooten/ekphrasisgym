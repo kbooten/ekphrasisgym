{
  "cells": [
    {
      "cell_type": "markdown",
      "metadata": {
        "id": "8lhwKdiElb-W"
      },
      "source": [
        "# Recursive Ekphrasis Gym\n",
        "\n",
        "## Processing `(possessor,possessed)` pairs\n",
        "\n",
        " "
      ]
    },
    {
      "cell_type": "code",
      "execution_count": 1,
      "metadata": {
        "colab": {
          "base_uri": "https://localhost:8080/"
        },
        "id": "4QAPt3jvSBfk",
        "outputId": "11cb97af-0ac2-46b0-f637-fc25857f586e"
      },
      "outputs": [
        {
          "output_type": "stream",
          "name": "stdout",
          "text": [
            "--2022-05-03 01:58:47--  https://raw.githubusercontent.com/kbooten/ekphrasisgym/main/possessor2possessed_tuples_with_filenumber.json\n",
            "Resolving raw.githubusercontent.com (raw.githubusercontent.com)... 185.199.108.133, 185.199.109.133, 185.199.110.133, ...\n",
            "Connecting to raw.githubusercontent.com (raw.githubusercontent.com)|185.199.108.133|:443... connected.\n",
            "HTTP request sent, awaiting response... 200 OK\n",
            "Length: 18738032 (18M) [text/plain]\n",
            "Saving to: ‘possessor2possessed_tuples_with_filenumber.json.2’\n",
            "\n",
            "possessor2possessed 100%[===================>]  17.87M   112MB/s    in 0.2s    \n",
            "\n",
            "2022-05-03 01:58:47 (112 MB/s) - ‘possessor2possessed_tuples_with_filenumber.json.2’ saved [18738032/18738032]\n",
            "\n"
          ]
        }
      ],
      "source": [
        "! wget https://raw.githubusercontent.com/kbooten/ekphrasisgym/main/possessor2possessed_tuples_with_filenumber.json"
      ]
    },
    {
      "cell_type": "code",
      "execution_count": 2,
      "metadata": {
        "id": "t8Lo-ixmSHRY"
      },
      "outputs": [],
      "source": [
        "import json\n",
        "\n",
        "with open('possessor2possessed_tuples_with_filenumber.json','r') as f:\n",
        "  possessor2possessed_tuples_with_filenumber_lists = json.load(f)"
      ]
    },
    {
      "cell_type": "code",
      "execution_count": 3,
      "metadata": {
        "colab": {
          "base_uri": "https://localhost:8080/"
        },
        "id": "QG__OfRVSZou",
        "outputId": "a4961469-a6f6-4afa-ab54-533e09b374fd"
      },
      "outputs": [
        {
          "output_type": "execute_result",
          "data": {
            "text/plain": [
              "[['2068', ['captain', 'property']],\n",
              " ['2068', ['dealer', 'wagon']],\n",
              " ['2068', ['takin', 'carpets']],\n",
              " ['2068', ['body', 'eyesight']]]"
            ]
          },
          "metadata": {},
          "execution_count": 3
        }
      ],
      "source": [
        "possessor2possessed_tuples_with_filenumber_lists[:4]"
      ]
    },
    {
      "cell_type": "code",
      "execution_count": 4,
      "metadata": {
        "id": "WGYlz3HWSkEQ"
      },
      "outputs": [],
      "source": [
        "from collections import defaultdict\n",
        "\n",
        "possessor2possessed = defaultdict(list)"
      ]
    },
    {
      "cell_type": "code",
      "execution_count": 5,
      "metadata": {
        "id": "nxXUD8ApS6Me"
      },
      "outputs": [],
      "source": [
        "for i in possessor2possessed_tuples_with_filenumber_lists:\n",
        "  filenumber = i[0]\n",
        "  possessor = i[1][0]\n",
        "  possessed = i[1][1] \n",
        "  possessor2possessed[possessor].append((possessed,filenumber))"
      ]
    },
    {
      "cell_type": "code",
      "execution_count": 6,
      "metadata": {
        "colab": {
          "base_uri": "https://localhost:8080/"
        },
        "id": "Q1m8ryOETevQ",
        "outputId": "63c771b0-d8d2-4e1a-9461-2f456662646f"
      },
      "outputs": [
        {
          "output_type": "execute_result",
          "data": {
            "text/plain": [
              "[('garden', '43754'),\n",
              " ('daughters', '48198'),\n",
              " ('side', '28684'),\n",
              " ('children', '145'),\n",
              " ('children', '145'),\n",
              " ('son', '145'),\n",
              " ('place', '22008'),\n",
              " ('love', '2686'),\n",
              " ('wife', '11825'),\n",
              " ('ministry', '46570')]"
            ]
          },
          "metadata": {},
          "execution_count": 6
        }
      ],
      "source": [
        "possessor2possessed[\"curate\"][:10]"
      ]
    },
    {
      "cell_type": "markdown",
      "source": [
        "Using WordNet to make sure a token is a word."
      ],
      "metadata": {
        "id": "9lEJyxQolx_X"
      }
    },
    {
      "cell_type": "code",
      "execution_count": 7,
      "metadata": {
        "colab": {
          "base_uri": "https://localhost:8080/"
        },
        "id": "OAyzCbHUAfb3",
        "outputId": "83962c80-45b2-473d-fed3-5009fce1968b"
      },
      "outputs": [
        {
          "output_type": "stream",
          "name": "stdout",
          "text": [
            "[nltk_data] Downloading package wordnet to /root/nltk_data...\n",
            "[nltk_data]   Package wordnet is already up-to-date!\n"
          ]
        }
      ],
      "source": [
        "import nltk\n",
        "nltk.download('wordnet')\n",
        "from nltk.corpus import wordnet as wn"
      ]
    },
    {
      "cell_type": "code",
      "execution_count": 8,
      "metadata": {
        "colab": {
          "base_uri": "https://localhost:8080/"
        },
        "id": "3P_dXfcGAlpT",
        "outputId": "0bd930cc-c08a-441d-84ac-0766437571ee"
      },
      "outputs": [
        {
          "output_type": "execute_result",
          "data": {
            "text/plain": [
              "[Synset('hat.n.01'), Synset('hat.n.02')]"
            ]
          },
          "metadata": {},
          "execution_count": 8
        }
      ],
      "source": [
        "wn.synsets(\"hat\",pos=wn.NOUN)"
      ]
    },
    {
      "cell_type": "code",
      "execution_count": 9,
      "metadata": {
        "id": "aPYQXHMMTz7O"
      },
      "outputs": [],
      "source": [
        "for key,values in possessor2possessed.items():\n",
        "  values_unique_per_file = [thing for thing,f in list(set(values))]\n",
        "  values_unique_per_file = [v for v in values_unique_per_file if wn.synsets(v,pos=wn.NOUN)!=[]] ## spellcheck via wordnet\n",
        "  possessor2possessed[key] = values_unique_per_file"
      ]
    },
    {
      "cell_type": "code",
      "execution_count": 10,
      "metadata": {
        "colab": {
          "base_uri": "https://localhost:8080/"
        },
        "id": "Z4wAuqVVU0WV",
        "outputId": "5b0723a7-3a3c-45f5-938b-525314c8c827"
      },
      "outputs": [
        {
          "output_type": "execute_result",
          "data": {
            "text/plain": [
              "['egg', 'life', 'reach', 'turn', 'place']"
            ]
          },
          "metadata": {},
          "execution_count": 10
        }
      ],
      "source": [
        "possessor2possessed[\"curate\"][:5]"
      ]
    },
    {
      "cell_type": "code",
      "execution_count": 11,
      "metadata": {
        "id": "ekkIetKfU-pP"
      },
      "outputs": [],
      "source": [
        "import itertools\n",
        "all_possessed = list(itertools.chain(*possessor2possessed.values()))"
      ]
    },
    {
      "cell_type": "code",
      "execution_count": 12,
      "metadata": {
        "colab": {
          "base_uri": "https://localhost:8080/"
        },
        "id": "kJeFhwqiyDHY",
        "outputId": "a2e0ce22-3824-4f8e-efb8-e264d5a6fc2e"
      },
      "outputs": [
        {
          "output_type": "execute_result",
          "data": {
            "text/plain": [
              "521389"
            ]
          },
          "metadata": {},
          "execution_count": 12
        }
      ],
      "source": [
        "len(all_possessed)"
      ]
    },
    {
      "cell_type": "code",
      "execution_count": 13,
      "metadata": {
        "colab": {
          "base_uri": "https://localhost:8080/"
        },
        "id": "2CiZ-rGQyUH5",
        "outputId": "6e70bd57-2886-4c8d-f130-705652bdf8be"
      },
      "outputs": [
        {
          "output_type": "execute_result",
          "data": {
            "text/plain": [
              "['sails',\n",
              " 'mood',\n",
              " 'part',\n",
              " 'heart',\n",
              " 'oilskins',\n",
              " 'stateroom',\n",
              " 'shoulder',\n",
              " 'office',\n",
              " 'head',\n",
              " 'deportment']"
            ]
          },
          "metadata": {},
          "execution_count": 13
        }
      ],
      "source": [
        "all_possessed[:10]"
      ]
    },
    {
      "cell_type": "code",
      "execution_count": 14,
      "metadata": {
        "id": "6HIx43kf9jDZ"
      },
      "outputs": [],
      "source": [
        "from collections import defaultdict\n",
        "\n",
        "possessed2count = defaultdict(int)\n",
        "\n",
        "for w in all_possessed:\n",
        "  possessed2count[w]+=1"
      ]
    },
    {
      "cell_type": "code",
      "execution_count": 15,
      "metadata": {
        "colab": {
          "base_uri": "https://localhost:8080/"
        },
        "id": "VHwGIaex-Wnq",
        "outputId": "28ee1ead-7994-48c8-f72b-4e8244d77a7e"
      },
      "outputs": [
        {
          "output_type": "execute_result",
          "data": {
            "text/plain": [
              "0.00014960039433129584"
            ]
          },
          "metadata": {},
          "execution_count": 15
        }
      ],
      "source": [
        "(possessed2count['crest']-10)/len(all_possessed)"
      ]
    },
    {
      "cell_type": "code",
      "execution_count": 16,
      "metadata": {
        "colab": {
          "base_uri": "https://localhost:8080/"
        },
        "id": "_6DJ5Hrc1dZe",
        "outputId": "026c477c-6db0-43b2-f46a-8e258b627a56"
      },
      "outputs": [
        {
          "output_type": "execute_result",
          "data": {
            "text/plain": [
              "[('egg', True),\n",
              " ('life', False),\n",
              " ('reach', True),\n",
              " ('turn', True),\n",
              " ('place', True),\n",
              " ('increase', True),\n",
              " ('mouth', True),\n",
              " ('wife', True),\n",
              " ('calves', True),\n",
              " ('case', True),\n",
              " ('budget', True),\n",
              " ('house', False),\n",
              " ('parrot', True),\n",
              " ('lecture', True),\n",
              " ('friends', True),\n",
              " ('head', False),\n",
              " ('visit', True),\n",
              " ('rooms', True),\n",
              " ('daughter', False),\n",
              " ('hand', False),\n",
              " ('voice', False),\n",
              " ('tone', True),\n",
              " ('remarks', True),\n",
              " ('chamber', True),\n",
              " ('daughter', False),\n",
              " ('mention', True),\n",
              " ('house', False),\n",
              " ('unselfishness', True),\n",
              " ('daughter', False),\n",
              " ('openness', True),\n",
              " ('consent', True),\n",
              " ('home', True),\n",
              " ('escort', True),\n",
              " ('cape', True),\n",
              " ('master', True),\n",
              " ('daughter', False),\n",
              " ('house', False),\n",
              " ('thoughts', True),\n",
              " ('tuition', True),\n",
              " ('wife', True),\n",
              " ('heart', False),\n",
              " ('family', True),\n",
              " ('ad', True),\n",
              " ('neighbourhood', True),\n",
              " ('knavery', True),\n",
              " ('lodging', True),\n",
              " ('hat', True),\n",
              " ('face', False),\n",
              " ('remark', True),\n",
              " ('stipend', True),\n",
              " ('face', False),\n",
              " ('wife', True),\n",
              " ('permission', True),\n",
              " ('illness', True),\n",
              " ('daughter', False),\n",
              " ('coat', True),\n",
              " ('mission', True),\n",
              " ('landlady', True),\n",
              " ('rage', True),\n",
              " ('tongue', True),\n",
              " ('affections', True),\n",
              " ('son', True),\n",
              " ('wife', True),\n",
              " ('egg', True),\n",
              " ('defects', True),\n",
              " ('voice', False),\n",
              " ('mule', True),\n",
              " ('house', False),\n",
              " ('toes', True),\n",
              " ('son', True),\n",
              " ('letter', True),\n",
              " ('children', True),\n",
              " ('accusations', True),\n",
              " ('sister', True),\n",
              " ('life', False),\n",
              " ('mind', True),\n",
              " ('bike', True),\n",
              " ('name', False),\n",
              " ('wife', True),\n",
              " ('sermons', True),\n",
              " ('jealousy', True),\n",
              " ('presence', True),\n",
              " ('wife', True),\n",
              " ('wife', True),\n",
              " ('call', True),\n",
              " ('goats', True),\n",
              " ('house', False),\n",
              " ('wife', True),\n",
              " ('mule', True),\n",
              " ('hand', False),\n",
              " ('energy', True),\n",
              " ('mind', True),\n",
              " ('wife', True),\n",
              " ('egg', True),\n",
              " ('form', True),\n",
              " ('duty', True),\n",
              " ('door', True),\n",
              " ('daughters', True),\n",
              " ('feeling', True),\n",
              " ('love', True),\n",
              " ('fate', True),\n",
              " ('face', False),\n",
              " ('allusions', True),\n",
              " ('account', True),\n",
              " ('voice', False),\n",
              " ('room', True),\n",
              " ('side', True),\n",
              " ('coat', True),\n",
              " ('humour', True),\n",
              " ('wife', True),\n",
              " ('boys', True),\n",
              " ('home', True),\n",
              " ('knee', True),\n",
              " ('morrow', True),\n",
              " ('garden', True),\n",
              " ('wife', True),\n",
              " ('virtues', True),\n",
              " ('links', True),\n",
              " ('ministry', True),\n",
              " ('chest', True),\n",
              " ('voice', False),\n",
              " ('eyes', False),\n",
              " ('study', True),\n",
              " ('cottage', True),\n",
              " ('house', False),\n",
              " ('mouth', True),\n",
              " ('children', True),\n",
              " ('side', True),\n",
              " ('hat', True),\n",
              " ('mass', True)]"
            ]
          },
          "metadata": {},
          "execution_count": 16
        }
      ],
      "source": [
        "def specificity_test(word,targetlist,allwordlist=all_possessed,timesgreater=30):\n",
        "  ratio_in_target = targetlist.count(word)/len(targetlist)\n",
        "  ratio_general = (possessed2count[word]-targetlist.count(word))/len(all_possessed)\n",
        "  if (ratio_in_target/timesgreater) > ratio_general:\n",
        "    return True\n",
        "  else:\n",
        "    return False\n",
        "  #return (ratio_in_target,ratio_general)\n",
        "\n",
        "[(w,specificity_test(w,w,possessor2possessed['curate'])) for w in possessor2possessed['curate']]\n"
      ]
    },
    {
      "cell_type": "code",
      "execution_count": 17,
      "metadata": {
        "id": "LQTB22JQyYr-"
      },
      "outputs": [],
      "source": [
        "possessor2possessed_filtered = dict()"
      ]
    },
    {
      "cell_type": "code",
      "execution_count": 18,
      "metadata": {
        "id": "0TBMrpyC9Ftq"
      },
      "outputs": [],
      "source": [
        "from tqdm import tqdm"
      ]
    },
    {
      "cell_type": "code",
      "execution_count": 19,
      "metadata": {
        "colab": {
          "base_uri": "https://localhost:8080/"
        },
        "id": "nOVLABuaydz5",
        "outputId": "2c7630e1-f32b-4b60-c357-4592acf41eaf"
      },
      "outputs": [
        {
          "output_type": "stream",
          "name": "stderr",
          "text": [
            "100%|██████████| 16254/16254 [05:05<00:00, 53.24it/s]   \n"
          ]
        }
      ],
      "source": [
        "for key,values in tqdm(possessor2possessed.items()):\n",
        "  specific_to_possessor = []\n",
        "  filtered_out = []\n",
        "  for possessed in values:\n",
        "    # if possessed in specific_to_possessor:\n",
        "    #   specific_to_possessor.append(possessed)\n",
        "    # elif possessed in filtered_out:\n",
        "    #   pass\n",
        "    # else:\n",
        "    if specificity_test(possessed,values)==True:\n",
        "      specific_to_possessor.append(possessed)\n",
        "  possessor2possessed_filtered[key] = specific_to_possessor"
      ]
    },
    {
      "cell_type": "code",
      "execution_count": 20,
      "metadata": {
        "colab": {
          "base_uri": "https://localhost:8080/"
        },
        "id": "Wj9NfWeL-zEr",
        "outputId": "7a12ac97-a9ff-4ecf-e869-1d0dfdb15232"
      },
      "outputs": [
        {
          "output_type": "execute_result",
          "data": {
            "text/plain": [
              "['leaves', 'voice', 'time']"
            ]
          },
          "metadata": {},
          "execution_count": 20
        }
      ],
      "source": [
        "possessor2possessed_filtered['cherry']"
      ]
    },
    {
      "cell_type": "code",
      "source": [
        "with open('possessor2possessed.json','w') as f:\n",
        "  json.dump(possessor2possessed,f)"
      ],
      "metadata": {
        "id": "NbdOyTd0m2RS"
      },
      "execution_count": 21,
      "outputs": []
    },
    {
      "cell_type": "markdown",
      "source": [
        "***"
      ],
      "metadata": {
        "id": "AeerXNIZo8ml"
      }
    }
  ],
  "metadata": {
    "accelerator": "GPU",
    "colab": {
      "collapsed_sections": [],
      "name": "processing_pairs.ipynb",
      "provenance": []
    },
    "kernelspec": {
      "display_name": "Python 3",
      "name": "python3"
    },
    "language_info": {
      "name": "python"
    }
  },
  "nbformat": 4,
  "nbformat_minor": 0
}