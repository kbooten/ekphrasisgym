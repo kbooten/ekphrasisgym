{
  "cells": [
    {
      "cell_type": "markdown",
      "metadata": {
        "id": "8lhwKdiElb-W"
      },
      "source": [
        "# Recursive Ekphrasis Gym\n",
        "\n",
        "## Processing `(possessor,possessed)` pairs"
      ]
    },
    {
      "cell_type": "code",
      "execution_count": 1,
      "metadata": {
        "colab": {
          "base_uri": "https://localhost:8080/"
        },
        "id": "4QAPt3jvSBfk",
        "outputId": "a1236a08-f5e3-478e-c008-8925714de3fc"
      },
      "outputs": [
        {
          "output_type": "stream",
          "name": "stdout",
          "text": [
            "--2022-05-27 11:37:30--  https://raw.githubusercontent.com/kbooten/ekphrasisgym/main/possessor2possessed_tuples_with_filenumber.json\n",
            "Resolving raw.githubusercontent.com (raw.githubusercontent.com)... 185.199.108.133, 185.199.109.133, 185.199.110.133, ...\n",
            "Connecting to raw.githubusercontent.com (raw.githubusercontent.com)|185.199.108.133|:443... connected.\n",
            "HTTP request sent, awaiting response... 200 OK\n",
            "Length: 18738032 (18M) [text/plain]\n",
            "Saving to: ‘possessor2possessed_tuples_with_filenumber.json.3’\n",
            "\n",
            "\r          possessor   0%[                    ]       0  --.-KB/s               \rpossessor2possessed 100%[===================>]  17.87M  --.-KB/s    in 0.1s    \n",
            "\n",
            "2022-05-27 11:37:31 (143 MB/s) - ‘possessor2possessed_tuples_with_filenumber.json.3’ saved [18738032/18738032]\n",
            "\n"
          ]
        }
      ],
      "source": [
        "! wget https://raw.githubusercontent.com/kbooten/ekphrasisgym/main/possessor2possessed_tuples_with_filenumber.json"
      ]
    },
    {
      "cell_type": "code",
      "execution_count": 2,
      "metadata": {
        "id": "t8Lo-ixmSHRY"
      },
      "outputs": [],
      "source": [
        "import json\n",
        "\n",
        "with open('possessor2possessed_tuples_with_filenumber.json','r') as f:\n",
        "  possessor2possessed_tuples_with_filenumber_lists = json.load(f)"
      ]
    },
    {
      "cell_type": "code",
      "execution_count": 3,
      "metadata": {
        "colab": {
          "base_uri": "https://localhost:8080/"
        },
        "id": "QG__OfRVSZou",
        "outputId": "3dc17091-bb93-47d7-976e-2a1db924d3ae"
      },
      "outputs": [
        {
          "output_type": "execute_result",
          "data": {
            "text/plain": [
              "[['2068', ['captain', 'property']],\n",
              " ['2068', ['dealer', 'wagon']],\n",
              " ['2068', ['takin', 'carpets']],\n",
              " ['2068', ['body', 'eyesight']]]"
            ]
          },
          "metadata": {},
          "execution_count": 3
        }
      ],
      "source": [
        "possessor2possessed_tuples_with_filenumber_lists[:4]"
      ]
    },
    {
      "cell_type": "code",
      "execution_count": 4,
      "metadata": {
        "id": "WGYlz3HWSkEQ"
      },
      "outputs": [],
      "source": [
        "from collections import defaultdict\n",
        "\n",
        "possessor2possessed = defaultdict(list)"
      ]
    },
    {
      "cell_type": "code",
      "execution_count": 5,
      "metadata": {
        "id": "nxXUD8ApS6Me"
      },
      "outputs": [],
      "source": [
        "for i in possessor2possessed_tuples_with_filenumber_lists:\n",
        "  filenumber = i[0]\n",
        "  possessor = i[1][0]\n",
        "  possessed = i[1][1] \n",
        "  possessor2possessed[possessor].append((possessed,filenumber))"
      ]
    },
    {
      "cell_type": "code",
      "execution_count": 6,
      "metadata": {
        "colab": {
          "base_uri": "https://localhost:8080/"
        },
        "id": "Q1m8ryOETevQ",
        "outputId": "4be8438d-5f72-448f-fd5a-bdab48e3db3a"
      },
      "outputs": [
        {
          "output_type": "execute_result",
          "data": {
            "text/plain": [
              "[('garden', '43754'),\n",
              " ('daughters', '48198'),\n",
              " ('side', '28684'),\n",
              " ('children', '145'),\n",
              " ('children', '145'),\n",
              " ('son', '145'),\n",
              " ('place', '22008'),\n",
              " ('love', '2686'),\n",
              " ('wife', '11825'),\n",
              " ('ministry', '46570')]"
            ]
          },
          "metadata": {},
          "execution_count": 6
        }
      ],
      "source": [
        "possessor2possessed[\"curate\"][:10]"
      ]
    },
    {
      "cell_type": "markdown",
      "source": [
        "Using WordNet to make sure a token is a word."
      ],
      "metadata": {
        "id": "9lEJyxQolx_X"
      }
    },
    {
      "cell_type": "code",
      "execution_count": 7,
      "metadata": {
        "colab": {
          "base_uri": "https://localhost:8080/"
        },
        "id": "OAyzCbHUAfb3",
        "outputId": "a7afdc2b-1111-41b2-c77f-98f73ccc553c"
      },
      "outputs": [
        {
          "output_type": "stream",
          "name": "stdout",
          "text": [
            "[nltk_data] Downloading package wordnet to /root/nltk_data...\n",
            "[nltk_data]   Package wordnet is already up-to-date!\n"
          ]
        }
      ],
      "source": [
        "import nltk\n",
        "nltk.download('wordnet')\n",
        "from nltk.corpus import wordnet as wn"
      ]
    },
    {
      "cell_type": "code",
      "execution_count": 8,
      "metadata": {
        "colab": {
          "base_uri": "https://localhost:8080/"
        },
        "id": "3P_dXfcGAlpT",
        "outputId": "bafa5c37-e920-49f9-f4ba-c7cbace8bd61"
      },
      "outputs": [
        {
          "output_type": "execute_result",
          "data": {
            "text/plain": [
              "[Synset('hat.n.01'), Synset('hat.n.02')]"
            ]
          },
          "metadata": {},
          "execution_count": 8
        }
      ],
      "source": [
        "wn.synsets(\"hat\",pos=wn.NOUN)"
      ]
    },
    {
      "cell_type": "code",
      "execution_count": 9,
      "metadata": {
        "id": "aPYQXHMMTz7O"
      },
      "outputs": [],
      "source": [
        "for key,values in possessor2possessed.items():\n",
        "  values_unique_per_file = [thing for thing,f in list(set(values))]\n",
        "  values_unique_per_file = [v for v in values_unique_per_file if wn.synsets(v,pos=wn.NOUN)!=[]] ## spellcheck via wordnet\n",
        "  possessor2possessed[key] = values_unique_per_file"
      ]
    },
    {
      "cell_type": "code",
      "execution_count": 10,
      "metadata": {
        "colab": {
          "base_uri": "https://localhost:8080/"
        },
        "id": "Z4wAuqVVU0WV",
        "outputId": "587f60e7-a538-4865-d67d-f49a83002ff2"
      },
      "outputs": [
        {
          "output_type": "execute_result",
          "data": {
            "text/plain": [
              "['chamber', 'presence', 'rage', 'jealousy', 'calves']"
            ]
          },
          "metadata": {},
          "execution_count": 10
        }
      ],
      "source": [
        "possessor2possessed[\"curate\"][:5]"
      ]
    },
    {
      "cell_type": "code",
      "source": [
        "possessor2possessed[\"sake\"][:3]"
      ],
      "metadata": {
        "colab": {
          "base_uri": "https://localhost:8080/"
        },
        "id": "v2azT6_NPSdS",
        "outputId": "1f67ecac-e94f-4289-b283-6cd84346a6be"
      },
      "execution_count": 11,
      "outputs": [
        {
          "output_type": "execute_result",
          "data": {
            "text/plain": [
              "['sake', 'sake', 'cause']"
            ]
          },
          "metadata": {},
          "execution_count": 11
        }
      ]
    },
    {
      "cell_type": "markdown",
      "source": [
        "Get rid of values that are the same as the key."
      ],
      "metadata": {
        "id": "fG9IjRjzP5tI"
      }
    },
    {
      "cell_type": "code",
      "source": [
        "for key,values in possessor2possessed.items():\n",
        "  possessor2possessed[key] = [v for v in values if v!=key]"
      ],
      "metadata": {
        "id": "Dy_iJ3aPPfhB"
      },
      "execution_count": 12,
      "outputs": []
    },
    {
      "cell_type": "code",
      "source": [
        "possessor2possessed[\"sake\"][:3]"
      ],
      "metadata": {
        "colab": {
          "base_uri": "https://localhost:8080/"
        },
        "id": "HTEzwGpKPsDN",
        "outputId": "5d14aff3-7cd0-489b-bdc3-e0b7dd489d22"
      },
      "execution_count": 13,
      "outputs": [
        {
          "output_type": "execute_result",
          "data": {
            "text/plain": [
              "['cause']"
            ]
          },
          "metadata": {},
          "execution_count": 13
        }
      ]
    },
    {
      "cell_type": "markdown",
      "source": [
        "Sometimes a value is just a letter.  Filter out really short words."
      ],
      "metadata": {
        "id": "a-Tr00YrQEa3"
      }
    },
    {
      "cell_type": "code",
      "source": [
        "for key,values in possessor2possessed.items():\n",
        "  possessor2possessed[key] = [v for v in values if len(v)>2]"
      ],
      "metadata": {
        "id": "IzPENNgYPt5b"
      },
      "execution_count": 14,
      "outputs": []
    },
    {
      "cell_type": "markdown",
      "source": [
        "### Rank by TF-IDF"
      ],
      "metadata": {
        "id": "qPlN_jb5RYJf"
      }
    },
    {
      "cell_type": "code",
      "execution_count": 15,
      "metadata": {
        "id": "2CiZ-rGQyUH5"
      },
      "outputs": [],
      "source": [
        "sets_of_words = list(possessor2possessed.values())"
      ]
    },
    {
      "cell_type": "code",
      "source": [
        "total_number_of_sets = len(sets_of_words)\n",
        "total_number_of_sets"
      ],
      "metadata": {
        "colab": {
          "base_uri": "https://localhost:8080/"
        },
        "id": "325g3Ya3QxeP",
        "outputId": "b306beb5-5950-4530-83ec-770d77dd6957"
      },
      "execution_count": 16,
      "outputs": [
        {
          "output_type": "execute_result",
          "data": {
            "text/plain": [
              "16254"
            ]
          },
          "metadata": {},
          "execution_count": 16
        }
      ]
    },
    {
      "cell_type": "code",
      "source": [
        "from collections import defaultdict\n",
        "\n",
        "word2doc_count = defaultdict(int)"
      ],
      "metadata": {
        "id": "QbDvRQjPPD7t"
      },
      "execution_count": 17,
      "outputs": []
    },
    {
      "cell_type": "code",
      "source": [
        "for s in sets_of_words:\n",
        "  s = list(set(s))\n",
        "  for t in s:\n",
        "    word2doc_count[t]+=1"
      ],
      "metadata": {
        "id": "89VhYJGLO7Sp"
      },
      "execution_count": 18,
      "outputs": []
    },
    {
      "cell_type": "code",
      "source": [
        "word2doc_count['friend']"
      ],
      "metadata": {
        "colab": {
          "base_uri": "https://localhost:8080/"
        },
        "id": "gTupUdqoP1LV",
        "outputId": "0fbd9245-e67c-48c6-ac7f-c3194438679d"
      },
      "execution_count": 19,
      "outputs": [
        {
          "output_type": "execute_result",
          "data": {
            "text/plain": [
              "255"
            ]
          },
          "metadata": {},
          "execution_count": 19
        }
      ]
    },
    {
      "cell_type": "code",
      "source": [
        "possessor2possessed_and_weights = {}"
      ],
      "metadata": {
        "id": "rp-8uHtIQY6N"
      },
      "execution_count": 20,
      "outputs": []
    },
    {
      "cell_type": "code",
      "source": [
        "for key,words in possessor2possessed.items():\n",
        "  if len(words)!=0: ## no empty sets\n",
        "    unique_words = list(set(words))\n",
        "    possessed_and_weights = []\n",
        "    for w in unique_words:\n",
        "      tf = words.count(w)/len(words)\n",
        "      idf = total_number_of_sets/word2doc_count[w]\n",
        "      tfidf = tf * idf\n",
        "      possessed_and_weights.append((w,tfidf))\n",
        "    possessor2possessed_and_weights[key]=possessed_and_weights"
      ],
      "metadata": {
        "id": "At0wCZGvQERF"
      },
      "execution_count": 21,
      "outputs": []
    },
    {
      "cell_type": "code",
      "source": [
        "possessor2possessed_and_weights['wolf']"
      ],
      "metadata": {
        "colab": {
          "base_uri": "https://localhost:8080/"
        },
        "id": "KU9yuTFjSLE0",
        "outputId": "45adff9e-931d-4d06-f089-4bcba720a71e"
      },
      "execution_count": 22,
      "outputs": [
        {
          "output_type": "execute_result",
          "data": {
            "text/plain": [
              "[('mantle', 1.7857613711272247),\n",
              " ('den', 7.488022113022114),\n",
              " ('shadow', 0.770697012802276),\n",
              " ('ears', 0.22254169062679702),\n",
              " ('charge', 0.717806041335453),\n",
              " ('tooth', 1.7432432432432432),\n",
              " ('road', 0.9386694386694386),\n",
              " ('bite', 2.7117117117117115),\n",
              " ('heart', 0.3636567030606766),\n",
              " ('eyes', 0.40994521957567864),\n",
              " ('head', 2.203832595136943),\n",
              " ('coat', 0.3453595104538501),\n",
              " ('belly', 3.6608108108108106),\n",
              " ('cubs', 9.152027027027026),\n",
              " ('press', 4.0675675675675675),\n",
              " ('howl', 73.21621621621621),\n",
              " ('lair', 4.437346437346437),\n",
              " ('brain', 0.45475910693301996),\n",
              " ('neck', 0.21597703898588855),\n",
              " ('attention', 0.18535750940814233),\n",
              " ('form', 0.4693347193347193),\n",
              " ('rapacity', 12.202702702702702),\n",
              " ('sire', 4.576013513513513),\n",
              " ('skin', 5.198784583399968),\n",
              " ('log', 5.22972972972973),\n",
              " ('challenge', 2.2186732186732185),\n",
              " ('path', 0.42567567567567566),\n",
              " ('attitude', 0.42321512263708794),\n",
              " ('fur', 0.8513513513513513),\n",
              " ('cage', 1.5253378378378377),\n",
              " ('joint', 20.91891891891892),\n",
              " ('shape', 1.2844950213371265),\n",
              " ('ribs', 1.1264033264033264),\n",
              " ('nose', 1.2002658396101018),\n",
              " ('howls', 10.45945945945946),\n",
              " ('surprise', 0.6537162162162162),\n",
              " ('fault', 0.44106154347118204),\n",
              " ('strength', 0.42321512263708794),\n",
              " ('fangs', 9.152027027027028),\n",
              " ('claws', 1.4942084942084943),\n",
              " ('helmets', 6.656019656019656),\n",
              " ('feet', 0.43581081081081086),\n",
              " ('foreleg', 9.152027027027026),\n",
              " ('complaint', 1.4643243243243242),\n",
              " ('nature', 0.4913840014511155),\n",
              " ('breast', 0.28600084459459457),\n",
              " ('harvest', 3.18331374853114),\n",
              " ('throat', 2.1996288133627186),\n",
              " ('mill', 1.92674253200569),\n",
              " ('forefoot', 9.152027027027026),\n",
              " ('breaks', 6.656019656019656),\n",
              " ('disguise', 2.5246971109040075),\n",
              " ('tail', 1.9066722972972971),\n",
              " ('snout', 3.85348506401138),\n",
              " ('robe', 1.045945945945946),\n",
              " ('memory', 0.4881081081081081),\n",
              " ('brush', 7.5740913327120225),\n",
              " ('virtues', 1.435612082670906),\n",
              " ('face', 0.23900832279504752),\n",
              " ('whereabouts', 1.408004158004158),\n",
              " ('clothing', 2.312091038406828),\n",
              " ('thoughts', 0.4045094818575482),\n",
              " ('cub', 16.27027027027027),\n",
              " ('teeth', 3.230127186009539),\n",
              " ('whelp', 8.135135135135135),\n",
              " ('dislike', 1.7027027027027026),\n",
              " ('hips', 8.135135135135135),\n",
              " ('eyelids', 2.2880067567567566),\n",
              " ('blood', 0.4785373608903021),\n",
              " ('flank', 1.5253378378378377),\n",
              " ('milk', 0.963371266002845),\n",
              " ('retreat', 0.9152027027027028),\n",
              " ('struggles', 1.4942084942084943),\n",
              " ('point', 0.20337837837837838),\n",
              " ('meal', 1.408004158004158),\n",
              " ('shoulders', 0.3537015276145711),\n",
              " ('suspicion', 1.8304054054054055),\n",
              " ('brushes', 7.321621621621622),\n",
              " ('pelt', 6.656019656019656),\n",
              " ('hunger', 1.8773388773388773),\n",
              " ('dress', 0.3239655584788328),\n",
              " ('mind', 0.15127317400044674),\n",
              " ('clothes', 0.33129509600097834),\n",
              " ('side', 0.2614864864864865),\n",
              " ('scent', 2.614864864864865),\n",
              " ('friend', 0.28712241653418125),\n",
              " ('body', 0.21534181240063593),\n",
              " ('embrace', 1.162162162162162),\n",
              " ('instinct', 0.7471042471042472),\n",
              " ('muzzle', 4.8810810810810805),\n",
              " ('hair', 0.5857297297297298),\n",
              " ('mouth', 4.228292121909143),\n",
              " ('ferocity', 6.101351351351351),\n",
              " ('hide', 1.0168918918918919),\n",
              " ('lameness', 8.135135135135135),\n",
              " ('theory', 0.8716216216216216),\n",
              " ('spite', 3.18331374853114),\n",
              " ('breath', 0.3679206845035991),\n",
              " ('paw', 2.2880067567567566),\n",
              " ('cry', 0.6686412439837097)]"
            ]
          },
          "metadata": {},
          "execution_count": 22
        }
      ]
    },
    {
      "cell_type": "code",
      "source": [
        "with open('possessor2possessed_and_weights.json','w') as f:\n",
        "  json.dump(possessor2possessed_and_weights,f)"
      ],
      "metadata": {
        "id": "NbdOyTd0m2RS"
      },
      "execution_count": 23,
      "outputs": []
    },
    {
      "cell_type": "code",
      "source": [
        "from google.colab import files\n",
        "files.download('/content/possessor2possessed_and_weights.json')"
      ],
      "metadata": {
        "id": "xx8H32zrrMIG",
        "colab": {
          "base_uri": "https://localhost:8080/",
          "height": 17
        },
        "outputId": "78e5f7ec-edc2-4578-e865-b230db726abd"
      },
      "execution_count": 24,
      "outputs": [
        {
          "output_type": "display_data",
          "data": {
            "text/plain": [
              "<IPython.core.display.Javascript object>"
            ],
            "application/javascript": [
              "\n",
              "    async function download(id, filename, size) {\n",
              "      if (!google.colab.kernel.accessAllowed) {\n",
              "        return;\n",
              "      }\n",
              "      const div = document.createElement('div');\n",
              "      const label = document.createElement('label');\n",
              "      label.textContent = `Downloading \"${filename}\": `;\n",
              "      div.appendChild(label);\n",
              "      const progress = document.createElement('progress');\n",
              "      progress.max = size;\n",
              "      div.appendChild(progress);\n",
              "      document.body.appendChild(div);\n",
              "\n",
              "      const buffers = [];\n",
              "      let downloaded = 0;\n",
              "\n",
              "      const channel = await google.colab.kernel.comms.open(id);\n",
              "      // Send a message to notify the kernel that we're ready.\n",
              "      channel.send({})\n",
              "\n",
              "      for await (const message of channel.messages) {\n",
              "        // Send a message to notify the kernel that we're ready.\n",
              "        channel.send({})\n",
              "        if (message.buffers) {\n",
              "          for (const buffer of message.buffers) {\n",
              "            buffers.push(buffer);\n",
              "            downloaded += buffer.byteLength;\n",
              "            progress.value = downloaded;\n",
              "          }\n",
              "        }\n",
              "      }\n",
              "      const blob = new Blob(buffers, {type: 'application/binary'});\n",
              "      const a = document.createElement('a');\n",
              "      a.href = window.URL.createObjectURL(blob);\n",
              "      a.download = filename;\n",
              "      div.appendChild(a);\n",
              "      a.click();\n",
              "      div.remove();\n",
              "    }\n",
              "  "
            ]
          },
          "metadata": {}
        },
        {
          "output_type": "display_data",
          "data": {
            "text/plain": [
              "<IPython.core.display.Javascript object>"
            ],
            "application/javascript": [
              "download(\"download_72532c05-aab4-4ffc-af17-bf4054fb607b\", \"possessor2possessed_and_weights.json\", 6627139)"
            ]
          },
          "metadata": {}
        }
      ]
    },
    {
      "cell_type": "markdown",
      "source": [
        "***"
      ],
      "metadata": {
        "id": "AeerXNIZo8ml"
      }
    }
  ],
  "metadata": {
    "accelerator": "GPU",
    "colab": {
      "collapsed_sections": [],
      "name": "processing_pairs.ipynb",
      "provenance": []
    },
    "kernelspec": {
      "display_name": "Python 3",
      "name": "python3"
    },
    "language_info": {
      "name": "python"
    }
  },
  "nbformat": 4,
  "nbformat_minor": 0
}
