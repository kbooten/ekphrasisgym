{
 "cells": [
  {
   "cell_type": "markdown",
   "metadata": {},
   "source": [
    "# Getting `(possessor,possessed)` Pairs\n",
    "\n",
    "I use SpaCy to find pairs like`(\"cat\",\"tail\")`, `(\"tree\",\"leaf\")`, and `(\"duke\",\"appenage\")` from Project Gutenberg texts."
   ]
  },
  {
   "cell_type": "code",
   "execution_count": 1,
   "metadata": {},
   "outputs": [],
   "source": [
    "#!/usr/bin/env python\n",
    "# -*- coding: utf-8 -*-"
   ]
  },
  {
   "cell_type": "code",
   "execution_count": 2,
   "metadata": {},
   "outputs": [],
   "source": [
    "from tqdm import tqdm\n",
    "import json\n",
    "from collections import defaultdict\n",
    "from nltk import ngrams\n",
    "from nltk.corpus import wordnet as wn"
   ]
  },
  {
   "cell_type": "code",
   "execution_count": 3,
   "metadata": {},
   "outputs": [],
   "source": [
    "import spacy\n",
    "nlp = spacy.load('en')"
   ]
  },
  {
   "cell_type": "code",
   "execution_count": 4,
   "metadata": {},
   "outputs": [
    {
     "name": "stdout",
     "output_type": "stream",
     "text": [
      "The det\n",
      "dog nsubj\n",
      "was ROOT\n",
      "small acomp\n",
      "and cc\n",
      "cold conj\n",
      ". punct\n"
     ]
    }
   ],
   "source": [
    "for a in nlp(u\"The dog was small and cold.\"):\n",
    "    print(a,a.dep_)"
   ]
  },
  {
   "cell_type": "markdown",
   "metadata": {},
   "source": [
    "Load in some randomly chosen Gutenberg texts."
   ]
  },
  {
   "cell_type": "code",
   "execution_count": 5,
   "metadata": {},
   "outputs": [],
   "source": [
    "import os\n",
    "gb_files = [f for f in os.listdir(\"/Users/kyle/Documents/downloading_gutenberg/data/\") if f.startswith('gb_')]"
   ]
  },
  {
   "cell_type": "code",
   "execution_count": 6,
   "metadata": {},
   "outputs": [
    {
     "data": {
      "text/plain": [
       "19507"
      ]
     },
     "execution_count": 6,
     "metadata": {},
     "output_type": "execute_result"
    }
   ],
   "source": [
    "len(gb_files)"
   ]
  },
  {
   "cell_type": "markdown",
   "metadata": {},
   "source": [
    "Define a function to extract `(possessor,possessed)` relations."
   ]
  },
  {
   "cell_type": "code",
   "execution_count": 7,
   "metadata": {},
   "outputs": [],
   "source": [
    "from spacy import displacy"
   ]
  },
  {
   "cell_type": "code",
   "execution_count": 8,
   "metadata": {},
   "outputs": [
    {
     "data": {
      "text/plain": [
       "spacy.tokens.token.Token"
      ]
     },
     "execution_count": 8,
     "metadata": {},
     "output_type": "execute_result"
    }
   ],
   "source": [
    "type(nlp(\"The wifes of the man was here.\")[1])"
   ]
  },
  {
   "cell_type": "markdown",
   "metadata": {},
   "source": [
    "Extracting `(possessed,possessor)` tuples conservatively: trying to get relationships like \"the scales of the fish\" also gets \"ball of yarn.\""
   ]
  },
  {
   "cell_type": "code",
   "execution_count": 9,
   "metadata": {},
   "outputs": [
    {
     "data": {
      "text/plain": [
       "[('cat', 'legs'), ('king', 'mansions')]"
      ]
     },
     "execution_count": 9,
     "metadata": {},
     "output_type": "execute_result"
    }
   ],
   "source": [
    "def extract_possessor_possessed(tempspacy):\n",
    "    \"\"\"\n",
    "    For a sentence like \"The dog's fur, the teeth of the cat.\" returns [(dog, fur),(cat,teeth)].\n",
    "    lemmatizes the FIRST noun.  \n",
    "    \"\"\"\n",
    "    \n",
    "    nouns = [\"NN\",\"NNS\"]\n",
    "    possessor_possessed_tuples = []\n",
    "    \n",
    "    \n",
    "    ### the the noun's possessed, the cat's meow\n",
    "    ### don't go for the meow of the cat because too ambiguous (the ball of yarn)\n",
    "    for token in tempspacy:\n",
    "        try:\n",
    "            if (token.tag_ in nouns) and (token.head.tag_ in nouns): ### find a noun and its noun head\n",
    "                if token.dep_==\"poss\": ## make sure the dep that connects them is `poss`\n",
    "                    possessor_possessed_tuples.append((token.text.lower(),token.head.text.lower()))\n",
    "#             if (token.tag_ in nouns) and (token.dep_==\"pobj\") and (token.head.lemma_==\"of\") and (token.head.head.tag_ in nouns):\n",
    "#                 possessor_possessed_tuples.append((token.head.head.text,token.text))\n",
    "        except:\n",
    "            pass\n",
    "\n",
    "\n",
    "    return possessor_possessed_tuples\n",
    "\n",
    "extract_possessor_possessed(nlp(u\"Beyond the old cat's stinky legs and ugly face.  A ball of yarn. The shining scales of the fish.  The king's mansions.  Your friend is here.\"))"
   ]
  },
  {
   "cell_type": "markdown",
   "metadata": {},
   "source": [
    "I want to loop through a bunch of Gutenberg texts that I've randomly downloaded with the Gutenberg python package.  "
   ]
  },
  {
   "cell_type": "code",
   "execution_count": 10,
   "metadata": {},
   "outputs": [],
   "source": [
    "from gutenberg.cleanup import strip_headers"
   ]
  },
  {
   "cell_type": "code",
   "execution_count": 11,
   "metadata": {
    "scrolled": true
   },
   "outputs": [
    {
     "name": "stderr",
     "output_type": "stream",
     "text": [
      "100%|██████████| 19507/19507 [18:59:54<00:00,  3.51s/it]   \n"
     ]
    }
   ],
   "source": [
    "possessor2possessed_tuples_with_filenumber = []\n",
    "\n",
    "for fy in tqdm(gb_files):\n",
    "    with open(\"/Users/kyle/Documents/downloading_gutenberg/data/\"+fy,'r') as f:\n",
    "        tempdata = f.read()\n",
    "        filenumber = fy.lstrip(\"gb_\").rstrip(\".txt\")\n",
    "        if \"Language: English\" in tempdata[:1000]:  ## make sure english \n",
    "            tempdata = strip_headers(tempdata)\n",
    "            tempspacy = nlp(tempdata[:200000])### limit to first n chars\n",
    "            ## (king,kingdom)\n",
    "            try:\n",
    "                for pp in extract_possessor_possessed(tempspacy):\n",
    "                    possessor2possessed_tuples_with_filenumber.append((filenumber,pp))\n",
    "            except:\n",
    "                pass"
   ]
  },
  {
   "cell_type": "markdown",
   "metadata": {},
   "source": [
    "`(possessor,possessed)` tuples?"
   ]
  },
  {
   "cell_type": "code",
   "execution_count": 12,
   "metadata": {},
   "outputs": [
    {
     "data": {
      "text/plain": [
       "[('2068', ('captain', 'property')),\n",
       " ('2068', ('dealer', 'wagon')),\n",
       " ('2068', ('takin', 'carpets')),\n",
       " ('2068', ('body', 'eyesight')),\n",
       " ('2068', ('praisin', 'beliefs')),\n",
       " ('2068', ('doctor', 'bills')),\n",
       " ('2068', ('month', 'rent')),\n",
       " ('2068', ('girl', 'eyes')),\n",
       " ('2068', ('daughter', 'summer')),\n",
       " ('2068', ('father', 'money')),\n",
       " ('2068', ('law', 'funeral')),\n",
       " ('2068', ('settin', 'takin')),\n",
       " ('2068', ('sister', 'orders')),\n",
       " ('2068', ('schooner', 'sails')),\n",
       " ('2068', ('stovepipe', 'loose')),\n",
       " ('2068', ('brother', 'knees')),\n",
       " ('2068', ('brother', 'money')),\n",
       " ('2068', ('morning', 'duties')),\n",
       " ('2068', ('world', 'comin')),\n",
       " ('2068', ('doin', 'years')),\n",
       " ('2068', ('pastor', 'tenantry')),\n",
       " ('2068', ('settin', 'room')),\n",
       " ('2068', ('settin', 'room')),\n",
       " ('2068', ('lookin', 'ones')),\n",
       " ('2068', ('man', 'voice')),\n",
       " ('2068', ('week', 'cruise')),\n",
       " ('2068', ('unknown', 'stock')),\n",
       " ('2068', ('dressin', 'room')),\n",
       " ('2068', ('stranger', 'answer')),\n",
       " ('2068', ('coastin', 'schooner')),\n",
       " ('2068', ('way', 'tis')),\n",
       " ('2068', ('companion', 'entertainment')),\n",
       " ('2068', ('introducin', 'anybody')),\n",
       " ('2068', ('family', 'position')),\n",
       " ('2068', ('ministers', 'calls')),\n",
       " ('2068', ('mother', 'son')),\n",
       " ('2068', ('children', 'child')),\n",
       " ('2068', ('housekeeper', 'presence')),\n",
       " ('2068', ('sittin', 'room')),\n",
       " ('2068', ('housekeeper', 'qualifications')),\n",
       " ('2068', ('meetin', 'circle')),\n",
       " ('2068', ('minister', 'calls')),\n",
       " ('2068', ('pennant', 'flyin')),\n",
       " ('2068', ('saints', 'rest')),\n",
       " ('2068', ('housekeeper', 'estimation')),\n",
       " ('2068', ('nigger', 'pocket')),\n",
       " ('2068', ('man', 'family')),\n",
       " ('2068', ('housekeeper', 'advice')),\n",
       " ('2068', ('man', 'cane')),\n",
       " ('2068', ('mother', 'sleeve')),\n",
       " ('2068', ('captain', 'expression')),\n",
       " ('2068', ('meetin', 'house')),\n",
       " ('2068', ('evening', 'performance')),\n",
       " ('2068', ('leader', 'denunciation')),\n",
       " ('2068', ('girl', 'uncle')),\n",
       " ('2068', ('speaker', 'table')),\n",
       " ('2068', ('keeper', 'references')),\n",
       " ('2068', ('mind', 'eye')),\n",
       " ('2068', ('seaman', 'stride')),\n",
       " ('2068', ('seceder', 'dwelling')),\n",
       " ('2068', ('week', 'milk')),\n",
       " ('2068', ('man', 'boot')),\n",
       " ('2068', ('brother', 'sickness')),\n",
       " ('2068', ('housekeeper', 'position')),\n",
       " ('2068', ('ship', 'pump')),\n",
       " ('2068', ('chap', 'spunk')),\n",
       " ('2068', ('parson', 'wife')),\n",
       " ('2068', ('night', 'foolishness')),\n",
       " ('2068', ('religion', 'thing')),\n",
       " ('2068', ('yesterday', 'fog')),\n",
       " ('2068', ('officers', 'counsel')),\n",
       " ('2068', ('packet', 'name')),\n",
       " ('2068', ('playin', 'jack')),\n",
       " ('2068', ('tootin', 'horn')),\n",
       " ('2068', ('excitin', 'thing')),\n",
       " ('2068', ('buzzin', 'past')),\n",
       " ('2068', ('howlin', 'blowin')),\n",
       " ('2068', ('tellin', 'folks')),\n",
       " ('2068', ('minister', 'visit')),\n",
       " ('2068', ('man', 'course')),\n",
       " ('2068', ('son', 'return')),\n",
       " ('2068', ('parson', 'walk')),\n",
       " ('2068', ('fisherman', 'boots')),\n",
       " ('2068', ('playin', 'steamboat')),\n",
       " ('2068', ('minister', 'feelings')),\n",
       " ('2068', ('mornin', 'ride')),\n",
       " ('2068', ('captain', 'face')),\n",
       " ('2068', ('father', 'meeting')),\n",
       " ('2068', ('morning', 'adventure')),\n",
       " ('2068', ('housekeeper', 'reply')),\n",
       " ('2068', ('meetin', 'house')),\n",
       " ('2068', ('somebody', 'comin')),\n",
       " ('2068', ('minister', 'clothes')),\n",
       " ('2068', ('mother', 'day')),\n",
       " ('2068', ('people', 'confidence')),\n",
       " ('21847', ('boy', 'benefit')),\n",
       " ('21847', ('doctor', 'wife')),\n",
       " ('21847', ('summer', 'day')),\n",
       " ('21847', ('father', 'eyes')),\n",
       " ('21847', ('mother', 'softness'))]"
      ]
     },
     "execution_count": 12,
     "metadata": {},
     "output_type": "execute_result"
    }
   ],
   "source": [
    "possessor2possessed_tuples_with_filenumber[:100]"
   ]
  },
  {
   "cell_type": "code",
   "execution_count": 13,
   "metadata": {},
   "outputs": [
    {
     "name": "stdout",
     "output_type": "stream",
     "text": [
      "583321\n"
     ]
    }
   ],
   "source": [
    "print(len(possessor2possessed_tuples_with_filenumber))"
   ]
  },
  {
   "cell_type": "code",
   "execution_count": 15,
   "metadata": {},
   "outputs": [],
   "source": [
    "with open(\"possessor2possessed_tuples_with_filenumber.json\",\"w\") as f:\n",
    "    json.dump(possessor2possessed_tuples_with_filenumber,f)"
   ]
  },
  {
   "cell_type": "markdown",
   "metadata": {},
   "source": [
    "***"
   ]
  }
 ],
 "metadata": {
  "kernelspec": {
   "display_name": "Python 3",
   "language": "python",
   "name": "python3"
  },
  "language_info": {
   "codemirror_mode": {
    "name": "ipython",
    "version": 3
   },
   "file_extension": ".py",
   "mimetype": "text/x-python",
   "name": "python",
   "nbconvert_exporter": "python",
   "pygments_lexer": "ipython3",
   "version": "3.8.3"
  }
 },
 "nbformat": 4,
 "nbformat_minor": 2
}
