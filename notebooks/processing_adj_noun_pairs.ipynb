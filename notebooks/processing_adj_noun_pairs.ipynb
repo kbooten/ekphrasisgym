{
 "cells": [
  {
   "cell_type": "markdown",
   "metadata": {
    "id": "8lhwKdiElb-W"
   },
   "source": [
    "# Recursive Ekphrasis Gym\n",
    "\n",
    "## Processing `(adj,noun)` pairs"
   ]
  },
  {
   "cell_type": "code",
   "execution_count": 1,
   "metadata": {
    "colab": {
     "base_uri": "https://localhost:8080/"
    },
    "id": "4QAPt3jvSBfk",
    "outputId": "74d35d62-7731-47c2-946a-d540b982ee80"
   },
   "outputs": [],
   "source": [
    "#! wget https://github.com/kbooten/ekphrasisgym/blob/main/adj2nouns_tuples_with_count.json?raw=true"
   ]
  },
  {
   "cell_type": "code",
   "execution_count": 2,
   "metadata": {
    "id": "t8Lo-ixmSHRY"
   },
   "outputs": [],
   "source": [
    "import json\n",
    "\n",
    "with open('adj2nouns_tuples_with_count.json','r') as f:\n",
    "  adj2noun_tuples_with_count = json.load(f)"
   ]
  },
  {
   "cell_type": "code",
   "execution_count": 3,
   "metadata": {
    "colab": {
     "base_uri": "https://localhost:8080/"
    },
    "id": "QG__OfRVSZou",
    "outputId": "270ff677-3b3e-4092-eff7-6511c2dc015a"
   },
   "outputs": [
    {
     "data": {
      "text/plain": [
       "[[['instant', 'disaster', 1], 5],\n",
       " [['high', 'heaven', 1], 277],\n",
       " [['good', 'speed', 1], 596],\n",
       " [['wild', 'boars', 2], 433]]"
      ]
     },
     "execution_count": 3,
     "metadata": {},
     "output_type": "execute_result"
    }
   ],
   "source": [
    "adj2noun_tuples_with_count[:4]"
   ]
  },
  {
   "cell_type": "code",
   "execution_count": 4,
   "metadata": {
    "colab": {
     "base_uri": "https://localhost:8080/"
    },
    "id": "RXt6hJlEaIba",
    "outputId": "f341fd58-01d0-4178-d42d-8eaf7b5bd058"
   },
   "outputs": [
    {
     "data": {
      "text/plain": [
       "[['little', 'sherbet', 1],\n",
       " ['iced', 'sherbet', 1],\n",
       " ['rich', 'sherbet', 1],\n",
       " ['exquisite', 'sherbet', 1],\n",
       " ['excellent', 'sherbet', 1],\n",
       " ['turkish', 'sherbet', 1],\n",
       " ['frozen', 'sherbet', 1],\n",
       " ['nice', 'sherbet', 1],\n",
       " ['pink', 'sherbet', 1],\n",
       " ['cool', 'sherbet', 1],\n",
       " ['drunk', 'sherbet', 1]]"
      ]
     },
     "execution_count": 4,
     "metadata": {},
     "output_type": "execute_result"
    }
   ],
   "source": [
    "[n for n,c in adj2noun_tuples_with_count if n[1]==\"sherbet\"]#.count(1)"
   ]
  },
  {
   "cell_type": "markdown",
   "metadata": {
    "id": "9lEJyxQolx_X"
   },
   "source": [
    "Using WordNet to make sure a token is a word."
   ]
  },
  {
   "cell_type": "code",
   "execution_count": 5,
   "metadata": {
    "colab": {
     "base_uri": "https://localhost:8080/"
    },
    "id": "OAyzCbHUAfb3",
    "outputId": "240f5907-f4b6-439a-9af5-6e324bc90880"
   },
   "outputs": [
    {
     "name": "stderr",
     "output_type": "stream",
     "text": [
      "[nltk_data] Downloading package wordnet to /Users/kyle/nltk_data...\n",
      "[nltk_data]   Package wordnet is already up-to-date!\n",
      "[nltk_data] Downloading package omw-1.4 to /Users/kyle/nltk_data...\n",
      "[nltk_data]   Package omw-1.4 is already up-to-date!\n"
     ]
    }
   ],
   "source": [
    "import nltk\n",
    "nltk.download('wordnet')\n",
    "nltk.download('omw-1.4')\n",
    "from nltk.corpus import wordnet as wn"
   ]
  },
  {
   "cell_type": "code",
   "execution_count": 6,
   "metadata": {
    "colab": {
     "base_uri": "https://localhost:8080/"
    },
    "id": "3P_dXfcGAlpT",
    "outputId": "477629fd-d99b-4360-e163-d5bba2eafa11"
   },
   "outputs": [
    {
     "data": {
      "text/plain": [
       "[Synset('sherbert.n.01')]"
      ]
     },
     "execution_count": 6,
     "metadata": {},
     "output_type": "execute_result"
    }
   ],
   "source": [
    "wn.synsets(\"sherbet\",pos=wn.NOUN)"
   ]
  },
  {
   "cell_type": "code",
   "execution_count": 7,
   "metadata": {
    "id": "b2s4aqMGZRlK"
   },
   "outputs": [],
   "source": [
    "from collections import defaultdict\n",
    "\n",
    "noun2adjs = defaultdict(list)"
   ]
  },
  {
   "cell_type": "code",
   "execution_count": 8,
   "metadata": {
    "id": "aPYQXHMMTz7O"
   },
   "outputs": [],
   "source": [
    "min_count = 4\n",
    "\n",
    "for tup,count in adj2noun_tuples_with_count:\n",
    "  adj,noun,num = tup\n",
    "  if count>=min_count: ### don't add very rare words\n",
    "    if (adj.isalpha() and noun.isalpha() and adj.islower() and noun.islower()):\n",
    "      if wn.synsets(noun,pos=wn.NOUN)!=[]:\n",
    "        noun_plus_num = noun+\"~\"+str(num)\n",
    "        noun2adjs[noun_plus_num]+=[adj]*count"
   ]
  },
  {
   "cell_type": "markdown",
   "metadata": {
    "id": "fG9IjRjzP5tI"
   },
   "source": [
    "Get rid of values that are the same as the key."
   ]
  },
  {
   "cell_type": "code",
   "execution_count": 9,
   "metadata": {
    "id": "Dy_iJ3aPPfhB"
   },
   "outputs": [],
   "source": [
    "for key,values in noun2adjs.items():\n",
    "  noun2adjs[key] = [v for v in values if v.split(\"~\")[0]!=key]"
   ]
  },
  {
   "cell_type": "code",
   "execution_count": 10,
   "metadata": {
    "colab": {
     "base_uri": "https://localhost:8080/"
    },
    "id": "HTEzwGpKPsDN",
    "outputId": "f625ec5a-4a5c-44a2-9b50-ee66e2848ba8"
   },
   "outputs": [
    {
     "data": {
      "text/plain": [
       "['hungry', 'hungry', 'hungry']"
      ]
     },
     "execution_count": 10,
     "metadata": {},
     "output_type": "execute_result"
    }
   ],
   "source": [
    "noun2adjs[\"pig~1\"][:3]"
   ]
  },
  {
   "cell_type": "markdown",
   "metadata": {
    "id": "a-Tr00YrQEa3"
   },
   "source": [
    "Sometimes a value is just a letter.  Filter out really short words."
   ]
  },
  {
   "cell_type": "code",
   "execution_count": 11,
   "metadata": {
    "id": "IzPENNgYPt5b"
   },
   "outputs": [],
   "source": [
    "for key,values in noun2adjs.items():\n",
    "  noun2adjs[key] = [v for v in values if len(v)>2]"
   ]
  },
  {
   "cell_type": "markdown",
   "metadata": {
    "id": "qPlN_jb5RYJf"
   },
   "source": [
    "### Rank by TF-IDF"
   ]
  },
  {
   "cell_type": "code",
   "execution_count": 12,
   "metadata": {
    "id": "2CiZ-rGQyUH5"
   },
   "outputs": [],
   "source": [
    "sets_of_words = list(noun2adjs.values())"
   ]
  },
  {
   "cell_type": "code",
   "execution_count": 13,
   "metadata": {
    "colab": {
     "base_uri": "https://localhost:8080/"
    },
    "id": "325g3Ya3QxeP",
    "outputId": "865b061e-8cbf-4700-cf8e-91c8255aff0c"
   },
   "outputs": [
    {
     "data": {
      "text/plain": [
       "25092"
      ]
     },
     "execution_count": 13,
     "metadata": {},
     "output_type": "execute_result"
    }
   ],
   "source": [
    "total_number_of_sets = len(sets_of_words)\n",
    "total_number_of_sets"
   ]
  },
  {
   "cell_type": "code",
   "execution_count": 14,
   "metadata": {
    "id": "QbDvRQjPPD7t"
   },
   "outputs": [],
   "source": [
    "from collections import defaultdict\n",
    "\n",
    "word2doc_count = defaultdict(int)"
   ]
  },
  {
   "cell_type": "code",
   "execution_count": 15,
   "metadata": {
    "id": "89VhYJGLO7Sp"
   },
   "outputs": [],
   "source": [
    "for s in sets_of_words:\n",
    "  s = list(set(s))\n",
    "  for t in s:\n",
    "    word2doc_count[t]+=1"
   ]
  },
  {
   "cell_type": "code",
   "execution_count": 16,
   "metadata": {
    "colab": {
     "base_uri": "https://localhost:8080/"
    },
    "id": "gTupUdqoP1LV",
    "outputId": "c6d5997f-4465-4d3b-bc0a-3efd2e4a0f21"
   },
   "outputs": [
    {
     "data": {
      "text/plain": [
       "0"
      ]
     },
     "execution_count": 16,
     "metadata": {},
     "output_type": "execute_result"
    }
   ],
   "source": [
    "word2doc_count['eat']"
   ]
  },
  {
   "cell_type": "code",
   "execution_count": 17,
   "metadata": {
    "id": "rp-8uHtIQY6N"
   },
   "outputs": [],
   "source": [
    "noun2adjs_and_weights = {}"
   ]
  },
  {
   "cell_type": "code",
   "execution_count": 18,
   "metadata": {
    "id": "At0wCZGvQERF"
   },
   "outputs": [],
   "source": [
    "for key,words in noun2adjs.items():\n",
    "  if len(words)!=0: ## no empty sets\n",
    "    unique_words = list(set(words))\n",
    "    adjs_and_weights = []\n",
    "    for w in unique_words:\n",
    "      tf = words.count(w)/len(words)\n",
    "      idf = total_number_of_sets/word2doc_count[w]\n",
    "      tfidf = tf * idf\n",
    "      adjs_and_weights.append((w,tfidf))\n",
    "    adjs_and_weights.sort(key=lambda x:x[1], reverse=True)\n",
    "    noun2adjs_and_weights[key]=adjs_and_weights[:20]"
   ]
  },
  {
   "cell_type": "markdown",
   "metadata": {
    "id": "M68tzYtegD-0"
   },
   "source": [
    "Make dictionary more concise.\n",
    "\n",
    "```\n",
    "dict[key] = {\n",
    "  \"num\":1, ## or 2\n",
    "  \"adjs\":[(\"fulsome\",11.45),...]\n",
    "}\n",
    "```"
   ]
  },
  {
   "cell_type": "markdown",
   "metadata": {
    "id": "hmjj-vV6kXpB"
   },
   "source": [
    "First, only keep singular *or* plural of noun, whichever has more results (more likely to be correct)."
   ]
  },
  {
   "cell_type": "code",
   "execution_count": 19,
   "metadata": {
    "id": "lWcjXauhkipF"
   },
   "outputs": [],
   "source": [
    "all_keys_without_number = list(set([n.split(\"~\")[0] for n in noun2adjs_and_weights]))"
   ]
  },
  {
   "cell_type": "code",
   "execution_count": 20,
   "metadata": {
    "id": "Max1WCJHksI5"
   },
   "outputs": [],
   "source": [
    "for k in all_keys_without_number:\n",
    "  if ((k+\"~1\" in noun2adjs_and_weights) and (k+\"~2\" in noun2adjs_and_weights)):\n",
    "    if len(noun2adjs_and_weights[k+\"~1\"])>len(noun2adjs_and_weights[k+\"~2\"]):\n",
    "      del noun2adjs_and_weights[k+\"~2\"]\n",
    "    else:\n",
    "      del noun2adjs_and_weights[k+\"~1\"]"
   ]
  },
  {
   "cell_type": "code",
   "execution_count": 21,
   "metadata": {
    "id": "gSVxcI4ygGnB"
   },
   "outputs": [],
   "source": [
    "noun2adjs_and_weights_reformatted = {}\n",
    "\n",
    "for key,values in noun2adjs_and_weights.items():\n",
    "  # print(key)\n",
    "  # print(key.split(\"~\"))\n",
    "  key,num = key.split(\"~\")\n",
    "  noun2adjs_and_weights_reformatted[key]={}\n",
    "  noun2adjs_and_weights_reformatted[key][\"num\"]=num\n",
    "  noun2adjs_and_weights_reformatted[key][\"verbs\"]=values"
   ]
  },
  {
   "cell_type": "code",
   "execution_count": 22,
   "metadata": {
    "colab": {
     "base_uri": "https://localhost:8080/"
    },
    "id": "GsTh6N7Bjokl",
    "outputId": "1fe5e079-7aab-4da0-d1bb-a8f37239062d"
   },
   "outputs": [
    {
     "data": {
      "text/plain": [
       "{'num': '1',\n",
       " 'verbs': [('mirthless', 18.81848862802641),\n",
       "  ('unforced', 3.6818782098312544),\n",
       "  ('forced', 3.4235007915974824),\n",
       "  ('hearty', 3.3002829892044865),\n",
       "  ('hysteric', 3.0682318415260457),\n",
       "  ('sneering', 3.0572738706634524),\n",
       "  ('rippling', 2.761408657373441),\n",
       "  ('unmirthful', 2.761408657373441),\n",
       "  ('ringing', 2.680665714175387),\n",
       "  ('grating', 2.09197625558594),\n",
       "  ('vexed', 2.0710564930300808),\n",
       "  ('derisive', 2.0016560109003247),\n",
       "  ('scornful', 1.9082905355832722),\n",
       "  ('screechy', 1.8409391049156272),\n",
       "  ('unconvincing', 1.8409391049156272),\n",
       "  ('embarrassed', 1.678503301540719),\n",
       "  ('loud', 1.5284741931902024),\n",
       "  ('hysterical', 1.3716801173881144),\n",
       "  ('gleeful', 1.3648341639891721),\n",
       "  ('merry', 1.3386096845194424)]}"
      ]
     },
     "execution_count": 22,
     "metadata": {},
     "output_type": "execute_result"
    }
   ],
   "source": [
    "noun2adjs_and_weights_reformatted[\"laugh\"]"
   ]
  },
  {
   "cell_type": "code",
   "execution_count": 23,
   "metadata": {
    "id": "NbdOyTd0m2RS"
   },
   "outputs": [],
   "source": [
    "with open('../noun2adjs_and_weights.json','w') as f:\n",
    "  json.dump(noun2adjs_and_weights_reformatted,f)"
   ]
  },
  {
   "cell_type": "code",
   "execution_count": 24,
   "metadata": {
    "colab": {
     "base_uri": "https://localhost:8080/",
     "height": 17
    },
    "id": "xx8H32zrrMIG",
    "outputId": "e686d76e-bd06-47e4-d15c-a5142c200f33"
   },
   "outputs": [],
   "source": [
    "# from google.colab import files\n",
    "# files.download('/content/noun2adjs_and_weights.json')"
   ]
  },
  {
   "cell_type": "markdown",
   "metadata": {
    "id": "AeerXNIZo8ml"
   },
   "source": [
    "***"
   ]
  }
 ],
 "metadata": {
  "colab": {
   "collapsed_sections": [],
   "name": "processing_adj_noun_pairs.ipynb",
   "provenance": []
  },
  "gpuClass": "standard",
  "kernelspec": {
   "display_name": "Python 3 (ipykernel)",
   "language": "python",
   "name": "python3"
  },
  "language_info": {
   "codemirror_mode": {
    "name": "ipython",
    "version": 3
   },
   "file_extension": ".py",
   "mimetype": "text/x-python",
   "name": "python",
   "nbconvert_exporter": "python",
   "pygments_lexer": "ipython3",
   "version": "3.9.12"
  }
 },
 "nbformat": 4,
 "nbformat_minor": 1
}
