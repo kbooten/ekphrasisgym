{
 "cells": [
  {
   "cell_type": "markdown",
   "metadata": {
    "id": "8lhwKdiElb-W"
   },
   "source": [
    "# Recursive Ekphrasis Gym\n",
    "\n",
    "## Processing `(adj,noun)` pairs"
   ]
  },
  {
   "cell_type": "code",
   "execution_count": null,
   "metadata": {
    "colab": {
     "base_uri": "https://localhost:8080/"
    },
    "id": "4QAPt3jvSBfk",
    "outputId": "74d35d62-7731-47c2-946a-d540b982ee80"
   },
   "outputs": [
    {
     "name": "stdout",
     "output_type": "stream",
     "text": [
      "--2022-08-12 10:47:50--  https://github.com/kbooten/ekphrasisgym/blob/main/adj2nouns_tuples_with_count.json?raw=true\n",
      "Resolving github.com (github.com)... 140.82.114.3\n",
      "Connecting to github.com (github.com)|140.82.114.3|:443... connected.\n",
      "HTTP request sent, awaiting response... 302 Found\n",
      "Location: https://github.com/kbooten/ekphrasisgym/raw/main/adj2nouns_tuples_with_count.json [following]\n",
      "--2022-08-12 10:47:50--  https://github.com/kbooten/ekphrasisgym/raw/main/adj2nouns_tuples_with_count.json\n",
      "Reusing existing connection to github.com:443.\n",
      "HTTP request sent, awaiting response... 302 Found\n",
      "Location: https://media.githubusercontent.com/media/kbooten/ekphrasisgym/main/adj2nouns_tuples_with_count.json [following]\n",
      "--2022-08-12 10:47:50--  https://media.githubusercontent.com/media/kbooten/ekphrasisgym/main/adj2nouns_tuples_with_count.json\n",
      "Resolving media.githubusercontent.com (media.githubusercontent.com)... 185.199.109.133, 185.199.110.133, 185.199.108.133, ...\n",
      "Connecting to media.githubusercontent.com (media.githubusercontent.com)|185.199.109.133|:443... connected.\n",
      "HTTP request sent, awaiting response... 200 OK\n",
      "Length: 68155446 (65M) [application/octet-stream]\n",
      "Saving to: ‘adj2nouns_tuples_with_count.json?raw=true.2’\n",
      "\n",
      "adj2nouns_tuples_wi 100%[===================>]  65.00M   189MB/s    in 0.3s    \n",
      "\n",
      "2022-08-12 10:47:50 (189 MB/s) - ‘adj2nouns_tuples_with_count.json?raw=true.2’ saved [68155446/68155446]\n",
      "\n"
     ]
    }
   ],
   "source": [
    "! wget https://github.com/kbooten/ekphrasisgym/blob/main/adj2nouns_tuples_with_count.json?raw=true"
   ]
  },
  {
   "cell_type": "code",
   "execution_count": null,
   "metadata": {
    "id": "t8Lo-ixmSHRY"
   },
   "outputs": [],
   "source": [
    "import json\n",
    "\n",
    "with open('adj2nouns_tuples_with_count.json?raw=true','r') as f:\n",
    "  adj2noun_tuples_with_count = json.load(f)"
   ]
  },
  {
   "cell_type": "code",
   "execution_count": null,
   "metadata": {
    "colab": {
     "base_uri": "https://localhost:8080/"
    },
    "id": "QG__OfRVSZou",
    "outputId": "270ff677-3b3e-4092-eff7-6511c2dc015a"
   },
   "outputs": [
    {
     "data": {
      "text/plain": [
       "[[['holy', 'writ', 1], 8],\n",
       " [['vulgar', 'thief', 1], 6],\n",
       " [['too', 'base', 1], 5],\n",
       " [['cold', 'fountain', 1], 10]]"
      ]
     },
     "execution_count": 3,
     "metadata": {},
     "output_type": "execute_result"
    }
   ],
   "source": [
    "adj2noun_tuples_with_count[:4]"
   ]
  },
  {
   "cell_type": "code",
   "execution_count": null,
   "metadata": {
    "colab": {
     "base_uri": "https://localhost:8080/"
    },
    "id": "RXt6hJlEaIba",
    "outputId": "f341fd58-01d0-4178-d42d-8eaf7b5bd058"
   },
   "outputs": [
    {
     "data": {
      "text/plain": [
       "[['little', 'sherbet', 1],\n",
       " ['rich', 'sherbet', 1],\n",
       " ['excellent', 'sherbet', 1],\n",
       " ['exquisite', 'sherbet', 1],\n",
       " ['turkish', 'sherbet', 1],\n",
       " ['iced', 'sherbet', 1],\n",
       " ['nice', 'sherbet', 1],\n",
       " ['pink', 'sherbet', 1],\n",
       " ['cool', 'sherbet', 1],\n",
       " ['drunk', 'sherbet', 1]]"
      ]
     },
     "execution_count": 4,
     "metadata": {},
     "output_type": "execute_result"
    }
   ],
   "source": [
    "[n for n,c in adj2noun_tuples_with_count if n[1]==\"sherbet\"]#.count(1)"
   ]
  },
  {
   "cell_type": "markdown",
   "metadata": {
    "id": "9lEJyxQolx_X"
   },
   "source": [
    "Using WordNet to make sure a token is a word."
   ]
  },
  {
   "cell_type": "code",
   "execution_count": null,
   "metadata": {
    "colab": {
     "base_uri": "https://localhost:8080/"
    },
    "id": "OAyzCbHUAfb3",
    "outputId": "240f5907-f4b6-439a-9af5-6e324bc90880"
   },
   "outputs": [
    {
     "name": "stderr",
     "output_type": "stream",
     "text": [
      "[nltk_data] Downloading package wordnet to /root/nltk_data...\n",
      "[nltk_data]   Package wordnet is already up-to-date!\n",
      "[nltk_data] Downloading package omw-1.4 to /root/nltk_data...\n",
      "[nltk_data]   Package omw-1.4 is already up-to-date!\n"
     ]
    }
   ],
   "source": [
    "import nltk\n",
    "nltk.download('wordnet')\n",
    "nltk.download('omw-1.4')\n",
    "from nltk.corpus import wordnet as wn"
   ]
  },
  {
   "cell_type": "code",
   "execution_count": null,
   "metadata": {
    "colab": {
     "base_uri": "https://localhost:8080/"
    },
    "id": "3P_dXfcGAlpT",
    "outputId": "477629fd-d99b-4360-e163-d5bba2eafa11"
   },
   "outputs": [
    {
     "data": {
      "text/plain": [
       "[Synset('sherbert.n.01')]"
      ]
     },
     "execution_count": 6,
     "metadata": {},
     "output_type": "execute_result"
    }
   ],
   "source": [
    "wn.synsets(\"sherbet\",pos=wn.NOUN)"
   ]
  },
  {
   "cell_type": "code",
   "execution_count": null,
   "metadata": {
    "id": "b2s4aqMGZRlK"
   },
   "outputs": [],
   "source": [
    "from collections import defaultdict\n",
    "\n",
    "noun2adjs = defaultdict(list)"
   ]
  },
  {
   "cell_type": "code",
   "execution_count": null,
   "metadata": {
    "id": "aPYQXHMMTz7O"
   },
   "outputs": [],
   "source": [
    "min_count = 3\n",
    "\n",
    "for tup,count in adj2noun_tuples_with_count:\n",
    "  adj,noun,num = tup\n",
    "  if count>=min_count: ### don't add very rare words\n",
    "    if (adj.isalpha() and noun.isalpha() and adj.islower() and noun.islower()):\n",
    "      if wn.synsets(noun,pos=wn.NOUN)!=[]:\n",
    "        noun_plus_num = noun+\"~\"+str(num)\n",
    "        noun2adjs[noun_plus_num]+=[adj]*count"
   ]
  },
  {
   "cell_type": "markdown",
   "metadata": {
    "id": "fG9IjRjzP5tI"
   },
   "source": [
    "Get rid of values that are the same as the key."
   ]
  },
  {
   "cell_type": "code",
   "execution_count": null,
   "metadata": {
    "id": "Dy_iJ3aPPfhB"
   },
   "outputs": [],
   "source": [
    "for key,values in noun2adjs.items():\n",
    "  noun2adjs[key] = [v for v in values if v.split(\"~\")[0]!=key]"
   ]
  },
  {
   "cell_type": "code",
   "execution_count": null,
   "metadata": {
    "colab": {
     "base_uri": "https://localhost:8080/"
    },
    "id": "HTEzwGpKPsDN",
    "outputId": "f625ec5a-4a5c-44a2-9b50-ee66e2848ba8"
   },
   "outputs": [
    {
     "data": {
      "text/plain": [
       "['hungry', 'hungry', 'hungry']"
      ]
     },
     "execution_count": 10,
     "metadata": {},
     "output_type": "execute_result"
    }
   ],
   "source": [
    "noun2adjs[\"pig~1\"][:3]"
   ]
  },
  {
   "cell_type": "markdown",
   "metadata": {
    "id": "a-Tr00YrQEa3"
   },
   "source": [
    "Sometimes a value is just a letter.  Filter out really short words."
   ]
  },
  {
   "cell_type": "code",
   "execution_count": null,
   "metadata": {
    "id": "IzPENNgYPt5b"
   },
   "outputs": [],
   "source": [
    "for key,values in noun2adjs.items():\n",
    "  noun2adjs[key] = [v for v in values if len(v)>2]"
   ]
  },
  {
   "cell_type": "markdown",
   "metadata": {
    "id": "qPlN_jb5RYJf"
   },
   "source": [
    "### Rank by TF-IDF"
   ]
  },
  {
   "cell_type": "code",
   "execution_count": null,
   "metadata": {
    "id": "2CiZ-rGQyUH5"
   },
   "outputs": [],
   "source": [
    "sets_of_words = list(noun2adjs.values())"
   ]
  },
  {
   "cell_type": "code",
   "execution_count": null,
   "metadata": {
    "colab": {
     "base_uri": "https://localhost:8080/"
    },
    "id": "325g3Ya3QxeP",
    "outputId": "865b061e-8cbf-4700-cf8e-91c8255aff0c"
   },
   "outputs": [
    {
     "data": {
      "text/plain": [
       "26487"
      ]
     },
     "execution_count": 13,
     "metadata": {},
     "output_type": "execute_result"
    }
   ],
   "source": [
    "total_number_of_sets = len(sets_of_words)\n",
    "total_number_of_sets"
   ]
  },
  {
   "cell_type": "code",
   "execution_count": null,
   "metadata": {
    "id": "QbDvRQjPPD7t"
   },
   "outputs": [],
   "source": [
    "from collections import defaultdict\n",
    "\n",
    "word2doc_count = defaultdict(int)"
   ]
  },
  {
   "cell_type": "code",
   "execution_count": null,
   "metadata": {
    "id": "89VhYJGLO7Sp"
   },
   "outputs": [],
   "source": [
    "for s in sets_of_words:\n",
    "  s = list(set(s))\n",
    "  for t in s:\n",
    "    word2doc_count[t]+=1"
   ]
  },
  {
   "cell_type": "code",
   "execution_count": null,
   "metadata": {
    "colab": {
     "base_uri": "https://localhost:8080/"
    },
    "id": "gTupUdqoP1LV",
    "outputId": "c6d5997f-4465-4d3b-bc0a-3efd2e4a0f21"
   },
   "outputs": [
    {
     "data": {
      "text/plain": [
       "0"
      ]
     },
     "execution_count": 16,
     "metadata": {},
     "output_type": "execute_result"
    }
   ],
   "source": [
    "word2doc_count['eat']"
   ]
  },
  {
   "cell_type": "code",
   "execution_count": null,
   "metadata": {
    "id": "rp-8uHtIQY6N"
   },
   "outputs": [],
   "source": [
    "noun2adjs_and_weights = {}"
   ]
  },
  {
   "cell_type": "code",
   "execution_count": null,
   "metadata": {
    "id": "At0wCZGvQERF"
   },
   "outputs": [],
   "source": [
    "for key,words in noun2adjs.items():\n",
    "  if len(words)!=0: ## no empty sets\n",
    "    unique_words = list(set(words))\n",
    "    adjs_and_weights = []\n",
    "    for w in unique_words:\n",
    "      tf = words.count(w)/len(words)\n",
    "      idf = total_number_of_sets/word2doc_count[w]\n",
    "      tfidf = tf * idf\n",
    "      adjs_and_weights.append((w,tfidf))\n",
    "    adjs_and_weights.sort(key=lambda x:x[1], reverse=True)\n",
    "    noun2adjs_and_weights[key]=adjs_and_weights[:20]"
   ]
  },
  {
   "cell_type": "markdown",
   "metadata": {
    "id": "M68tzYtegD-0"
   },
   "source": [
    "Make dictionary more concise.\n",
    "\n",
    "```\n",
    "dict[key] = {\n",
    "  \"num\":1, ## or 2\n",
    "  \"adjs\":[(\"fulsome\",11.45),...]\n",
    "}\n",
    "```"
   ]
  },
  {
   "cell_type": "markdown",
   "metadata": {
    "id": "hmjj-vV6kXpB"
   },
   "source": [
    "First, only keep singular *or* plural of noun, whichever has more results (more likely to be correct)."
   ]
  },
  {
   "cell_type": "code",
   "execution_count": null,
   "metadata": {
    "id": "lWcjXauhkipF"
   },
   "outputs": [],
   "source": [
    "all_keys_without_number = list(set([n.split(\"~\")[0] for n in noun2adjs_and_weights]))"
   ]
  },
  {
   "cell_type": "code",
   "execution_count": null,
   "metadata": {
    "id": "Max1WCJHksI5"
   },
   "outputs": [],
   "source": [
    "for k in all_keys_without_number:\n",
    "  if ((k+\"~1\" in noun2adjs_and_weights) and (k+\"~2\" in noun2adjs_and_weights)):\n",
    "    if len(noun2adjs_and_weights[k+\"~1\"])>len(noun2adjs_and_weights[k+\"~2\"]):\n",
    "      del noun2adjs_and_weights[k+\"~2\"]\n",
    "    else:\n",
    "      del noun2adjs_and_weights[k+\"~1\"]"
   ]
  },
  {
   "cell_type": "code",
   "execution_count": null,
   "metadata": {
    "id": "gSVxcI4ygGnB"
   },
   "outputs": [],
   "source": [
    "noun2adjs_and_weights_reformatted = {}\n",
    "\n",
    "for key,values in noun2adjs_and_weights.items():\n",
    "  # print(key)\n",
    "  # print(key.split(\"~\"))\n",
    "  key,num = key.split(\"~\")\n",
    "  noun2adjs_and_weights_reformatted[key]={}\n",
    "  noun2adjs_and_weights_reformatted[key][\"num\"]=num\n",
    "  noun2adjs_and_weights_reformatted[key][\"verbs\"]=values"
   ]
  },
  {
   "cell_type": "code",
   "execution_count": null,
   "metadata": {
    "colab": {
     "base_uri": "https://localhost:8080/"
    },
    "id": "GsTh6N7Bjokl",
    "outputId": "1fe5e079-7aab-4da0-d1bb-a8f37239062d"
   },
   "outputs": [
    {
     "data": {
      "text/plain": [
       "{'num': '1',\n",
       " 'verbs': [('mirthless', 16.38184961527223),\n",
       "  ('screechy', 5.15963767410149),\n",
       "  ('hearty', 3.454865496644985),\n",
       "  ('hysteric', 3.095782604460894),\n",
       "  ('forced', 2.8729800685337845),\n",
       "  ('sneering', 2.8294787245072683),\n",
       "  ('ringing', 2.735497559976221),\n",
       "  ('unmirthful', 2.579818837050745),\n",
       "  ('derisive', 2.013040456183536),\n",
       "  ('scornful', 1.9997412287198082),\n",
       "  ('vexed', 1.8058731859355213),\n",
       "  ('tinkling', 1.7198792247004968),\n",
       "  ('grating', 1.6868046242254873),\n",
       "  ('embarrassed', 1.6256392671826614),\n",
       "  ('rippling', 1.6123867731567156),\n",
       "  ('maniacal', 1.5765559559754554),\n",
       "  ('loud', 1.5674406736614133),\n",
       "  ('infectious', 1.339521319237887),\n",
       "  ('merry', 1.3359118942217125),\n",
       "  ('sardonic', 1.329598939095384)]}"
      ]
     },
     "execution_count": 22,
     "metadata": {},
     "output_type": "execute_result"
    }
   ],
   "source": [
    "noun2adjs_and_weights_reformatted[\"laugh\"]"
   ]
  },
  {
   "cell_type": "code",
   "execution_count": null,
   "metadata": {
    "id": "NbdOyTd0m2RS"
   },
   "outputs": [],
   "source": [
    "with open('noun2adjs_and_weights.json','w') as f:\n",
    "  json.dump(noun2adjs_and_weights_reformatted,f)"
   ]
  },
  {
   "cell_type": "code",
   "execution_count": null,
   "metadata": {
    "colab": {
     "base_uri": "https://localhost:8080/",
     "height": 17
    },
    "id": "xx8H32zrrMIG",
    "outputId": "e686d76e-bd06-47e4-d15c-a5142c200f33"
   },
   "outputs": [
    {
     "data": {
      "application/javascript": [
       "\n",
       "    async function download(id, filename, size) {\n",
       "      if (!google.colab.kernel.accessAllowed) {\n",
       "        return;\n",
       "      }\n",
       "      const div = document.createElement('div');\n",
       "      const label = document.createElement('label');\n",
       "      label.textContent = `Downloading \"${filename}\": `;\n",
       "      div.appendChild(label);\n",
       "      const progress = document.createElement('progress');\n",
       "      progress.max = size;\n",
       "      div.appendChild(progress);\n",
       "      document.body.appendChild(div);\n",
       "\n",
       "      const buffers = [];\n",
       "      let downloaded = 0;\n",
       "\n",
       "      const channel = await google.colab.kernel.comms.open(id);\n",
       "      // Send a message to notify the kernel that we're ready.\n",
       "      channel.send({})\n",
       "\n",
       "      for await (const message of channel.messages) {\n",
       "        // Send a message to notify the kernel that we're ready.\n",
       "        channel.send({})\n",
       "        if (message.buffers) {\n",
       "          for (const buffer of message.buffers) {\n",
       "            buffers.push(buffer);\n",
       "            downloaded += buffer.byteLength;\n",
       "            progress.value = downloaded;\n",
       "          }\n",
       "        }\n",
       "      }\n",
       "      const blob = new Blob(buffers, {type: 'application/binary'});\n",
       "      const a = document.createElement('a');\n",
       "      a.href = window.URL.createObjectURL(blob);\n",
       "      a.download = filename;\n",
       "      div.appendChild(a);\n",
       "      a.click();\n",
       "      div.remove();\n",
       "    }\n",
       "  "
      ],
      "text/plain": [
       "<IPython.core.display.Javascript object>"
      ]
     },
     "metadata": {},
     "output_type": "display_data"
    },
    {
     "data": {
      "application/javascript": [
       "download(\"download_9b506a31-1cd7-4f2c-93f1-df6d4db2a1f8\", \"noun2adjs_and_weights.json\", 10210548)"
      ],
      "text/plain": [
       "<IPython.core.display.Javascript object>"
      ]
     },
     "metadata": {},
     "output_type": "display_data"
    }
   ],
   "source": [
    "from google.colab import files\n",
    "files.download('/content/noun2adjs_and_weights.json')"
   ]
  },
  {
   "cell_type": "markdown",
   "metadata": {
    "id": "AeerXNIZo8ml"
   },
   "source": [
    "***"
   ]
  }
 ],
 "metadata": {
  "colab": {
   "collapsed_sections": [],
   "name": "processing_adj_noun_pairs.ipynb",
   "provenance": []
  },
  "gpuClass": "standard",
  "kernelspec": {
   "display_name": "Python 3 (ipykernel)",
   "language": "python",
   "name": "python3"
  },
  "language_info": {
   "codemirror_mode": {
    "name": "ipython",
    "version": 3
   },
   "file_extension": ".py",
   "mimetype": "text/x-python",
   "name": "python",
   "nbconvert_exporter": "python",
   "pygments_lexer": "ipython3",
   "version": "3.9.12"
  }
 },
 "nbformat": 4,
 "nbformat_minor": 1
}
