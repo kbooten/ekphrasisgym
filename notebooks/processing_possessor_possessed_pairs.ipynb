{
  "cells": [
    {
      "cell_type": "markdown",
      "metadata": {
        "id": "8lhwKdiElb-W"
      },
      "source": [
        "# Recursive Ekphrasis Gym\n",
        "\n",
        "## Processing `(possessor,possessed)` pairs"
      ]
    },
    {
      "cell_type": "code",
      "execution_count": 1,
      "metadata": {
        "colab": {
          "base_uri": "https://localhost:8080/"
        },
        "id": "4QAPt3jvSBfk",
        "outputId": "bd8e4358-d9f0-4692-9d25-d3886960b38e"
      },
      "outputs": [
        {
          "output_type": "stream",
          "name": "stdout",
          "text": [
            "--2022-08-12 18:59:31--  https://raw.githubusercontent.com/kbooten/ekphrasisgym/main/possessor2possessed_tuples_with_count.json\n",
            "Resolving raw.githubusercontent.com (raw.githubusercontent.com)... 185.199.108.133, 185.199.109.133, 185.199.110.133, ...\n",
            "Connecting to raw.githubusercontent.com (raw.githubusercontent.com)|185.199.108.133|:443... connected.\n",
            "HTTP request sent, awaiting response... 200 OK\n",
            "Length: 10705892 (10M) [text/plain]\n",
            "Saving to: ‘possessor2possessed_tuples_with_count.json’\n",
            "\n",
            "possessor2possessed 100%[===================>]  10.21M  --.-KB/s    in 0.06s   \n",
            "\n",
            "2022-08-12 18:59:31 (158 MB/s) - ‘possessor2possessed_tuples_with_count.json’ saved [10705892/10705892]\n",
            "\n"
          ]
        }
      ],
      "source": [
        "! wget https://raw.githubusercontent.com/kbooten/ekphrasisgym/main/possessor2possessed_tuples_with_count.json"
      ]
    },
    {
      "cell_type": "code",
      "execution_count": 2,
      "metadata": {
        "id": "t8Lo-ixmSHRY"
      },
      "outputs": [],
      "source": [
        "import json\n",
        "\n",
        "with open('possessor2possessed_tuples_with_count.json','r') as f:\n",
        "  possessor2possessed_tuples_with_count = json.load(f)"
      ]
    },
    {
      "cell_type": "code",
      "execution_count": 3,
      "metadata": {
        "colab": {
          "base_uri": "https://localhost:8080/"
        },
        "id": "QG__OfRVSZou",
        "outputId": "6919bff5-ebf9-4fa2-a5e5-88fdd94362e1"
      },
      "outputs": [
        {
          "output_type": "execute_result",
          "data": {
            "text/plain": [
              "[[['strength', 'abundance'], 3],\n",
              " [['honour', 'ring'], 2],\n",
              " [['tongue', 'tune'], 2],\n",
              " [['father', 'skill'], 16]]"
            ]
          },
          "metadata": {},
          "execution_count": 3
        }
      ],
      "source": [
        "possessor2possessed_tuples_with_count[:4]"
      ]
    },
    {
      "cell_type": "markdown",
      "source": [
        "Using WordNet to make sure a token is a word."
      ],
      "metadata": {
        "id": "9lEJyxQolx_X"
      }
    },
    {
      "cell_type": "code",
      "execution_count": 4,
      "metadata": {
        "colab": {
          "base_uri": "https://localhost:8080/"
        },
        "id": "OAyzCbHUAfb3",
        "outputId": "bb907dbb-f51c-4a99-d2d3-0a6c0bd5b402"
      },
      "outputs": [
        {
          "output_type": "stream",
          "name": "stderr",
          "text": [
            "[nltk_data] Downloading package wordnet to /root/nltk_data...\n",
            "[nltk_data] Downloading package omw-1.4 to /root/nltk_data...\n"
          ]
        }
      ],
      "source": [
        "import nltk\n",
        "nltk.download('wordnet')\n",
        "nltk.download('omw-1.4')\n",
        "from nltk.corpus import wordnet as wn"
      ]
    },
    {
      "cell_type": "code",
      "execution_count": 5,
      "metadata": {
        "colab": {
          "base_uri": "https://localhost:8080/"
        },
        "id": "3P_dXfcGAlpT",
        "outputId": "a3d7f133-ac14-4398-a5dc-0f49c4e68b24"
      },
      "outputs": [
        {
          "output_type": "execute_result",
          "data": {
            "text/plain": [
              "[Synset('hat.n.01'), Synset('hat.n.02')]"
            ]
          },
          "metadata": {},
          "execution_count": 5
        }
      ],
      "source": [
        "wn.synsets(\"hat\",pos=wn.NOUN)"
      ]
    },
    {
      "cell_type": "code",
      "source": [
        "from collections import defaultdict\n",
        "\n",
        "possessor2possessed = defaultdict(list)"
      ],
      "metadata": {
        "id": "RTPYARSlViRL"
      },
      "execution_count": 6,
      "outputs": []
    },
    {
      "cell_type": "code",
      "execution_count": 7,
      "metadata": {
        "id": "aPYQXHMMTz7O"
      },
      "outputs": [],
      "source": [
        "for tup,count in possessor2possessed_tuples_with_count:\n",
        "  possessor,possessed = tup\n",
        "  if wn.synsets(possessed,pos=wn.NOUN)!=[]:\n",
        "    possessor2possessed[possessor]+=[possessed]*count"
      ]
    },
    {
      "cell_type": "code",
      "execution_count": 8,
      "metadata": {
        "colab": {
          "base_uri": "https://localhost:8080/"
        },
        "id": "Z4wAuqVVU0WV",
        "outputId": "d76e666c-194f-40e3-b42d-c407e7c24e56"
      },
      "outputs": [
        {
          "output_type": "execute_result",
          "data": {
            "text/plain": [
              "['tune', 'tune', 'tip', 'tip', 'tip']"
            ]
          },
          "metadata": {},
          "execution_count": 8
        }
      ],
      "source": [
        "possessor2possessed[\"tongue\"][:5]"
      ]
    },
    {
      "cell_type": "code",
      "source": [
        "possessor2possessed[\"sake\"][:3]"
      ],
      "metadata": {
        "colab": {
          "base_uri": "https://localhost:8080/"
        },
        "id": "v2azT6_NPSdS",
        "outputId": "e961a6aa-ef96-4a2e-f70f-4ec875fbad6f"
      },
      "execution_count": 9,
      "outputs": [
        {
          "output_type": "execute_result",
          "data": {
            "text/plain": [
              "['sake', 'sake', 'sake']"
            ]
          },
          "metadata": {},
          "execution_count": 9
        }
      ]
    },
    {
      "cell_type": "markdown",
      "source": [
        "Get rid of values that are the same as the key."
      ],
      "metadata": {
        "id": "fG9IjRjzP5tI"
      }
    },
    {
      "cell_type": "code",
      "source": [
        "for key,values in possessor2possessed.items():\n",
        "  possessor2possessed[key] = [v for v in values if v!=key]"
      ],
      "metadata": {
        "id": "Dy_iJ3aPPfhB"
      },
      "execution_count": 10,
      "outputs": []
    },
    {
      "cell_type": "code",
      "source": [
        "possessor2possessed[\"sake\"][:3]"
      ],
      "metadata": {
        "colab": {
          "base_uri": "https://localhost:8080/"
        },
        "id": "HTEzwGpKPsDN",
        "outputId": "be35a01f-5d10-4fe0-87a9-55b4d3f495c3"
      },
      "execution_count": 11,
      "outputs": [
        {
          "output_type": "execute_result",
          "data": {
            "text/plain": [
              "['cause', 'return']"
            ]
          },
          "metadata": {},
          "execution_count": 11
        }
      ]
    },
    {
      "cell_type": "markdown",
      "source": [
        "Sometimes a value is just a letter.  Filter out really short words."
      ],
      "metadata": {
        "id": "a-Tr00YrQEa3"
      }
    },
    {
      "cell_type": "code",
      "source": [
        "for key,values in possessor2possessed.items():\n",
        "  possessor2possessed[key] = [v for v in values if len(v)>2]"
      ],
      "metadata": {
        "id": "IzPENNgYPt5b"
      },
      "execution_count": 12,
      "outputs": []
    },
    {
      "cell_type": "markdown",
      "source": [
        "### Rank by TF-IDF"
      ],
      "metadata": {
        "id": "qPlN_jb5RYJf"
      }
    },
    {
      "cell_type": "code",
      "execution_count": 13,
      "metadata": {
        "id": "2CiZ-rGQyUH5"
      },
      "outputs": [],
      "source": [
        "sets_of_words = list(possessor2possessed.values())"
      ]
    },
    {
      "cell_type": "code",
      "source": [
        "total_number_of_sets = len(sets_of_words)\n",
        "total_number_of_sets"
      ],
      "metadata": {
        "colab": {
          "base_uri": "https://localhost:8080/"
        },
        "id": "325g3Ya3QxeP",
        "outputId": "4abeff74-0d7d-4da0-94e7-00b1da268cf8"
      },
      "execution_count": 14,
      "outputs": [
        {
          "output_type": "execute_result",
          "data": {
            "text/plain": [
              "21450"
            ]
          },
          "metadata": {},
          "execution_count": 14
        }
      ]
    },
    {
      "cell_type": "code",
      "source": [
        "from collections import defaultdict\n",
        "\n",
        "word2doc_count = defaultdict(int)"
      ],
      "metadata": {
        "id": "QbDvRQjPPD7t"
      },
      "execution_count": 15,
      "outputs": []
    },
    {
      "cell_type": "code",
      "source": [
        "for s in sets_of_words:\n",
        "  s = list(set(s))\n",
        "  for t in s:\n",
        "    word2doc_count[t]+=1"
      ],
      "metadata": {
        "id": "89VhYJGLO7Sp"
      },
      "execution_count": 16,
      "outputs": []
    },
    {
      "cell_type": "code",
      "source": [
        "word2doc_count['friend']"
      ],
      "metadata": {
        "colab": {
          "base_uri": "https://localhost:8080/"
        },
        "id": "gTupUdqoP1LV",
        "outputId": "170abd78-7207-4dad-9dd7-cabe59dbe09b"
      },
      "execution_count": 17,
      "outputs": [
        {
          "output_type": "execute_result",
          "data": {
            "text/plain": [
              "392"
            ]
          },
          "metadata": {},
          "execution_count": 17
        }
      ]
    },
    {
      "cell_type": "code",
      "source": [
        "possessor2possessed_and_weights = {}"
      ],
      "metadata": {
        "id": "rp-8uHtIQY6N"
      },
      "execution_count": 18,
      "outputs": []
    },
    {
      "cell_type": "code",
      "source": [
        "for key,words in possessor2possessed.items():\n",
        "  if len(words)!=0: ## no empty sets\n",
        "    unique_words = list(set(words))\n",
        "    possessed_and_weights = []\n",
        "    for w in unique_words:\n",
        "      tf = words.count(w)/len(words)\n",
        "      idf = total_number_of_sets/word2doc_count[w]\n",
        "      tfidf = tf * idf\n",
        "      possessed_and_weights.append((w,tfidf))\n",
        "    possessor2possessed_and_weights[key]=possessed_and_weights"
      ],
      "metadata": {
        "id": "At0wCZGvQERF"
      },
      "execution_count": 19,
      "outputs": []
    },
    {
      "cell_type": "code",
      "source": [
        "possessor2possessed_and_weights['wolf']"
      ],
      "metadata": {
        "colab": {
          "base_uri": "https://localhost:8080/"
        },
        "id": "KU9yuTFjSLE0",
        "outputId": "8328b6a3-e82b-47e2-e9b6-80b796232a49"
      },
      "execution_count": 20,
      "outputs": [
        {
          "output_type": "execute_result",
          "data": {
            "text/plain": [
              "[('turn', 0.12324044814708418),\n",
              " ('head', 1.4468713973852683),\n",
              " ('woes', 0.5508474576271186),\n",
              " ('lock', 1.136122881355932),\n",
              " ('lust', 0.52689756816507),\n",
              " ('ears', 0.13390766925742112),\n",
              " ('cub', 14.138418079096047),\n",
              " ('memory', 0.14600775985297118),\n",
              " ('track', 0.5026165742404124),\n",
              " ('hide', 1.2536528345996494),\n",
              " ('fangs', 7.609381158849034),\n",
              " ('movements', 0.14659650082012027),\n",
              " ('life', 0.03308092102219275),\n",
              " ('association', 0.4544491525423729),\n",
              " ('cry', 0.5607598797438019),\n",
              " ('face', 0.12694110406211534),\n",
              " ('surprise', 0.1903451947821457),\n",
              " ('brushes', 1.8177966101694916),\n",
              " ('son', 0.16779661016949152),\n",
              " ('tramp', 0.8867300537412153),\n",
              " ('teat', 15.581113801452783),\n",
              " ('milk', 0.6110240706452073),\n",
              " ('muzzle', 4.03954802259887),\n",
              " ('need', 0.2164043583535109),\n",
              " ('breath', 0.10661563696008748),\n",
              " ('foot', 0.17821535393818544),\n",
              " ('breasts', 0.7271186440677966),\n",
              " ('habits', 0.21901163977945684),\n",
              " ('ribs', 0.5386064030131826),\n",
              " ('dictionary', 2.1385842472582253),\n",
              " ('path', 0.1224105461393597),\n",
              " ('hair', 0.28037993987190096),\n",
              " ('tooth', 2.360774818401937),\n",
              " ('belly', 2.296164139161463),\n",
              " ('children', 0.09111762456989932),\n",
              " ('neck', 0.1903451947821457),\n",
              " ('maw', 5.193704600484261),\n",
              " ('breed', 3.0296610169491522),\n",
              " ('fault', 0.11998657492867931),\n",
              " ('footprints', 0.6991525423728814),\n",
              " ('protection', 0.2775262000258765),\n",
              " ('claws', 0.7653880463871543),\n",
              " ('place', 0.04126666538409742),\n",
              " ('howling', 9.088983050847457),\n",
              " ('feeder', 18.177966101694913),\n",
              " ('coat', 0.3072332298878014),\n",
              " ('feet', 0.1692942128213729),\n",
              " ('brush', 2.0578829549088584),\n",
              " ('stomach', 0.2407677629363565),\n",
              " ('side', 0.20540074691180696),\n",
              " ('nose', 0.5084745762711864),\n",
              " ('joint', 3.305084745762712),\n",
              " ('limbs', 0.3246065375302663),\n",
              " ('struggles', 0.403954802259887),\n",
              " ('brake', 7.271186440677966),\n",
              " ('leap', 0.52689756816507),\n",
              " ('tail', 1.58069270449521),\n",
              " ('shadow', 0.20424681013140353),\n",
              " ('dislike', 0.4783675289919715),\n",
              " ('legs', 0.2660190161223646),\n",
              " ('jaw', 0.7790556900726392),\n",
              " ('forefeet', 4.03954802259887),\n",
              " ('dress', 0.09799442642423135),\n",
              " ('absence', 0.26440677966101694),\n",
              " ('growl', 1.3983050847457628),\n",
              " ('scalp', 0.9322033898305084),\n",
              " ('observation', 0.263448784082535),\n",
              " ('smile', 0.1289217454020916),\n",
              " ('liking', 0.8867300537412153),\n",
              " ('care', 0.11186440677966102),\n",
              " ('rage', 0.18454787920502452),\n",
              " ('journey', 0.2019774011299435),\n",
              " ('lair', 2.308313155770783),\n",
              " ('leaping', 12.118644067796609),\n",
              " ('way', 0.09554778502861978),\n",
              " ('embrace', 0.39951573849878935),\n",
              " ('return', 0.09394297726974117),\n",
              " ('forefoot', 4.544491525423728),\n",
              " ('company', 0.12756467439785904),\n",
              " ('form', 0.4069693903364533),\n",
              " ('gall', 1.3465160075329567),\n",
              " ('spite', 0.790346352247605),\n",
              " ('trail', 0.7574152542372882),\n",
              " ('point', 0.12472017908538535),\n",
              " ('companion', 0.22033898305084745),\n",
              " ('brain', 0.1271186440677966),\n",
              " ('body', 0.5049435028248588),\n",
              " ('breaks', 1.7312348668280872),\n",
              " ('attitude', 0.11919977771603223),\n",
              " ('robe', 0.26155346908913546),\n",
              " ('brains', 0.22168251343530382),\n",
              " ('breast', 0.2699697935895284),\n",
              " ('trick', 0.23762047191758057),\n",
              " ('leg', 0.26155346908913546),\n",
              " ('tracks', 0.316138540899042),\n",
              " ('cubs', 2.7966101694915255),\n",
              " ('charge', 0.2230425288551523),\n",
              " ('cage', 0.826271186440678),\n",
              " ('method', 0.18837270571704576),\n",
              " ('stones', 0.8656174334140436),\n",
              " ('ferocity', 1.5148305084745761),\n",
              " ('thoughts', 0.11803874092009684),\n",
              " ('reply', 0.09960529370791733),\n",
              " ('ear', 0.22213400531602745),\n",
              " ('cowardice', 1.4542372881355932),\n",
              " ('complaint', 0.40849362026280706),\n",
              " ('disguise', 0.7419578000691802),\n",
              " ('shoulders', 0.10183734510753453),\n",
              " ('time', 0.06257475422270195),\n",
              " ('bark', 1.0098870056497176),\n",
              " ('fig', 18.177966101694913),\n",
              " ('harvest', 1.0692921236291126),\n",
              " ('meat', 0.5307435358159099),\n",
              " ('clothes', 0.09157665542415575),\n",
              " ('instinct', 0.4108014938236139),\n",
              " ('back', 0.35228616476152935),\n",
              " ('challenge', 1.1541565778853915),\n",
              " ('route', 1.3220338983050848),\n",
              " ('teeth', 1.8065059479945256),\n",
              " ('hairs', 1.0692921236291126),\n",
              " ('collar', 0.6732580037664784),\n",
              " ('hips', 1.913470115967886),\n",
              " ('bristle', 3.635593220338983),\n",
              " ('call', 0.08554336989032901),\n",
              " ('wife', 0.04297391513403053),\n",
              " ('nature', 0.4211111838230482),\n",
              " ('retreat', 0.22033898305084745),\n",
              " ('rapacity', 3.0296610169491522),\n",
              " ('shape', 0.38269402319357715),\n",
              " ('house', 0.03560816082604293),\n",
              " ('widows', 1.7312348668280872),\n",
              " ('mane', 0.8656174334140436),\n",
              " ('attention', 0.11708834848112668),\n",
              " ('howl', 48.47457627118644),\n",
              " ('bite', 0.8867300537412153),\n",
              " ('bays', 2.7966101694915255),\n",
              " ('clothing', 0.6691275865654569),\n",
              " ('paw', 2.019774011299435),\n",
              " ('cause', 0.17478813559322035),\n",
              " ('strength', 0.2448210922787194),\n",
              " ('eyes', 0.3386447444094861),\n",
              " ('size', 0.3599597247860379),\n",
              " ('eyelids', 0.6378233719892953),\n",
              " ('whelp', 18.177966101694913),\n",
              " ('failure', 0.28182893180922347),\n",
              " ('lameness', 2.7966101694915255),\n",
              " ('mind', 0.05084745762711864),\n",
              " ('den', 6.6479418886198545),\n",
              " ('throat', 1.3633474576271187),\n",
              " ('hunger', 0.4783675289919715),\n",
              " ('actions', 0.22722457627118645),\n",
              " ('theory', 0.263448784082535),\n",
              " ('approach', 0.16450648055832504),\n",
              " ('mouth', 2.7820191599115693),\n",
              " ('nearness', 1.652542372881356),\n",
              " ('mate', 0.2754237288135593),\n",
              " ('tongue', 0.4328087167070218),\n",
              " ('pelt', 5.193704600484261),\n",
              " ('suspicion', 0.47215496368038734),\n",
              " ('expression', 0.15340055782021025),\n",
              " ('sire', 1.3465160075329567),\n",
              " ('frequency', 36.35593220338983),\n",
              " ('whiskers', 0.6059322033898304),\n",
              " ('brother', 0.23531347704459435),\n",
              " ('trot', 1.58069270449521),\n",
              " ('thirst', 0.4380232795589137),\n",
              " ('howls', 1.913470115967886),\n",
              " ('jaws', 3.57067191283293),\n",
              " ('personality', 0.38269402319357715),\n",
              " ('voice', 0.07337221433580188),\n",
              " ('response', 0.27335287370969796),\n",
              " ('nest', 0.1143268308282699),\n",
              " ('litter', 7.5741525423728815),\n",
              " ('skin', 2.736468015308912),\n",
              " ('road', 0.25602769157316785),\n",
              " ('shoulder', 0.08007914582244455),\n",
              " ('season', 0.7419578000691802),\n",
              " ('snout', 2.0774818401937045),\n",
              " ('cave', 1.5980629539951574),\n",
              " ('steps', 0.20310576649938453),\n",
              " ('fur', 0.20774818401937045),\n",
              " ('wounds', 0.3462469733656174),\n",
              " ('meal', 0.3429804924848097),\n",
              " ('gray', 2.7966101694915255),\n",
              " ('song', 0.08635613349973831),\n",
              " ('stillness', 1.3983050847457628),\n",
              " ('helmets', 2.1385842472582253),\n",
              " ('scent', 0.807909604519774),\n",
              " ('fang', 2.5968523002421304),\n",
              " ('mantle', 0.559322033898305),\n",
              " ('flank', 0.40849362026280706),\n",
              " ('appetite', 0.481535525872713),\n",
              " ('blood', 0.5947800769470729),\n",
              " ('heart', 0.2333000997008973),\n",
              " ('virtues', 0.4328087167070218),\n",
              " ('parting', 1.0098870056497176),\n",
              " ('brood', 1.0852517075638755),\n",
              " ('part', 0.06344839826071523),\n",
              " ('flesh', 0.5453389830508474),\n",
              " ('quest', 0.807909604519774)]"
            ]
          },
          "metadata": {},
          "execution_count": 20
        }
      ]
    },
    {
      "cell_type": "code",
      "source": [
        "with open('possessor2possessed_and_weights.json','w') as f:\n",
        "  json.dump(possessor2possessed_and_weights,f)"
      ],
      "metadata": {
        "id": "NbdOyTd0m2RS"
      },
      "execution_count": 21,
      "outputs": []
    },
    {
      "cell_type": "code",
      "source": [
        "from google.colab import files\n",
        "files.download('/content/possessor2possessed_and_weights.json')"
      ],
      "metadata": {
        "id": "xx8H32zrrMIG",
        "colab": {
          "base_uri": "https://localhost:8080/",
          "height": 17
        },
        "outputId": "2727a29d-a775-4a19-a272-5c0fc1a1c5c7"
      },
      "execution_count": 22,
      "outputs": [
        {
          "output_type": "display_data",
          "data": {
            "text/plain": [
              "<IPython.core.display.Javascript object>"
            ],
            "application/javascript": [
              "\n",
              "    async function download(id, filename, size) {\n",
              "      if (!google.colab.kernel.accessAllowed) {\n",
              "        return;\n",
              "      }\n",
              "      const div = document.createElement('div');\n",
              "      const label = document.createElement('label');\n",
              "      label.textContent = `Downloading \"${filename}\": `;\n",
              "      div.appendChild(label);\n",
              "      const progress = document.createElement('progress');\n",
              "      progress.max = size;\n",
              "      div.appendChild(progress);\n",
              "      document.body.appendChild(div);\n",
              "\n",
              "      const buffers = [];\n",
              "      let downloaded = 0;\n",
              "\n",
              "      const channel = await google.colab.kernel.comms.open(id);\n",
              "      // Send a message to notify the kernel that we're ready.\n",
              "      channel.send({})\n",
              "\n",
              "      for await (const message of channel.messages) {\n",
              "        // Send a message to notify the kernel that we're ready.\n",
              "        channel.send({})\n",
              "        if (message.buffers) {\n",
              "          for (const buffer of message.buffers) {\n",
              "            buffers.push(buffer);\n",
              "            downloaded += buffer.byteLength;\n",
              "            progress.value = downloaded;\n",
              "          }\n",
              "        }\n",
              "      }\n",
              "      const blob = new Blob(buffers, {type: 'application/binary'});\n",
              "      const a = document.createElement('a');\n",
              "      a.href = window.URL.createObjectURL(blob);\n",
              "      a.download = filename;\n",
              "      div.appendChild(a);\n",
              "      a.click();\n",
              "      div.remove();\n",
              "    }\n",
              "  "
            ]
          },
          "metadata": {}
        },
        {
          "output_type": "display_data",
          "data": {
            "text/plain": [
              "<IPython.core.display.Javascript object>"
            ],
            "application/javascript": [
              "download(\"download_0973a9d1-5475-4867-bb47-a9d4d86019b7\", \"possessor2possessed_and_weights.json\", 12083755)"
            ]
          },
          "metadata": {}
        }
      ]
    },
    {
      "cell_type": "markdown",
      "source": [
        "***"
      ],
      "metadata": {
        "id": "AeerXNIZo8ml"
      }
    }
  ],
  "metadata": {
    "colab": {
      "collapsed_sections": [],
      "name": " processing_possessor_possessed_pairs.ipynb",
      "provenance": []
    },
    "kernelspec": {
      "display_name": "Python 3",
      "name": "python3"
    },
    "language_info": {
      "name": "python"
    },
    "gpuClass": "standard"
  },
  "nbformat": 4,
  "nbformat_minor": 0
}