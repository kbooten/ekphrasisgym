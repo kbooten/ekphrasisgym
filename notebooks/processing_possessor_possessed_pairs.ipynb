{
 "cells": [
  {
   "cell_type": "markdown",
   "metadata": {
    "id": "8lhwKdiElb-W"
   },
   "source": [
    "# Recursive Ekphrasis Gym\n",
    "\n",
    "## Processing `(possessor,possessed)` pairs"
   ]
  },
  {
   "cell_type": "code",
   "execution_count": 1,
   "metadata": {
    "colab": {
     "base_uri": "https://localhost:8080/"
    },
    "id": "4QAPt3jvSBfk",
    "outputId": "bd8e4358-d9f0-4692-9d25-d3886960b38e"
   },
   "outputs": [],
   "source": [
    "#! wget https://raw.githubusercontent.com/kbooten/ekphrasisgym/main/possessor2possessed_tuples_with_count.json"
   ]
  },
  {
   "cell_type": "code",
   "execution_count": 2,
   "metadata": {
    "id": "t8Lo-ixmSHRY"
   },
   "outputs": [],
   "source": [
    "import json\n",
    "\n",
    "with open('possessor2possessed_tuples_with_count.json','r') as f:\n",
    "  possessor2possessed_tuples_with_count = json.load(f)"
   ]
  },
  {
   "cell_type": "code",
   "execution_count": 3,
   "metadata": {
    "colab": {
     "base_uri": "https://localhost:8080/"
    },
    "id": "QG__OfRVSZou",
    "outputId": "6919bff5-ebf9-4fa2-a5e5-88fdd94362e1"
   },
   "outputs": [
    {
     "data": {
      "text/plain": [
       "[[['mother', 'child'], 122],\n",
       " [['heart', 'workings'], 2],\n",
       " [['youth', 'livery'], 6],\n",
       " [['summer', 'flower'], 7]]"
      ]
     },
     "execution_count": 3,
     "metadata": {},
     "output_type": "execute_result"
    }
   ],
   "source": [
    "possessor2possessed_tuples_with_count[:4]"
   ]
  },
  {
   "cell_type": "code",
   "execution_count": 4,
   "metadata": {},
   "outputs": [
    {
     "data": {
      "text/plain": [
       "475435"
      ]
     },
     "execution_count": 4,
     "metadata": {},
     "output_type": "execute_result"
    }
   ],
   "source": [
    "len(possessor2possessed_tuples_with_count)"
   ]
  },
  {
   "cell_type": "code",
   "execution_count": 5,
   "metadata": {},
   "outputs": [],
   "source": [
    "min_count = 2\n",
    "\n",
    "possessor2possessed_tuples_with_count = [(pair,c) for pair,c in possessor2possessed_tuples_with_count if c>=min_count]"
   ]
  },
  {
   "cell_type": "code",
   "execution_count": 6,
   "metadata": {},
   "outputs": [
    {
     "data": {
      "text/plain": [
       "141844"
      ]
     },
     "execution_count": 6,
     "metadata": {},
     "output_type": "execute_result"
    }
   ],
   "source": [
    "len(possessor2possessed_tuples_with_count)"
   ]
  },
  {
   "cell_type": "markdown",
   "metadata": {
    "id": "9lEJyxQolx_X"
   },
   "source": [
    "Using WordNet to make sure a token is a word."
   ]
  },
  {
   "cell_type": "code",
   "execution_count": 7,
   "metadata": {
    "colab": {
     "base_uri": "https://localhost:8080/"
    },
    "id": "OAyzCbHUAfb3",
    "outputId": "bb907dbb-f51c-4a99-d2d3-0a6c0bd5b402"
   },
   "outputs": [
    {
     "name": "stderr",
     "output_type": "stream",
     "text": [
      "[nltk_data] Downloading package wordnet to /Users/kyle/nltk_data...\n",
      "[nltk_data]   Package wordnet is already up-to-date!\n",
      "[nltk_data] Downloading package omw-1.4 to /Users/kyle/nltk_data...\n",
      "[nltk_data]   Package omw-1.4 is already up-to-date!\n"
     ]
    }
   ],
   "source": [
    "import nltk\n",
    "nltk.download('wordnet')\n",
    "nltk.download('omw-1.4')\n",
    "from nltk.corpus import wordnet as wn"
   ]
  },
  {
   "cell_type": "code",
   "execution_count": 8,
   "metadata": {
    "colab": {
     "base_uri": "https://localhost:8080/"
    },
    "id": "3P_dXfcGAlpT",
    "outputId": "a3d7f133-ac14-4398-a5dc-0f49c4e68b24"
   },
   "outputs": [
    {
     "data": {
      "text/plain": [
       "[Synset('hat.n.01'), Synset('hat.n.02')]"
      ]
     },
     "execution_count": 8,
     "metadata": {},
     "output_type": "execute_result"
    }
   ],
   "source": [
    "wn.synsets(\"hat\",pos=wn.NOUN)"
   ]
  },
  {
   "cell_type": "code",
   "execution_count": 9,
   "metadata": {
    "id": "RTPYARSlViRL"
   },
   "outputs": [],
   "source": [
    "from collections import defaultdict\n",
    "\n",
    "possessor2possessed = defaultdict(list)"
   ]
  },
  {
   "cell_type": "code",
   "execution_count": 10,
   "metadata": {
    "id": "aPYQXHMMTz7O"
   },
   "outputs": [],
   "source": [
    "for tup,count in possessor2possessed_tuples_with_count:\n",
    "  possessor,possessed = tup\n",
    "  if wn.synsets(possessed,pos=wn.NOUN)!=[]:\n",
    "    possessor2possessed[possessor]+=[possessed]*count"
   ]
  },
  {
   "cell_type": "code",
   "execution_count": 11,
   "metadata": {
    "colab": {
     "base_uri": "https://localhost:8080/"
    },
    "id": "Z4wAuqVVU0WV",
    "outputId": "d76e666c-194f-40e3-b42d-c407e7c24e56"
   },
   "outputs": [
    {
     "data": {
      "text/plain": [
       "['tune', 'tune', 'tip', 'tip', 'tip']"
      ]
     },
     "execution_count": 11,
     "metadata": {},
     "output_type": "execute_result"
    }
   ],
   "source": [
    "possessor2possessed[\"tongue\"][:5]"
   ]
  },
  {
   "cell_type": "code",
   "execution_count": 12,
   "metadata": {
    "colab": {
     "base_uri": "https://localhost:8080/"
    },
    "id": "v2azT6_NPSdS",
    "outputId": "e961a6aa-ef96-4a2e-f70f-4ec875fbad6f"
   },
   "outputs": [
    {
     "data": {
      "text/plain": [
       "['sake', 'sake', 'sake']"
      ]
     },
     "execution_count": 12,
     "metadata": {},
     "output_type": "execute_result"
    }
   ],
   "source": [
    "possessor2possessed[\"sake\"][:3]"
   ]
  },
  {
   "cell_type": "markdown",
   "metadata": {
    "id": "fG9IjRjzP5tI"
   },
   "source": [
    "Get rid of values that are the same as the key."
   ]
  },
  {
   "cell_type": "code",
   "execution_count": 13,
   "metadata": {
    "id": "Dy_iJ3aPPfhB"
   },
   "outputs": [],
   "source": [
    "for key,values in possessor2possessed.items():\n",
    "  possessor2possessed[key] = [v for v in values if v!=key]"
   ]
  },
  {
   "cell_type": "code",
   "execution_count": 14,
   "metadata": {
    "colab": {
     "base_uri": "https://localhost:8080/"
    },
    "id": "HTEzwGpKPsDN",
    "outputId": "be35a01f-5d10-4fe0-87a9-55b4d3f495c3"
   },
   "outputs": [
    {
     "data": {
      "text/plain": [
       "[]"
      ]
     },
     "execution_count": 14,
     "metadata": {},
     "output_type": "execute_result"
    }
   ],
   "source": [
    "possessor2possessed[\"sake\"][:3]"
   ]
  },
  {
   "cell_type": "markdown",
   "metadata": {
    "id": "a-Tr00YrQEa3"
   },
   "source": [
    "Sometimes a value is just a letter.  Filter out really short words."
   ]
  },
  {
   "cell_type": "code",
   "execution_count": 15,
   "metadata": {
    "id": "IzPENNgYPt5b"
   },
   "outputs": [],
   "source": [
    "for key,values in possessor2possessed.items():\n",
    "  possessor2possessed[key] = [v for v in values if len(v)>2]"
   ]
  },
  {
   "cell_type": "markdown",
   "metadata": {
    "id": "qPlN_jb5RYJf"
   },
   "source": [
    "### Rank by TF-IDF"
   ]
  },
  {
   "cell_type": "code",
   "execution_count": 16,
   "metadata": {
    "id": "2CiZ-rGQyUH5"
   },
   "outputs": [],
   "source": [
    "sets_of_words = list(possessor2possessed.values())"
   ]
  },
  {
   "cell_type": "code",
   "execution_count": 17,
   "metadata": {
    "colab": {
     "base_uri": "https://localhost:8080/"
    },
    "id": "325g3Ya3QxeP",
    "outputId": "4abeff74-0d7d-4da0-94e7-00b1da268cf8"
   },
   "outputs": [
    {
     "data": {
      "text/plain": [
       "6883"
      ]
     },
     "execution_count": 17,
     "metadata": {},
     "output_type": "execute_result"
    }
   ],
   "source": [
    "total_number_of_sets = len(sets_of_words)\n",
    "total_number_of_sets"
   ]
  },
  {
   "cell_type": "code",
   "execution_count": 18,
   "metadata": {
    "id": "QbDvRQjPPD7t"
   },
   "outputs": [],
   "source": [
    "from collections import defaultdict\n",
    "\n",
    "word2doc_count = defaultdict(int)"
   ]
  },
  {
   "cell_type": "code",
   "execution_count": 19,
   "metadata": {
    "id": "89VhYJGLO7Sp"
   },
   "outputs": [],
   "source": [
    "for s in sets_of_words:\n",
    "  s = list(set(s))\n",
    "  for t in s:\n",
    "    word2doc_count[t]+=1"
   ]
  },
  {
   "cell_type": "code",
   "execution_count": 20,
   "metadata": {
    "colab": {
     "base_uri": "https://localhost:8080/"
    },
    "id": "gTupUdqoP1LV",
    "outputId": "170abd78-7207-4dad-9dd7-cabe59dbe09b"
   },
   "outputs": [
    {
     "data": {
      "text/plain": [
       "184"
      ]
     },
     "execution_count": 20,
     "metadata": {},
     "output_type": "execute_result"
    }
   ],
   "source": [
    "word2doc_count['friend']"
   ]
  },
  {
   "cell_type": "code",
   "execution_count": 21,
   "metadata": {
    "id": "rp-8uHtIQY6N"
   },
   "outputs": [],
   "source": [
    "possessor2possessed_and_weights = {}"
   ]
  },
  {
   "cell_type": "code",
   "execution_count": 22,
   "metadata": {
    "id": "At0wCZGvQERF"
   },
   "outputs": [],
   "source": [
    "for key,words in possessor2possessed.items():\n",
    "  if len(words)!=0: ## no empty sets\n",
    "    unique_words = list(set(words))\n",
    "    possessed_and_weights = []\n",
    "    for w in unique_words:\n",
    "      tf = words.count(w)/len(words)\n",
    "      idf = total_number_of_sets/word2doc_count[w]\n",
    "      tfidf = tf * idf\n",
    "      possessed_and_weights.append((w,tfidf))\n",
    "    possessed_and_weights.sort(key=lambda x:x[1], reverse=True)    \n",
    "    possessor2possessed_and_weights[key]=possessed_and_weights[:30]"
   ]
  },
  {
   "cell_type": "code",
   "execution_count": 23,
   "metadata": {
    "colab": {
     "base_uri": "https://localhost:8080/"
    },
    "id": "KU9yuTFjSLE0",
    "outputId": "8328b6a3-e82b-47e2-e9b6-80b796232a49"
   },
   "outputs": [
    {
     "data": {
      "text/plain": [
       "[('howl', 38.84585537918871),\n",
       " ('feeder', 21.85079365079365),\n",
       " ('whelp', 12.746296296296297),\n",
       " ('cub', 10.925396825396826),\n",
       " ('teat', 10.925396825396826),\n",
       " ('litter', 9.559722222222222),\n",
       " ('howling', 7.283597883597884),\n",
       " ('maw', 6.555238095238096),\n",
       " ('den', 6.155153141068634),\n",
       " ('fangs', 5.700207039337474),\n",
       " ('pelt', 5.462698412698413),\n",
       " ('jaws', 4.013411078717201),\n",
       " ('forefoot', 3.641798941798942),\n",
       " ('muzzle', 3.213352007469654),\n",
       " ('breed', 3.1215419501133788),\n",
       " ('paw', 2.6220952380952385),\n",
       " ('lair', 2.4278659611992945),\n",
       " ('skin', 2.4111220580186097),\n",
       " ('mouth', 1.8952218982831228),\n",
       " ('teeth', 1.7572316572316573),\n",
       " ('brush', 1.638809523809524),\n",
       " ('hide', 1.5333890281258702),\n",
       " ('belly', 1.4567195767195769),\n",
       " ('snout', 1.4567195767195766),\n",
       " ('bark', 1.3656746031746032),\n",
       " ('route', 1.3656746031746032),\n",
       " ('tooth', 1.2415223665223665),\n",
       " ('tail', 1.2368373764600178),\n",
       " ('bite', 1.2139329805996473),\n",
       " ('throat', 1.2075438596491226)]"
      ]
     },
     "execution_count": 23,
     "metadata": {},
     "output_type": "execute_result"
    }
   ],
   "source": [
    "possessor2possessed_and_weights['wolf']"
   ]
  },
  {
   "cell_type": "code",
   "execution_count": 24,
   "metadata": {
    "id": "NbdOyTd0m2RS"
   },
   "outputs": [],
   "source": [
    "with open('../possessor2possessed_and_weights.json','w') as f:\n",
    "  json.dump(possessor2possessed_and_weights,f)"
   ]
  },
  {
   "cell_type": "code",
   "execution_count": 25,
   "metadata": {
    "colab": {
     "base_uri": "https://localhost:8080/",
     "height": 17
    },
    "id": "xx8H32zrrMIG",
    "outputId": "2727a29d-a775-4a19-a272-5c0fc1a1c5c7"
   },
   "outputs": [],
   "source": [
    "# from google.colab import files\n",
    "# files.download('/content/possessor2possessed_and_weights.json')"
   ]
  },
  {
   "cell_type": "markdown",
   "metadata": {
    "id": "AeerXNIZo8ml"
   },
   "source": [
    "***"
   ]
  }
 ],
 "metadata": {
  "colab": {
   "collapsed_sections": [],
   "name": " processing_possessor_possessed_pairs.ipynb",
   "provenance": []
  },
  "gpuClass": "standard",
  "kernelspec": {
   "display_name": "Python 3 (ipykernel)",
   "language": "python",
   "name": "python3"
  },
  "language_info": {
   "codemirror_mode": {
    "name": "ipython",
    "version": 3
   },
   "file_extension": ".py",
   "mimetype": "text/x-python",
   "name": "python",
   "nbconvert_exporter": "python",
   "pygments_lexer": "ipython3",
   "version": "3.9.12"
  }
 },
 "nbformat": 4,
 "nbformat_minor": 1
}
