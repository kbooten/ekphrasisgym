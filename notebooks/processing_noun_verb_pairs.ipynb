{
 "cells": [
  {
   "cell_type": "markdown",
   "metadata": {
    "id": "8lhwKdiElb-W"
   },
   "source": [
    "# Recursive Ekphrasis Gym\n",
    "\n",
    "## Processing `(noun,verb)` pairs"
   ]
  },
  {
   "cell_type": "code",
   "execution_count": 1,
   "metadata": {
    "colab": {
     "base_uri": "https://localhost:8080/"
    },
    "id": "4QAPt3jvSBfk",
    "outputId": "529f6c29-5c82-4575-af93-0762a0f04fa0"
   },
   "outputs": [],
   "source": [
    "#! wget https://github.com/kbooten/ekphrasisgym/raw/main/noun2verb_tuples_with_count.json"
   ]
  },
  {
   "cell_type": "code",
   "execution_count": 2,
   "metadata": {
    "id": "t8Lo-ixmSHRY"
   },
   "outputs": [],
   "source": [
    "import json\n",
    "\n",
    "with open('noun2verb_tuples_with_count.json','r') as f:\n",
    "  noun2verb_tuples_with_count = json.load(f)"
   ]
  },
  {
   "cell_type": "code",
   "execution_count": 3,
   "metadata": {
    "colab": {
     "base_uri": "https://localhost:8080/"
    },
    "id": "QG__OfRVSZou",
    "outputId": "c57c4957-1c49-4a6b-c6bb-2b16d205beec"
   },
   "outputs": [
    {
     "data": {
      "text/plain": [
       "[[['body', 'require', 1], 69],\n",
       " [['art', 'ransom', 1], 2],\n",
       " [['eyes', 'teach', 2], 14],\n",
       " [['time', 'bring on', 1], 6]]"
      ]
     },
     "execution_count": 3,
     "metadata": {},
     "output_type": "execute_result"
    }
   ],
   "source": [
    "noun2verb_tuples_with_count[:4]"
   ]
  },
  {
   "cell_type": "code",
   "execution_count": 4,
   "metadata": {
    "colab": {
     "base_uri": "https://localhost:8080/"
    },
    "id": "RXt6hJlEaIba",
    "outputId": "369c7d4d-f7c1-41c0-dd20-111e0b7e655a"
   },
   "outputs": [
    {
     "data": {
      "text/plain": [
       "[['mouse', 'have', 1],\n",
       " ['mouse', 'tread', 1],\n",
       " ['mouse', 'eat', 1],\n",
       " ['mouse', 'give', 1],\n",
       " ['mouse', 'begin', 1],\n",
       " ['mouse', 'find', 1],\n",
       " ['mouse', 'marry', 1],\n",
       " ['mouse', 'repay', 1],\n",
       " ['mouse', 'see', 1],\n",
       " ['mouse', 'build', 1],\n",
       " ['mouse', 'worry', 1],\n",
       " ['mouse', 'poke', 1],\n",
       " ['mouse', 'transform', 1],\n",
       " ['mouse', 'fret', 1],\n",
       " ['mouse', 'think', 1],\n",
       " ['mouse', 'make', 1],\n",
       " ['mouse', 'help', 1],\n",
       " ['mouse', 'deserve', 1],\n",
       " ['mouse', 'show', 1],\n",
       " ['mouse', 'take', 1],\n",
       " ['mouse', 'say', 1],\n",
       " ['mouse', 'leave', 1],\n",
       " ['mouse', 'bring', 1],\n",
       " ['mouse', 'enter', 1],\n",
       " ['mouse', 'feast', 1],\n",
       " ['mouse', 'prefer', 1],\n",
       " ['mouse', 'recollect', 1],\n",
       " ['mouse', 'sniff', 1],\n",
       " ['mouse', 'publish', 1],\n",
       " ['mouse', 'answer', 1],\n",
       " ['mouse', 'consume', 1],\n",
       " ['mouse', 'lead', 1],\n",
       " ['mouse', 'gnaw', 1],\n",
       " ['mouse', 'visit', 1],\n",
       " ['mouse', 'run up', 1],\n",
       " ['mouse', 'suspend', 1],\n",
       " ['mouse', 'nibble', 1],\n",
       " ['mouse', 'notice', 1],\n",
       " ['mouse', 'recommend', 1],\n",
       " ['mouse', 'hear', 1],\n",
       " ['mouse', 'gird up', 1],\n",
       " ['mouse', 'stir', 1],\n",
       " ['mouse', 'cross', 1],\n",
       " ['mouse', 'represent', 1],\n",
       " ['mouse', 'scare', 1],\n",
       " ['mouse', 'fix', 1],\n",
       " ['mouse', 'run out', 1],\n",
       " ['mouse', 'curtsy', 1],\n",
       " ['mouse', 'seize', 1],\n",
       " ['mouse', 'bite off', 1],\n",
       " ['mouse', 'drag away', 1],\n",
       " ['mouse', 'fall', 1],\n",
       " ['mouse', 'lurk', 1],\n",
       " ['mouse', 'constitute', 1],\n",
       " ['mouse', 'accept', 1],\n",
       " ['mouse', 'spring', 1],\n",
       " ['mouse', 'escape', 1],\n",
       " ['mouse', 'watch', 1],\n",
       " ['mouse', 'shriek', 1],\n",
       " ['mouse', 'start', 1],\n",
       " ['mouse', 'put out', 1],\n",
       " ['mouse', 'thank', 1],\n",
       " ['mouse', 'bring out', 1],\n",
       " ['mouse', 'do', 1],\n",
       " ['mouse', 'bid', 1],\n",
       " ['mouse', 'rustle', 1],\n",
       " ['mouse', 'move', 1],\n",
       " ['mouse', 'run', 1],\n",
       " ['mouse', 'forget', 1],\n",
       " ['mouse', 'drag', 1],\n",
       " ['mouse', 'gnaw out', 1],\n",
       " ['mouse', 'repeat', 1],\n",
       " ['mouse', 'shift', 1],\n",
       " ['mouse', 'get', 1],\n",
       " ['mouse', 'shake', 1],\n",
       " ['mouse', 'wash', 1],\n",
       " ['mouse', 'put', 1],\n",
       " ['mouse', 'prepare', 1],\n",
       " ['mouse', 'clean up', 1],\n",
       " ['mouse', 'make up', 1],\n",
       " ['mouse', 'creep down', 1],\n",
       " ['mouse', 'reach', 1],\n",
       " ['mouse', 'teach', 1],\n",
       " ['mouse', 'bite', 1],\n",
       " ['mouse', 'pit', 1],\n",
       " ['mouse', 'enjoy', 1],\n",
       " ['mouse', 'hold up', 1],\n",
       " ['mouse', 'busy', 1],\n",
       " ['mouse', 'undertake', 1],\n",
       " ['mouse', 'bethink', 1],\n",
       " ['mouse', 'die', 1],\n",
       " ['mouse', 'frighten', 1],\n",
       " ['mouse', 'hold', 1],\n",
       " ['mouse', 'speak', 1],\n",
       " ['mouse', 'invite down', 1],\n",
       " ['mouse', 'carry', 1],\n",
       " ['mouse', 'cause', 1],\n",
       " ['mouse', 'attack', 1],\n",
       " ['mouse', 'sing', 1],\n",
       " ['mouse', 'scorn', 1],\n",
       " ['mouse', 'slake', 1],\n",
       " ['mouse', 'induce', 1],\n",
       " ['mouse', 'steal', 1],\n",
       " ['mouse', 'destroy', 1],\n",
       " ['mouse', 'shrug', 1],\n",
       " ['mouse', 'clean', 1],\n",
       " ['mouse', 'feel', 1],\n",
       " ['mouse', 'taste', 1],\n",
       " ['mouse', 'heap', 1],\n",
       " ['mouse', 'disturb', 1],\n",
       " ['mouse', 'survey', 1],\n",
       " ['mouse', 'save', 1],\n",
       " ['mouse', 'cry', 1],\n",
       " ['mouse', 'employ', 1],\n",
       " ['mouse', 'lay', 1],\n",
       " ['mouse', 'tickle', 1],\n",
       " ['mouse', 'use', 1],\n",
       " ['mouse', 'establish', 1],\n",
       " ['mouse', 'observe', 1],\n",
       " ['mouse', 'prick up', 1],\n",
       " ['mouse', 'interrupt', 1],\n",
       " ['mouse', 'inform', 1],\n",
       " ['mouse', 'pay', 1],\n",
       " ['mouse', 'trouble', 1],\n",
       " ['mouse', 'like', 1],\n",
       " ['mouse', 'look', 1],\n",
       " ['mouse', 'construct', 1],\n",
       " ['mouse', 'squeeze', 1],\n",
       " ['mouse', 'jump', 1],\n",
       " ['mouse', 'enforce', 1],\n",
       " ['mouse', 'love', 1],\n",
       " ['mouse', 'set', 1],\n",
       " ['mouse', 'scratch', 1],\n",
       " ['mouse', 'dare', 1],\n",
       " ['mouse', 'beat', 1],\n",
       " ['mouse', 'instruct', 1],\n",
       " ['mouse', 'tell', 1],\n",
       " ['mouse', 'bake', 1],\n",
       " ['mouse', 'breathe', 1],\n",
       " ['mouse', 'summon', 1],\n",
       " ['mouse', 'declare', 1],\n",
       " ['mouse', 'mistake', 1],\n",
       " ['mouse', 'hit', 1],\n",
       " ['mouse', 'hide', 1],\n",
       " ['mouse', 'streak out', 1],\n",
       " ['mouse', 'eat up', 1],\n",
       " ['mouse', 'dart down', 1],\n",
       " ['mouse', 'fasten', 1],\n",
       " ['mouse', 'live', 1],\n",
       " ['mouse', 'stand', 1],\n",
       " ['mouse', 'seek', 1],\n",
       " ['mouse', 'report', 1],\n",
       " ['mouse', 'utter', 1],\n",
       " ['mouse', 'pull', 1],\n",
       " ['mouse', 'conceal', 1],\n",
       " ['mouse', 'place', 1],\n",
       " ['mouse', 'cast', 1],\n",
       " ['mouse', 'strike', 1],\n",
       " ['mouse', 'snatch up', 1],\n",
       " ['mouse', 'climb', 1],\n",
       " ['mouse', 'keep', 1],\n",
       " ['mouse', 'guide', 1],\n",
       " ['mouse', 'shout', 1],\n",
       " ['mouse', 'shoe', 1],\n",
       " ['mouse', 'push', 1],\n",
       " ['mouse', 'hire', 1],\n",
       " ['mouse', 'wave', 1],\n",
       " ['mouse', 'prove', 1],\n",
       " ['mouse', 'crawl down', 1],\n",
       " ['mouse', 'relate', 1],\n",
       " ['mouse', 'occupy', 1],\n",
       " ['mouse', 'ask', 1],\n",
       " ['mouse', 'aid', 1],\n",
       " ['mouse', 'differ', 1],\n",
       " ['mouse', 'realise', 1],\n",
       " ['mouse', 'shew', 1],\n",
       " ['mouse', 'call', 1],\n",
       " ['mouse', 'stick', 1],\n",
       " ['mouse', 'contemplate', 1],\n",
       " ['mouse', 'hurt', 1],\n",
       " ['mouse', 'devour', 1],\n",
       " ['mouse', 'whet', 1],\n",
       " ['mouse', 'poke out', 1],\n",
       " ['mouse', 'present', 1],\n",
       " ['mouse', 'confine', 1],\n",
       " ['mouse', 'throw', 1],\n",
       " ['mouse', 'open', 1],\n",
       " ['mouse', 'blink', 1],\n",
       " ['mouse', 'dig down', 1],\n",
       " ['mouse', 'derive', 1],\n",
       " ['mouse', 'weigh', 1],\n",
       " ['mouse', 'work', 1],\n",
       " ['mouse', 'edukate', 1],\n",
       " ['mouse', 'suggest', 1],\n",
       " ['mouse', 'turn', 1],\n",
       " ['mouse', 'disappoint', 1],\n",
       " ['mouse', 'take in', 1],\n",
       " ['mouse', 'lose', 1],\n",
       " ['mouse', 'spare', 1],\n",
       " ['mouse', 'understand', 1],\n",
       " ['mouse', 'whisk', 1],\n",
       " ['mouse', 'lecture', 1],\n",
       " ['mouse', 'reproduce', 1],\n",
       " ['mouse', 'seat', 1],\n",
       " ['mouse', 'question', 1],\n",
       " ['mouse', 'wove', 1],\n",
       " ['mouse', 'entwine', 1],\n",
       " ['mouse', 'retain', 1],\n",
       " ['mouse', 'go up', 1],\n",
       " ['mouse', 'raise', 1],\n",
       " ['mouse', 'play', 1],\n",
       " ['mouse', 'insult', 1],\n",
       " ['mouse', 'expel', 1],\n",
       " ['mouse', 'approach', 1],\n",
       " ['mouse', 'crush', 1],\n",
       " ['mouse', 'deliver', 1],\n",
       " ['mouse', 'frequent', 1],\n",
       " ['mouse', 'dispatch', 1],\n",
       " ['mouse', 'allure', 1],\n",
       " ['mouse', 'select', 1],\n",
       " ['mouse', 'cock', 1],\n",
       " ['mouse', 'fear', 1],\n",
       " ['mouse', 'throw out', 1],\n",
       " ['mouse', 'unlock', 1],\n",
       " ['mouse', 'dodge', 1],\n",
       " ['mouse', 'catch', 1],\n",
       " ['mouse', 'gather up', 1],\n",
       " ['mouse', 'cost', 1],\n",
       " ['mouse', 'pass', 1],\n",
       " ['mouse', 'liberate', 1],\n",
       " ['mouse', 'produce', 1],\n",
       " ['mouse', 'wake up', 1],\n",
       " ['mouse', 'lay up', 1],\n",
       " ['mouse', 'wield', 1],\n",
       " ['mouse', 'quit', 1],\n",
       " ['mouse', 'go', 1],\n",
       " ['mouse', 'bear', 1],\n",
       " ['mouse', 'push up', 1],\n",
       " ['mouse', 'take up', 1],\n",
       " ['mouse', 'thrust out', 1],\n",
       " ['mouse', 'know', 1],\n",
       " ['mouse', 'inhabit', 1],\n",
       " ['mouse', 'effect', 1],\n",
       " ['mouse', 'descend', 1],\n",
       " ['mouse', 'doth', 1],\n",
       " ['mouse', 'invite', 1],\n",
       " ['mouse', 'persuade', 1],\n",
       " ['mouse', 'double', 1],\n",
       " ['mouse', 'justify', 1],\n",
       " ['mouse', 'trust', 1],\n",
       " ['mouse', 'clinch', 1],\n",
       " ['mouse', 'redouble', 1],\n",
       " ['mouse', 'turn up', 1],\n",
       " ['mouse', 'plot', 1],\n",
       " ['mouse', 'tempt', 1],\n",
       " ['mouse', 'contain', 1],\n",
       " ['mouse', 'change', 1],\n",
       " ['mouse', 'resume', 1],\n",
       " ['mouse', 'clear', 1],\n",
       " ['mouse', 'want', 1],\n",
       " ['mouse', 'break', 1],\n",
       " ['mouse', 'tuck', 1],\n",
       " ['mouse', 'bare', 1],\n",
       " ['mouse', 'gather', 1],\n",
       " ['mouse', 'double up', 1],\n",
       " ['mouse', 'paint', 1],\n",
       " ['mouse', 'serve', 1],\n",
       " ['mouse', 'spy', 1],\n",
       " ['mouse', 'meet', 1],\n",
       " ['mouse', 'force', 1],\n",
       " ['mouse', 'resemble', 1],\n",
       " ['mouse', 'convey', 1],\n",
       " ['mouse', 'pick up', 1],\n",
       " ['mouse', 'belong', 1],\n",
       " ['mouse', 'cut', 1],\n",
       " ['mouse', 'sound', 1],\n",
       " ['mouse', 'jerk', 1],\n",
       " ['mouse', 'gain', 1],\n",
       " ['mouse', 'fling', 1],\n",
       " ['mouse', 'draw', 1],\n",
       " ['mouse', 'brush', 1],\n",
       " ['mouse', 'nibble through', 1],\n",
       " ['mouse', 'lie', 1],\n",
       " ['mouse', 'rally', 1]]"
      ]
     },
     "execution_count": 4,
     "metadata": {},
     "output_type": "execute_result"
    }
   ],
   "source": [
    "[n for n,c in noun2verb_tuples_with_count if n[0]==\"mouse\"]#.count(1)"
   ]
  },
  {
   "cell_type": "markdown",
   "metadata": {
    "id": "9lEJyxQolx_X"
   },
   "source": [
    "Using WordNet to make sure a token is a word."
   ]
  },
  {
   "cell_type": "code",
   "execution_count": 5,
   "metadata": {
    "colab": {
     "base_uri": "https://localhost:8080/"
    },
    "id": "OAyzCbHUAfb3",
    "outputId": "65ae2e7d-8ebd-4f9a-da1d-538a73d03545"
   },
   "outputs": [
    {
     "name": "stderr",
     "output_type": "stream",
     "text": [
      "[nltk_data] Downloading package wordnet to /Users/kyle/nltk_data...\n",
      "[nltk_data]   Package wordnet is already up-to-date!\n",
      "[nltk_data] Downloading package omw-1.4 to /Users/kyle/nltk_data...\n",
      "[nltk_data]   Package omw-1.4 is already up-to-date!\n"
     ]
    }
   ],
   "source": [
    "import nltk\n",
    "nltk.download('wordnet')\n",
    "nltk.download('omw-1.4')\n",
    "from nltk.corpus import wordnet as wn"
   ]
  },
  {
   "cell_type": "code",
   "execution_count": 6,
   "metadata": {
    "colab": {
     "base_uri": "https://localhost:8080/"
    },
    "id": "3P_dXfcGAlpT",
    "outputId": "8d7035cf-57a5-4871-963a-9589b363eb31"
   },
   "outputs": [
    {
     "data": {
      "text/plain": [
       "[Synset('jiggle.v.01')]"
      ]
     },
     "execution_count": 6,
     "metadata": {},
     "output_type": "execute_result"
    }
   ],
   "source": [
    "wn.synsets(\"wiggle\",pos=wn.VERB)"
   ]
  },
  {
   "cell_type": "code",
   "execution_count": 7,
   "metadata": {
    "id": "b2s4aqMGZRlK"
   },
   "outputs": [],
   "source": [
    "from collections import defaultdict\n",
    "\n",
    "noun2verbs = defaultdict(list)"
   ]
  },
  {
   "cell_type": "code",
   "execution_count": 8,
   "metadata": {
    "id": "aPYQXHMMTz7O"
   },
   "outputs": [],
   "source": [
    "min_count = 4\n",
    "\n",
    "for tup,count in noun2verb_tuples_with_count:\n",
    "  noun,verb,num = tup\n",
    "  verbtosearch = verb.split(\" \")[0]\n",
    "  if count>=min_count: ### don't add very rare words\n",
    "    if (noun.isalpha() and verbtosearch.isalpha() and noun.islower() and verbtosearch.islower()):\n",
    "      if wn.synsets(verbtosearch,pos=wn.VERB)!=[]:\n",
    "        noun_plus_num = noun+\"~\"+str(num)\n",
    "        noun2verbs[noun_plus_num]+=[verb]*count"
   ]
  },
  {
   "cell_type": "markdown",
   "metadata": {
    "id": "fG9IjRjzP5tI"
   },
   "source": [
    "Get rid of values that are the same as the key."
   ]
  },
  {
   "cell_type": "code",
   "execution_count": 9,
   "metadata": {
    "id": "Dy_iJ3aPPfhB"
   },
   "outputs": [],
   "source": [
    "for key,values in noun2verbs.items():\n",
    "  noun2verbs[key] = [v for v in values if v.split(\"~\")[0]!=key]"
   ]
  },
  {
   "cell_type": "code",
   "execution_count": 10,
   "metadata": {
    "colab": {
     "base_uri": "https://localhost:8080/"
    },
    "id": "HTEzwGpKPsDN",
    "outputId": "ac1fafa5-5adf-422e-ea50-873ae2660f2d"
   },
   "outputs": [
    {
     "data": {
      "text/plain": [
       "['eat', 'eat', 'eat']"
      ]
     },
     "execution_count": 10,
     "metadata": {},
     "output_type": "execute_result"
    }
   ],
   "source": [
    "noun2verbs[\"pig~1\"][:3]"
   ]
  },
  {
   "cell_type": "markdown",
   "metadata": {
    "id": "a-Tr00YrQEa3"
   },
   "source": [
    "Sometimes a value is just a letter.  Filter out really short words."
   ]
  },
  {
   "cell_type": "code",
   "execution_count": 11,
   "metadata": {
    "id": "IzPENNgYPt5b"
   },
   "outputs": [],
   "source": [
    "for key,values in noun2verbs.items():\n",
    "  noun2verbs[key] = [v for v in values if len(v)>2]"
   ]
  },
  {
   "cell_type": "markdown",
   "metadata": {
    "id": "qPlN_jb5RYJf"
   },
   "source": [
    "### Rank by TF-IDF"
   ]
  },
  {
   "cell_type": "code",
   "execution_count": 12,
   "metadata": {
    "id": "2CiZ-rGQyUH5"
   },
   "outputs": [],
   "source": [
    "sets_of_words = list(noun2verbs.values())"
   ]
  },
  {
   "cell_type": "code",
   "execution_count": 13,
   "metadata": {
    "colab": {
     "base_uri": "https://localhost:8080/"
    },
    "id": "325g3Ya3QxeP",
    "outputId": "be9e00de-6f4b-4c02-fff1-ec4f939c2efb"
   },
   "outputs": [
    {
     "data": {
      "text/plain": [
       "12714"
      ]
     },
     "execution_count": 13,
     "metadata": {},
     "output_type": "execute_result"
    }
   ],
   "source": [
    "total_number_of_sets = len(sets_of_words)\n",
    "total_number_of_sets"
   ]
  },
  {
   "cell_type": "code",
   "execution_count": 14,
   "metadata": {
    "id": "QbDvRQjPPD7t"
   },
   "outputs": [],
   "source": [
    "from collections import defaultdict\n",
    "\n",
    "word2doc_count = defaultdict(int)"
   ]
  },
  {
   "cell_type": "code",
   "execution_count": 15,
   "metadata": {
    "id": "89VhYJGLO7Sp"
   },
   "outputs": [],
   "source": [
    "for s in sets_of_words:\n",
    "  s = list(set(s))\n",
    "  for t in s:\n",
    "    word2doc_count[t]+=1"
   ]
  },
  {
   "cell_type": "code",
   "execution_count": 16,
   "metadata": {
    "colab": {
     "base_uri": "https://localhost:8080/"
    },
    "id": "gTupUdqoP1LV",
    "outputId": "4bc3394f-e66e-4858-9edf-4a39e8278acc"
   },
   "outputs": [
    {
     "data": {
      "text/plain": [
       "369"
      ]
     },
     "execution_count": 16,
     "metadata": {},
     "output_type": "execute_result"
    }
   ],
   "source": [
    "word2doc_count['eat']"
   ]
  },
  {
   "cell_type": "code",
   "execution_count": 17,
   "metadata": {
    "id": "rp-8uHtIQY6N"
   },
   "outputs": [],
   "source": [
    "noun2verbs_and_weights = {}"
   ]
  },
  {
   "cell_type": "code",
   "execution_count": 18,
   "metadata": {
    "id": "At0wCZGvQERF"
   },
   "outputs": [],
   "source": [
    "for key,words in noun2verbs.items():\n",
    "  if len(words)!=0: ## no empty sets\n",
    "    unique_words = list(set(words))\n",
    "    verbs_and_weights = []\n",
    "    for w in unique_words:\n",
    "      tf = words.count(w)/len(words)\n",
    "      idf = total_number_of_sets/word2doc_count[w]\n",
    "      tfidf = tf * idf\n",
    "      verbs_and_weights.append((w,tfidf))\n",
    "    verbs_and_weights.sort(key=lambda x:x[1], reverse=True)\n",
    "    noun2verbs_and_weights[key]=verbs_and_weights[:20]"
   ]
  },
  {
   "cell_type": "markdown",
   "metadata": {
    "id": "M68tzYtegD-0"
   },
   "source": [
    "Make dictionary more concise.\n",
    "\n",
    "```\n",
    "dict[key] = {\n",
    "  \"num\":1, ## or 2\n",
    "  \"verbs\":[(\"animadvert\",11.45),...]\n",
    "}\n",
    "```"
   ]
  },
  {
   "cell_type": "markdown",
   "metadata": {
    "id": "hmjj-vV6kXpB"
   },
   "source": [
    "First, only keep singular *or* plural of noun, whichever has more results (more likely to be correct)."
   ]
  },
  {
   "cell_type": "code",
   "execution_count": 19,
   "metadata": {
    "id": "lWcjXauhkipF"
   },
   "outputs": [],
   "source": [
    "all_keys_without_number = list(set([n.split(\"~\")[0] for n in noun2verbs_and_weights]))"
   ]
  },
  {
   "cell_type": "code",
   "execution_count": 20,
   "metadata": {
    "id": "Max1WCJHksI5"
   },
   "outputs": [],
   "source": [
    "for k in all_keys_without_number:\n",
    "  if ((k+\"~1\" in noun2verbs_and_weights) and (k+\"~2\" in noun2verbs_and_weights)):\n",
    "    if len(noun2verbs_and_weights[k+\"~1\"])>len(noun2verbs_and_weights[k+\"~2\"]):\n",
    "      del noun2verbs_and_weights[k+\"~2\"]\n",
    "    else:\n",
    "      del noun2verbs_and_weights[k+\"~1\"]"
   ]
  },
  {
   "cell_type": "code",
   "execution_count": 21,
   "metadata": {
    "id": "gSVxcI4ygGnB"
   },
   "outputs": [],
   "source": [
    "noun2verbs_and_weights_reformatted = {}\n",
    "\n",
    "for key,values in noun2verbs_and_weights.items():\n",
    "  # print(key)\n",
    "  # print(key.split(\"~\"))\n",
    "  key,num = key.split(\"~\")\n",
    "  noun2verbs_and_weights_reformatted[key]={}\n",
    "  noun2verbs_and_weights_reformatted[key][\"num\"]=num\n",
    "  noun2verbs_and_weights_reformatted[key][\"verbs\"]=values"
   ]
  },
  {
   "cell_type": "code",
   "execution_count": 22,
   "metadata": {
    "colab": {
     "base_uri": "https://localhost:8080/"
    },
    "id": "GsTh6N7Bjokl",
    "outputId": "d3850f56-06dc-4c44-aeea-aed36ebc602c"
   },
   "outputs": [
    {
     "data": {
      "text/plain": [
       "{'num': '1',\n",
       " 'verbs': [('toll', 140.55199550309163),\n",
       "  ('clang out', 40.498032602585724),\n",
       "  ('tinkle', 35.73355817875211),\n",
       "  ('clang', 30.016188870151773),\n",
       "  ('ring out', 29.68634064080944),\n",
       "  ('sound out', 28.586846543001688),\n",
       "  ('peal forth', 21.440134907251263),\n",
       "  ('jangle', 21.440134907251263),\n",
       "  ('peal out', 17.866779089376056),\n",
       "  ('boom out', 17.152107925801012),\n",
       "  ('toll out', 16.67566048341765),\n",
       "  ('shrill', 14.293423271500844),\n",
       "  ('ring', 14.13099800705197),\n",
       "  ('peal', 9.188629245964828),\n",
       "  ('summon', 6.856194902589835),\n",
       "  ('chime', 5.717369308600338),\n",
       "  ('sound', 5.410127499960599),\n",
       "  ('boom', 4.466694772344014),\n",
       "  ('send forth', 4.083835220428813),\n",
       "  ('signal', 3.062876415321609)]}"
      ]
     },
     "execution_count": 22,
     "metadata": {},
     "output_type": "execute_result"
    }
   ],
   "source": [
    "noun2verbs_and_weights_reformatted[\"bell\"]"
   ]
  },
  {
   "cell_type": "code",
   "execution_count": 23,
   "metadata": {
    "id": "NbdOyTd0m2RS"
   },
   "outputs": [],
   "source": [
    "with open('../noun2verbs_and_weights.json','w') as f:\n",
    "  json.dump(noun2verbs_and_weights_reformatted,f)"
   ]
  },
  {
   "cell_type": "code",
   "execution_count": 24,
   "metadata": {
    "colab": {
     "base_uri": "https://localhost:8080/",
     "height": 17
    },
    "id": "xx8H32zrrMIG",
    "outputId": "59812bda-f350-448c-ca83-97a628774342"
   },
   "outputs": [],
   "source": [
    "# from google.colab import files\n",
    "# files.download('/content/noun2verbs_and_weights.json')"
   ]
  },
  {
   "cell_type": "markdown",
   "metadata": {
    "id": "AeerXNIZo8ml"
   },
   "source": [
    "***"
   ]
  }
 ],
 "metadata": {
  "colab": {
   "collapsed_sections": [],
   "name": "processing_noun_verb_pairs.ipynb",
   "provenance": []
  },
  "gpuClass": "standard",
  "kernelspec": {
   "display_name": "Python 3 (ipykernel)",
   "language": "python",
   "name": "python3"
  },
  "language_info": {
   "codemirror_mode": {
    "name": "ipython",
    "version": 3
   },
   "file_extension": ".py",
   "mimetype": "text/x-python",
   "name": "python",
   "nbconvert_exporter": "python",
   "pygments_lexer": "ipython3",
   "version": "3.9.12"
  }
 },
 "nbformat": 4,
 "nbformat_minor": 1
}
