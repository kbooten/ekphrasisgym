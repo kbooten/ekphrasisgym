{
  "cells": [
    {
      "cell_type": "markdown",
      "metadata": {
        "id": "8lhwKdiElb-W"
      },
      "source": [
        "# Recursive Ekphrasis Gym\n",
        "\n",
        "## Processing `(noun,verb)` pairs"
      ]
    },
    {
      "cell_type": "code",
      "execution_count": null,
      "metadata": {
        "colab": {
          "base_uri": "https://localhost:8080/"
        },
        "id": "4QAPt3jvSBfk",
        "outputId": "529f6c29-5c82-4575-af93-0762a0f04fa0"
      },
      "outputs": [
        {
          "output_type": "stream",
          "name": "stdout",
          "text": [
            "--2022-08-12 10:55:07--  https://github.com/kbooten/ekphrasisgym/raw/main/noun2verb_tuples_with_count.json\n",
            "Resolving github.com (github.com)... 140.82.112.3\n",
            "Connecting to github.com (github.com)|140.82.112.3|:443... connected.\n",
            "HTTP request sent, awaiting response... 302 Found\n",
            "Location: https://raw.githubusercontent.com/kbooten/ekphrasisgym/main/noun2verb_tuples_with_count.json [following]\n",
            "--2022-08-12 10:55:07--  https://raw.githubusercontent.com/kbooten/ekphrasisgym/main/noun2verb_tuples_with_count.json\n",
            "Resolving raw.githubusercontent.com (raw.githubusercontent.com)... 185.199.108.133, 185.199.111.133, 185.199.109.133, ...\n",
            "Connecting to raw.githubusercontent.com (raw.githubusercontent.com)|185.199.108.133|:443... connected.\n",
            "HTTP request sent, awaiting response... 200 OK\n",
            "Length: 49097393 (47M) [text/plain]\n",
            "Saving to: ‘noun2verb_tuples_with_count.json.3’\n",
            "\n",
            "noun2verb_tuples_wi 100%[===================>]  46.82M   274MB/s    in 0.2s    \n",
            "\n",
            "2022-08-12 10:55:07 (274 MB/s) - ‘noun2verb_tuples_with_count.json.3’ saved [49097393/49097393]\n",
            "\n"
          ]
        }
      ],
      "source": [
        "! wget https://github.com/kbooten/ekphrasisgym/raw/main/noun2verb_tuples_with_count.json"
      ]
    },
    {
      "cell_type": "code",
      "execution_count": null,
      "metadata": {
        "id": "t8Lo-ixmSHRY"
      },
      "outputs": [],
      "source": [
        "import json\n",
        "\n",
        "with open('noun2verb_tuples_with_count.json','r') as f:\n",
        "  noun2verb_tuples_with_count = json.load(f)"
      ]
    },
    {
      "cell_type": "code",
      "execution_count": null,
      "metadata": {
        "colab": {
          "base_uri": "https://localhost:8080/"
        },
        "id": "QG__OfRVSZou",
        "outputId": "c57c4957-1c49-4a6b-c6bb-2b16d205beec"
      },
      "outputs": [
        {
          "output_type": "execute_result",
          "data": {
            "text/plain": [
              "[[['grace', 'kill', 1], 2],\n",
              " [['child', 'sum', 1], 4],\n",
              " [['world', 'see', 1], 715],\n",
              " [['thou', 'find', 1], 132]]"
            ]
          },
          "metadata": {},
          "execution_count": 3
        }
      ],
      "source": [
        "noun2verb_tuples_with_count[:4]"
      ]
    },
    {
      "cell_type": "code",
      "source": [
        "[n for n,c in noun2verb_tuples_with_count if n[0]==\"mouse\"]#.count(1)"
      ],
      "metadata": {
        "colab": {
          "base_uri": "https://localhost:8080/"
        },
        "id": "RXt6hJlEaIba",
        "outputId": "369c7d4d-f7c1-41c0-dd20-111e0b7e655a"
      },
      "execution_count": null,
      "outputs": [
        {
          "output_type": "execute_result",
          "data": {
            "text/plain": [
              "[['mouse', 'have', 1],\n",
              " ['mouse', 'eat', 1],\n",
              " ['mouse', 'find', 1],\n",
              " ['mouse', 'begin', 1],\n",
              " ['mouse', 'marry', 1],\n",
              " ['mouse', 'repay', 1],\n",
              " ['mouse', 'see', 1],\n",
              " ['mouse', 'build', 1],\n",
              " ['mouse', 'worry', 1],\n",
              " ['mouse', 'poke', 1],\n",
              " ['mouse', 'transform', 1],\n",
              " ['mouse', 'fret', 1],\n",
              " ['mouse', 'take', 1],\n",
              " ['mouse', 'deserve', 1],\n",
              " ['mouse', 'say', 1],\n",
              " ['mouse', 'make', 1],\n",
              " ['mouse', 'help', 1],\n",
              " ['mouse', 'show', 1],\n",
              " ['mouse', 'think', 1],\n",
              " ['mouse', 'leave', 1],\n",
              " ['mouse', 'bring', 1],\n",
              " ['mouse', 'enter', 1],\n",
              " ['mouse', 'feast', 1],\n",
              " ['mouse', 'prefer', 1],\n",
              " ['mouse', 'recollect', 1],\n",
              " ['mouse', 'publish', 1],\n",
              " ['mouse', 'answer', 1],\n",
              " ['mouse', 'consume', 1],\n",
              " ['mouse', 'lead', 1],\n",
              " ['mouse', 'gnaw', 1],\n",
              " ['mouse', 'visit', 1],\n",
              " ['mouse', 'give', 1],\n",
              " ['mouse', 'run', 1],\n",
              " ['mouse', 'nibble', 1],\n",
              " ['mouse', 'notice', 1],\n",
              " ['mouse', 'recommend', 1],\n",
              " ['mouse', 'hear', 1],\n",
              " ['mouse', 'gird', 1],\n",
              " ['mouse', 'stir', 1],\n",
              " ['mouse', 'cross', 1],\n",
              " ['mouse', 'represent', 1],\n",
              " ['mouse', 'scare', 1],\n",
              " ['mouse', 'fix', 1],\n",
              " ['mouse', 'curtsy', 1],\n",
              " ['mouse', 'seize', 1],\n",
              " ['mouse', 'fall', 1],\n",
              " ['mouse', 'lurk', 1],\n",
              " ['mouse', 'constitute', 1],\n",
              " ['mouse', 'accept', 1],\n",
              " ['mouse', 'spring', 1],\n",
              " ['mouse', 'escape', 1],\n",
              " ['mouse', 'watch', 1],\n",
              " ['mouse', 'shriek', 1],\n",
              " ['mouse', 'put', 1],\n",
              " ['mouse', 'thank', 1],\n",
              " ['mouse', 'do', 1],\n",
              " ['mouse', 'bid', 1],\n",
              " ['mouse', 'forget', 1],\n",
              " ['mouse', 'drag', 1],\n",
              " ['mouse', 'repeat', 1],\n",
              " ['mouse', 'get', 1],\n",
              " ['mouse', 'shake', 1],\n",
              " ['mouse', 'wash', 1],\n",
              " ['mouse', 'clean', 1],\n",
              " ['mouse', 'creep', 1],\n",
              " ['mouse', 'reach', 1],\n",
              " ['mouse', 'teach', 1],\n",
              " ['mouse', 'bite', 1],\n",
              " ['mouse', 'pit', 1],\n",
              " ['mouse', 'enjoy', 1],\n",
              " ['mouse', 'busy', 1],\n",
              " ['mouse', 'bethink', 1],\n",
              " ['mouse', 'die', 1],\n",
              " ['mouse', 'hold', 1],\n",
              " ['mouse', 'speak', 1],\n",
              " ['mouse', 'invite', 1],\n",
              " ['mouse', 'carry', 1],\n",
              " ['mouse', 'cause', 1],\n",
              " ['mouse', 'attack', 1],\n",
              " ['mouse', 'sing', 1],\n",
              " ['mouse', 'scorn', 1],\n",
              " ['mouse', 'slake', 1],\n",
              " ['mouse', 'induce', 1],\n",
              " ['mouse', 'destroy', 1],\n",
              " ['mouse', 'feel', 1],\n",
              " ['mouse', 'taste', 1],\n",
              " ['mouse', 'shrug', 1],\n",
              " ['mouse', 'heap', 1],\n",
              " ['mouse', 'disturb', 1],\n",
              " ['mouse', 'survey', 1],\n",
              " ['mouse', 'save', 1],\n",
              " ['mouse', 'cry', 1],\n",
              " ['mouse', 'lay', 1],\n",
              " ['mouse', 'tickle', 1],\n",
              " ['mouse', 'establish', 1],\n",
              " ['mouse', 'observe', 1],\n",
              " ['mouse', 'interrupt', 1],\n",
              " ['mouse', 'prick', 1],\n",
              " ['mouse', 'inform', 1],\n",
              " ['mouse', 'pay', 1],\n",
              " ['mouse', 'like', 1],\n",
              " ['mouse', 'look', 1],\n",
              " ['mouse', 'construct', 1],\n",
              " ['mouse', 'squeeze', 1],\n",
              " ['mouse', 'jump', 1],\n",
              " ['mouse', 'enforce', 1],\n",
              " ['mouse', 'love', 1],\n",
              " ['mouse', 'set', 1],\n",
              " ['mouse', 'dare', 1],\n",
              " ['mouse', 'beat', 1],\n",
              " ['mouse', 'instruct', 1],\n",
              " ['mouse', 'breathe', 1],\n",
              " ['mouse', 'summon', 1],\n",
              " ['mouse', 'declare', 1],\n",
              " ['mouse', 'mistake', 1],\n",
              " ['mouse', 'hit', 1],\n",
              " ['mouse', 'dart', 1],\n",
              " ['mouse', 'live', 1],\n",
              " ['mouse', 'stand', 1],\n",
              " ['mouse', 'seek', 1],\n",
              " ['mouse', 'report', 1],\n",
              " ['mouse', 'tell', 1],\n",
              " ['mouse', 'place', 1],\n",
              " ['mouse', 'conceal', 1],\n",
              " ['mouse', 'cast', 1],\n",
              " ['mouse', 'utter', 1],\n",
              " ['mouse', 'pull', 1],\n",
              " ['mouse', 'employ', 1],\n",
              " ['mouse', 'climb', 1],\n",
              " ['mouse', 'guide', 1],\n",
              " ['mouse', 'shout', 1],\n",
              " ['mouse', 'shoe', 1],\n",
              " ['mouse', 'push', 1],\n",
              " ['mouse', 'hire', 1],\n",
              " ['mouse', 'wave', 1],\n",
              " ['mouse', 'prove', 1],\n",
              " ['mouse', 'crawl', 1],\n",
              " ['mouse', 'relate', 1],\n",
              " ['mouse', 'occupy', 1],\n",
              " ['mouse', 'ask', 1],\n",
              " ['mouse', 'differ', 1],\n",
              " ['mouse', 'realise', 1],\n",
              " ['mouse', 'call', 1],\n",
              " ['mouse', 'stick', 1],\n",
              " ['mouse', 'hurt', 1],\n",
              " ['mouse', 'whet', 1],\n",
              " ['mouse', 'present', 1],\n",
              " ['mouse', 'confine', 1],\n",
              " ['mouse', 'use', 1],\n",
              " ['mouse', 'blink', 1],\n",
              " ['mouse', 'open', 1],\n",
              " ['mouse', 'dig', 1],\n",
              " ['mouse', 'derive', 1],\n",
              " ['mouse', 'edukate', 1],\n",
              " ['mouse', 'turn', 1],\n",
              " ['mouse', 'disappoint', 1],\n",
              " ['mouse', 'keep', 1],\n",
              " ['mouse', 'steal', 1],\n",
              " ['mouse', 'spare', 1],\n",
              " ['mouse', 'lose', 1],\n",
              " ['mouse', 'understand', 1],\n",
              " ['mouse', 'reproduce', 1],\n",
              " ['mouse', 'seat', 1],\n",
              " ['mouse', 'wove', 1],\n",
              " ['mouse', 'bake', 1],\n",
              " ['mouse', 'question', 1],\n",
              " ['mouse', 'entwine', 1],\n",
              " ['mouse', 'retain', 1],\n",
              " ['mouse', 'expel', 1],\n",
              " ['mouse', 'play', 1],\n",
              " ['mouse', 'insult', 1],\n",
              " ['mouse', 'deliver', 1],\n",
              " ['mouse', 'approach', 1],\n",
              " ['mouse', 'crush', 1],\n",
              " ['mouse', 'frequent', 1],\n",
              " ['mouse', 'allure', 1],\n",
              " ['mouse', 'cock', 1],\n",
              " ['mouse', 'fear', 1],\n",
              " ['mouse', 'throw', 1],\n",
              " ['mouse', 'catch', 1],\n",
              " ['mouse', 'gather', 1],\n",
              " ['mouse', 'cost', 1],\n",
              " ['mouse', 'pass', 1],\n",
              " ['mouse', 'liberate', 1],\n",
              " ['mouse', 'wake', 1],\n",
              " ['mouse', 'devour', 1],\n",
              " ['mouse', 'wield', 1],\n",
              " ['mouse', 'quit', 1],\n",
              " ['mouse', 'go', 1],\n",
              " ['mouse', 'bear', 1],\n",
              " ['mouse', 'know', 1],\n",
              " ['mouse', 'inhabit', 1],\n",
              " ['mouse', 'effect', 1],\n",
              " ['mouse', 'descend', 1],\n",
              " ['mouse', 'doth', 1],\n",
              " ['mouse', 'persuade', 1],\n",
              " ['mouse', 'double', 1],\n",
              " ['mouse', 'justify', 1],\n",
              " ['mouse', 'trust', 1],\n",
              " ['mouse', 'redouble', 1],\n",
              " ['mouse', 'plot', 1],\n",
              " ['mouse', 'tempt', 1],\n",
              " ['mouse', 'contain', 1],\n",
              " ['mouse', 'change', 1],\n",
              " ['mouse', 'resume', 1],\n",
              " ['mouse', 'clear', 1],\n",
              " ['mouse', 'want', 1],\n",
              " ['mouse', 'break', 1],\n",
              " ['mouse', 'tuck', 1],\n",
              " ['mouse', 'bare', 1],\n",
              " ['mouse', 'paint', 1],\n",
              " ['mouse', 'serve', 1],\n",
              " ['mouse', 'spy', 1],\n",
              " ['mouse', 'meet', 1],\n",
              " ['mouse', 'resemble', 1],\n",
              " ['mouse', 'pick', 1],\n",
              " ['mouse', 'belong', 1],\n",
              " ['mouse', 'cut', 1],\n",
              " ['mouse', 'sound', 1],\n",
              " ['mouse', 'scratch', 1],\n",
              " ['mouse', 'jerk', 1],\n",
              " ['mouse', 'fasten', 1],\n",
              " ['mouse', 'gain', 1],\n",
              " ['mouse', 'draw', 1],\n",
              " ['mouse', 'lie', 1],\n",
              " ['mouse', 'rally', 1]]"
            ]
          },
          "metadata": {},
          "execution_count": 4
        }
      ]
    },
    {
      "cell_type": "markdown",
      "source": [
        "Using WordNet to make sure a token is a word."
      ],
      "metadata": {
        "id": "9lEJyxQolx_X"
      }
    },
    {
      "cell_type": "code",
      "execution_count": null,
      "metadata": {
        "colab": {
          "base_uri": "https://localhost:8080/"
        },
        "id": "OAyzCbHUAfb3",
        "outputId": "65ae2e7d-8ebd-4f9a-da1d-538a73d03545"
      },
      "outputs": [
        {
          "output_type": "stream",
          "name": "stderr",
          "text": [
            "[nltk_data] Downloading package wordnet to /root/nltk_data...\n",
            "[nltk_data]   Package wordnet is already up-to-date!\n",
            "[nltk_data] Downloading package omw-1.4 to /root/nltk_data...\n",
            "[nltk_data]   Package omw-1.4 is already up-to-date!\n"
          ]
        }
      ],
      "source": [
        "import nltk\n",
        "nltk.download('wordnet')\n",
        "nltk.download('omw-1.4')\n",
        "from nltk.corpus import wordnet as wn"
      ]
    },
    {
      "cell_type": "code",
      "execution_count": null,
      "metadata": {
        "colab": {
          "base_uri": "https://localhost:8080/"
        },
        "id": "3P_dXfcGAlpT",
        "outputId": "8d7035cf-57a5-4871-963a-9589b363eb31"
      },
      "outputs": [
        {
          "output_type": "execute_result",
          "data": {
            "text/plain": [
              "[Synset('jiggle.v.01')]"
            ]
          },
          "metadata": {},
          "execution_count": 6
        }
      ],
      "source": [
        "wn.synsets(\"wiggle\",pos=wn.VERB)"
      ]
    },
    {
      "cell_type": "code",
      "source": [
        "from collections import defaultdict\n",
        "\n",
        "noun2verbs = defaultdict(list)"
      ],
      "metadata": {
        "id": "b2s4aqMGZRlK"
      },
      "execution_count": null,
      "outputs": []
    },
    {
      "cell_type": "code",
      "execution_count": null,
      "metadata": {
        "id": "aPYQXHMMTz7O"
      },
      "outputs": [],
      "source": [
        "min_count = 3\n",
        "\n",
        "for tup,count in noun2verb_tuples_with_count:\n",
        "  noun,verb,num = tup\n",
        "  if count>=min_count: ### don't add very rare words\n",
        "    if (noun.isalpha() and verb.isalpha() and noun.islower() and verb.islower()):\n",
        "      if wn.synsets(verb,pos=wn.VERB)!=[]:\n",
        "        noun_plus_num = noun+\"~\"+str(num)\n",
        "        noun2verbs[noun_plus_num]+=[verb]*count"
      ]
    },
    {
      "cell_type": "markdown",
      "source": [
        "Get rid of values that are the same as the key."
      ],
      "metadata": {
        "id": "fG9IjRjzP5tI"
      }
    },
    {
      "cell_type": "code",
      "source": [
        "for key,values in noun2verbs.items():\n",
        "  noun2verbs[key] = [v for v in values if v.split(\"~\")[0]!=key]"
      ],
      "metadata": {
        "id": "Dy_iJ3aPPfhB"
      },
      "execution_count": null,
      "outputs": []
    },
    {
      "cell_type": "code",
      "source": [
        "noun2verbs[\"pig~1\"][:3]"
      ],
      "metadata": {
        "colab": {
          "base_uri": "https://localhost:8080/"
        },
        "id": "HTEzwGpKPsDN",
        "outputId": "ac1fafa5-5adf-422e-ea50-873ae2660f2d"
      },
      "execution_count": null,
      "outputs": [
        {
          "output_type": "execute_result",
          "data": {
            "text/plain": [
              "['root', 'root', 'root']"
            ]
          },
          "metadata": {},
          "execution_count": 10
        }
      ]
    },
    {
      "cell_type": "markdown",
      "source": [
        "Sometimes a value is just a letter.  Filter out really short words."
      ],
      "metadata": {
        "id": "a-Tr00YrQEa3"
      }
    },
    {
      "cell_type": "code",
      "source": [
        "for key,values in noun2verbs.items():\n",
        "  noun2verbs[key] = [v for v in values if len(v)>2]"
      ],
      "metadata": {
        "id": "IzPENNgYPt5b"
      },
      "execution_count": null,
      "outputs": []
    },
    {
      "cell_type": "markdown",
      "source": [
        "### Rank by TF-IDF"
      ],
      "metadata": {
        "id": "qPlN_jb5RYJf"
      }
    },
    {
      "cell_type": "code",
      "execution_count": null,
      "metadata": {
        "id": "2CiZ-rGQyUH5"
      },
      "outputs": [],
      "source": [
        "sets_of_words = list(noun2verbs.values())"
      ]
    },
    {
      "cell_type": "code",
      "source": [
        "total_number_of_sets = len(sets_of_words)\n",
        "total_number_of_sets"
      ],
      "metadata": {
        "colab": {
          "base_uri": "https://localhost:8080/"
        },
        "id": "325g3Ya3QxeP",
        "outputId": "be9e00de-6f4b-4c02-fff1-ec4f939c2efb"
      },
      "execution_count": null,
      "outputs": [
        {
          "output_type": "execute_result",
          "data": {
            "text/plain": [
              "14116"
            ]
          },
          "metadata": {},
          "execution_count": 13
        }
      ]
    },
    {
      "cell_type": "code",
      "source": [
        "from collections import defaultdict\n",
        "\n",
        "word2doc_count = defaultdict(int)"
      ],
      "metadata": {
        "id": "QbDvRQjPPD7t"
      },
      "execution_count": null,
      "outputs": []
    },
    {
      "cell_type": "code",
      "source": [
        "for s in sets_of_words:\n",
        "  s = list(set(s))\n",
        "  for t in s:\n",
        "    word2doc_count[t]+=1"
      ],
      "metadata": {
        "id": "89VhYJGLO7Sp"
      },
      "execution_count": null,
      "outputs": []
    },
    {
      "cell_type": "code",
      "source": [
        "word2doc_count['eat']"
      ],
      "metadata": {
        "colab": {
          "base_uri": "https://localhost:8080/"
        },
        "id": "gTupUdqoP1LV",
        "outputId": "4bc3394f-e66e-4858-9edf-4a39e8278acc"
      },
      "execution_count": null,
      "outputs": [
        {
          "output_type": "execute_result",
          "data": {
            "text/plain": [
              "461"
            ]
          },
          "metadata": {},
          "execution_count": 16
        }
      ]
    },
    {
      "cell_type": "code",
      "source": [
        "noun2verbs_and_weights = {}"
      ],
      "metadata": {
        "id": "rp-8uHtIQY6N"
      },
      "execution_count": null,
      "outputs": []
    },
    {
      "cell_type": "code",
      "source": [
        "for key,words in noun2verbs.items():\n",
        "  if len(words)!=0: ## no empty sets\n",
        "    unique_words = list(set(words))\n",
        "    verbs_and_weights = []\n",
        "    for w in unique_words:\n",
        "      tf = words.count(w)/len(words)\n",
        "      idf = total_number_of_sets/word2doc_count[w]\n",
        "      tfidf = tf * idf\n",
        "      verbs_and_weights.append((w,tfidf))\n",
        "    verbs_and_weights.sort(key=lambda x:x[1], reverse=True)\n",
        "    noun2verbs_and_weights[key]=verbs_and_weights[:20]"
      ],
      "metadata": {
        "id": "At0wCZGvQERF"
      },
      "execution_count": null,
      "outputs": []
    },
    {
      "cell_type": "code",
      "source": [
        ""
      ],
      "metadata": {
        "id": "TWdopF2skWLi"
      },
      "execution_count": null,
      "outputs": []
    },
    {
      "cell_type": "markdown",
      "source": [
        "Make dictionary more concise.\n",
        "\n",
        "```\n",
        "dict[key] = {\n",
        "  \"num\":1, ## or 2\n",
        "  \"verbs\":[(\"animadvert\",11.45),...]\n",
        "}\n",
        "```"
      ],
      "metadata": {
        "id": "M68tzYtegD-0"
      }
    },
    {
      "cell_type": "markdown",
      "source": [
        "First, only keep singular *or* plural of noun, whichever has more results (more likely to be correct)."
      ],
      "metadata": {
        "id": "hmjj-vV6kXpB"
      }
    },
    {
      "cell_type": "code",
      "source": [
        "all_keys_without_number = list(set([n.split(\"~\")[0] for n in noun2verbs_and_weights]))"
      ],
      "metadata": {
        "id": "lWcjXauhkipF"
      },
      "execution_count": null,
      "outputs": []
    },
    {
      "cell_type": "code",
      "source": [
        "for k in all_keys_without_number:\n",
        "  if ((k+\"~1\" in noun2verbs_and_weights) and (k+\"~2\" in noun2verbs_and_weights)):\n",
        "    if len(noun2verbs_and_weights[k+\"~1\"])>len(noun2verbs_and_weights[k+\"~2\"]):\n",
        "      del noun2verbs_and_weights[k+\"~2\"]\n",
        "    else:\n",
        "      del noun2verbs_and_weights[k+\"~1\"]"
      ],
      "metadata": {
        "id": "Max1WCJHksI5"
      },
      "execution_count": null,
      "outputs": []
    },
    {
      "cell_type": "code",
      "source": [
        "noun2verbs_and_weights_reformatted = {}\n",
        "\n",
        "for key,values in noun2verbs_and_weights.items():\n",
        "  # print(key)\n",
        "  # print(key.split(\"~\"))\n",
        "  key,num = key.split(\"~\")\n",
        "  noun2verbs_and_weights_reformatted[key]={}\n",
        "  noun2verbs_and_weights_reformatted[key][\"num\"]=num\n",
        "  noun2verbs_and_weights_reformatted[key][\"verbs\"]=values"
      ],
      "metadata": {
        "id": "gSVxcI4ygGnB"
      },
      "execution_count": null,
      "outputs": []
    },
    {
      "cell_type": "code",
      "source": [
        "noun2verbs_and_weights_reformatted[\"laugh\"]"
      ],
      "metadata": {
        "colab": {
          "base_uri": "https://localhost:8080/"
        },
        "id": "GsTh6N7Bjokl",
        "outputId": "d3850f56-06dc-4c44-aeea-aed36ebc602c"
      },
      "execution_count": null,
      "outputs": [
        {
          "output_type": "execute_result",
          "data": {
            "text/plain": [
              "{'num': '1',\n",
              " 'verbs': [('subside', 5.744048830111902),\n",
              "  ('jar', 4.418499100086079),\n",
              "  ('reassure', 4.335131192537284),\n",
              "  ('laugh', 4.3253379744818545),\n",
              "  ('greet', 3.2549610037300782),\n",
              "  ('enliven', 2.2673876960968036),\n",
              "  ('interrupt', 1.6633346033142575),\n",
              "  ('exasperate', 1.5955691194755284),\n",
              "  ('anger', 1.346261444557477),\n",
              "  ('disconcert', 1.346261444557477),\n",
              "  ('startle', 1.326750409129108),\n",
              "  ('dispel', 1.2859810813683363),\n",
              "  ('brighten', 1.1262840843356672),\n",
              "  ('seal', 1.1046247750215197),\n",
              "  ('applaud', 1.0770091556459815),\n",
              "  ('awake', 1.0349637531733156),\n",
              "  ('answer', 1.0136556759021005),\n",
              "  ('chill', 0.9735675983240512),\n",
              "  ('drown', 0.8975076297049848),\n",
              "  ('sound', 0.7853191759918616)]}"
            ]
          },
          "metadata": {},
          "execution_count": 22
        }
      ]
    },
    {
      "cell_type": "code",
      "source": [
        "with open('noun2verbs_and_weights.json','w') as f:\n",
        "  json.dump(noun2verbs_and_weights_reformatted,f)"
      ],
      "metadata": {
        "id": "NbdOyTd0m2RS"
      },
      "execution_count": null,
      "outputs": []
    },
    {
      "cell_type": "code",
      "source": [
        "from google.colab import files\n",
        "files.download('/content/noun2verbs_and_weights.json')"
      ],
      "metadata": {
        "id": "xx8H32zrrMIG",
        "colab": {
          "base_uri": "https://localhost:8080/",
          "height": 17
        },
        "outputId": "59812bda-f350-448c-ca83-97a628774342"
      },
      "execution_count": null,
      "outputs": [
        {
          "output_type": "display_data",
          "data": {
            "text/plain": [
              "<IPython.core.display.Javascript object>"
            ],
            "application/javascript": [
              "\n",
              "    async function download(id, filename, size) {\n",
              "      if (!google.colab.kernel.accessAllowed) {\n",
              "        return;\n",
              "      }\n",
              "      const div = document.createElement('div');\n",
              "      const label = document.createElement('label');\n",
              "      label.textContent = `Downloading \"${filename}\": `;\n",
              "      div.appendChild(label);\n",
              "      const progress = document.createElement('progress');\n",
              "      progress.max = size;\n",
              "      div.appendChild(progress);\n",
              "      document.body.appendChild(div);\n",
              "\n",
              "      const buffers = [];\n",
              "      let downloaded = 0;\n",
              "\n",
              "      const channel = await google.colab.kernel.comms.open(id);\n",
              "      // Send a message to notify the kernel that we're ready.\n",
              "      channel.send({})\n",
              "\n",
              "      for await (const message of channel.messages) {\n",
              "        // Send a message to notify the kernel that we're ready.\n",
              "        channel.send({})\n",
              "        if (message.buffers) {\n",
              "          for (const buffer of message.buffers) {\n",
              "            buffers.push(buffer);\n",
              "            downloaded += buffer.byteLength;\n",
              "            progress.value = downloaded;\n",
              "          }\n",
              "        }\n",
              "      }\n",
              "      const blob = new Blob(buffers, {type: 'application/binary'});\n",
              "      const a = document.createElement('a');\n",
              "      a.href = window.URL.createObjectURL(blob);\n",
              "      a.download = filename;\n",
              "      div.appendChild(a);\n",
              "      a.click();\n",
              "      div.remove();\n",
              "    }\n",
              "  "
            ]
          },
          "metadata": {}
        },
        {
          "output_type": "display_data",
          "data": {
            "text/plain": [
              "<IPython.core.display.Javascript object>"
            ],
            "application/javascript": [
              "download(\"download_17f816cf-7715-497c-8c0d-f9debfaff359\", \"noun2verbs_and_weights.json\", 3860571)"
            ]
          },
          "metadata": {}
        }
      ]
    },
    {
      "cell_type": "markdown",
      "source": [
        "***"
      ],
      "metadata": {
        "id": "AeerXNIZo8ml"
      }
    }
  ],
  "metadata": {
    "colab": {
      "collapsed_sections": [],
      "name": "processing_noun_verb_pairs.ipynb",
      "provenance": []
    },
    "kernelspec": {
      "display_name": "Python 3",
      "name": "python3"
    },
    "language_info": {
      "name": "python"
    },
    "gpuClass": "standard"
  },
  "nbformat": 4,
  "nbformat_minor": 0
}