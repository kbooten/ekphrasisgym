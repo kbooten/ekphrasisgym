{
 "cells": [
  {
   "cell_type": "markdown",
   "metadata": {},
   "source": [
    "# Mining Semantic Relations from Gutenberg\n",
    "\n",
    "I'm extracting information from Gutenberg data with SpaCy.  \n",
    "\n",
    "- `(possessor, possessed)`\n",
    "- `(noun, adjective, number_of_noun)`\n",
    "- `(noun, transitive_verb, number_of_noun)`\n",
    "\n",
    "\n",
    "The `transitive_verb` is lemmatized. `number_of_noun` is `1` (singular) or `2` (plural). From the sentence \"The small dog ate the purple leaves.\":\n",
    "\n",
    ">`[(\"small\",\"dog\",1),(\"purple\",\"leaves\",2)]`\n",
    "\n",
    "and \n",
    "\n",
    ">`[(\"dog\",\"eat\",1)]`\n",
    "\n",
    "***\n",
    "\n",
    "Todo\n",
    "\n",
    "* don't just get adjectives, also participles like \"cooked cabbage\" (maybe don't do this? yes...too many adjectives as it is...)"
   ]
  },
  {
   "cell_type": "code",
   "execution_count": 1,
   "metadata": {},
   "outputs": [],
   "source": [
    "from tqdm import tqdm\n",
    "import json\n",
    "from collections import defaultdict\n",
    "from nltk import ngrams\n",
    "from nltk.corpus import wordnet as wn"
   ]
  },
  {
   "cell_type": "code",
   "execution_count": 2,
   "metadata": {},
   "outputs": [
    {
     "name": "stdout",
     "output_type": "stream",
     "text": [
      "3.7\n"
     ]
    }
   ],
   "source": [
    "import nltk\n",
    "print(nltk.__version__)"
   ]
  },
  {
   "cell_type": "code",
   "execution_count": 3,
   "metadata": {},
   "outputs": [],
   "source": [
    "import spacy"
   ]
  },
  {
   "cell_type": "code",
   "execution_count": 4,
   "metadata": {},
   "outputs": [],
   "source": [
    "nlp = spacy.load(\"en_core_web_lg\")"
   ]
  },
  {
   "cell_type": "code",
   "execution_count": 5,
   "metadata": {},
   "outputs": [
    {
     "name": "stdout",
     "output_type": "stream",
     "text": [
      "3.4.1\n"
     ]
    }
   ],
   "source": [
    "print(spacy.__version__)"
   ]
  },
  {
   "cell_type": "code",
   "execution_count": 6,
   "metadata": {},
   "outputs": [
    {
     "name": "stdout",
     "output_type": "stream",
     "text": [
      "The det\n",
      "wild amod\n",
      "dog nsubj\n",
      "was ROOT\n",
      "small acomp\n",
      "and cc\n",
      "cold conj\n",
      ". punct\n",
      "  dep\n",
      "The det\n",
      "dog nsubj\n",
      "ate ROOT\n",
      "the det\n",
      "house dobj\n",
      ". punct\n",
      "  dep\n",
      "The det\n",
      "dog nsubj\n",
      "slept ROOT\n",
      ". punct\n",
      "The det\n",
      "tree nsubj\n",
      "bore ROOT\n",
      "fruit dobj\n",
      "and cc\n",
      "lemons conj\n",
      ". punct\n"
     ]
    }
   ],
   "source": [
    "for a in nlp(\"The wild dog was small and cold.  The dog ate the house.  The dog slept. The tree bore fruit and lemons.\"):\n",
    "    print(a,a.dep_)"
   ]
  },
  {
   "cell_type": "markdown",
   "metadata": {},
   "source": [
    "## Define functions to extract relations"
   ]
  },
  {
   "cell_type": "markdown",
   "metadata": {},
   "source": [
    "Extracting `(possessed,possessor)` tuples conservatively: trying to get relationships like \"the scales of the fish\" also gets \"ball of yarn.\""
   ]
  },
  {
   "cell_type": "code",
   "execution_count": 7,
   "metadata": {},
   "outputs": [
    {
     "data": {
      "text/plain": [
       "[('cat', 'legs'), ('king', 'mansions')]"
      ]
     },
     "execution_count": 7,
     "metadata": {},
     "output_type": "execute_result"
    }
   ],
   "source": [
    "def extract_possessor_possessed(tempspacy):\n",
    "    \"\"\"\n",
    "    For a sentence like \"The dog's fur, the teeth of the cat.\" returns [(dog, fur),(cat,teeth)].\n",
    "    lemmatizes the FIRST noun.  \n",
    "    \"\"\"\n",
    "    nouns = [\"NN\",\"NNS\"]\n",
    "    possessor_possessed_tuples = []\n",
    "    ### the the noun's possessed, the cat's meow\n",
    "    ### don't go for the meow of the cat because too ambiguous (the ball of yarn)\n",
    "    for token in tempspacy:\n",
    "#         try:\n",
    "        if (token.tag_ in nouns) and (token.head.tag_ in nouns): ### find a noun and its noun head\n",
    "            if token.dep_==\"poss\": ## make sure the dep that connects them is `poss`\n",
    "                possessor_possessed_tuples.append((token.text.lower(),token.head.text.lower()))\n",
    "#             if (token.tag_ in nouns) and (token.dep_==\"pobj\") and (token.head.lemma_==\"of\") and (token.head.head.tag_ in nouns):\n",
    "#                 possessor_possessed_tuples.append((token.head.head.text,token.text))\n",
    "#         except:\n",
    "#             pass\n",
    "    return possessor_possessed_tuples\n",
    "\n",
    "extract_possessor_possessed(nlp(u\"Beyond the old cat's stinky legs and ugly face.  A ball of yarn. The shining scales of the fish.  The king's mansions.  Your friend is here.\"))"
   ]
  },
  {
   "cell_type": "markdown",
   "metadata": {},
   "source": [
    "Extracting `(possessed,possessor)` tuples conservatively: trying to get relationships like \"the scales of the fish\" also gets \"ball of yarn.\""
   ]
  },
  {
   "cell_type": "code",
   "execution_count": 8,
   "metadata": {},
   "outputs": [
    {
     "data": {
      "text/plain": [
       "[('diving', 'bell', 1),\n",
       " ('small', 'frogs', 2),\n",
       " ('only', 'ones', 2),\n",
       " ('blue', 'bird', 1)]"
      ]
     },
     "execution_count": 8,
     "metadata": {},
     "output_type": "execute_result"
    }
   ],
   "source": [
    "def extract_adj2nouns(tempspacy):\n",
    "    \"\"\"\n",
    "    returns [(adjective, noun, number of noun),...]\n",
    "    \"\"\"\n",
    "    nouns = [\"NN\",\"NNS\"]\n",
    "    adj_noun_tuples = []\n",
    "    for token in tempspacy:  ## for every token in the document\n",
    "        #print(token,token.dep_,token.pos_)\n",
    "#         try: \n",
    "        if token.dep_==\"amod\":  ## try to see if it is an `amod`, an adjective\n",
    "            if token.tag_==\"JJ\":\n",
    "                if token.head.tag_ in nouns:  ## try to see if the head is a noun\n",
    "                    adj_noun_tuples.append((token.text.lower(),token.head.text.lower(),1 if token.head.tag_==\"NN\" else 2)) ## add the modifying word and the lemma \n",
    "#         except:\n",
    "#             pass\n",
    "    return adj_noun_tuples\n",
    "                                       \n",
    "extract_adj2nouns(nlp(\"The diving bell gave off the sound. Frogs and small frogs were not the only ones there, in the blue bird of the blue house.  The smiling dog walked itself through the house.\"))"
   ]
  },
  {
   "cell_type": "code",
   "execution_count": 9,
   "metadata": {},
   "outputs": [
    {
     "data": {
      "text/plain": [
       "[('bell', 'give off', 1),\n",
       " ('man', 'eat', 1),\n",
       " ('tree', 'bear', 1),\n",
       " ('dog', 'eat', 1)]"
      ]
     },
     "execution_count": 9,
     "metadata": {},
     "output_type": "execute_result"
    }
   ],
   "source": [
    "def extract_noun2verb(tempspacy):\n",
    "    \"\"\"\n",
    "    returns [(noun, transitive verb, number of noun),...]\n",
    "    \"\"\"\n",
    "    \n",
    "    nouns = [\"NN\",\"NNS\"]\n",
    "\n",
    "    noun2verbs = []\n",
    "    \n",
    "    for token in tempspacy:\n",
    "#         try:\n",
    "        if ((token.tag_ in nouns) and (token.dep_==\"nsubj\")): ## find a noun subject\n",
    "            verb = token.head  ## make sure it's head is a verb\n",
    "            if verb.pos_ == \"VERB\":  ## ...\n",
    "                verb_children_deps = [c.dep_ for c in verb.children] ## make sure one of its deps has a dobj dependency\n",
    "                if \"dobj\" in verb_children_deps:\n",
    "                    #obj = [c for c in verb.children if c.dep_==\"dobj\"][0] ## just get the last one\n",
    "                    particles = [c for c in verb.children if c.dep_==\"prt\"]\n",
    "                    #print(particles)\n",
    "                    if particles==[]:\n",
    "                        verb_to_return = verb.lemma_\n",
    "                    else:\n",
    "                        verb_to_return = verb.lemma_+\" \"+particles[0].text.lower()\n",
    "                    noun2verbs.append((token.text.lower(),verb_to_return,1 if token.tag_==\"NN\" else 2))# just noun and the verb lemma #obj.text.lower())) ## get the lemma, lemmatized verb, and nonlematized object\n",
    "#         except:\n",
    "#             pass\n",
    "    return noun2verbs\n",
    "\n",
    "\n",
    "extract_noun2verb(nlp(\" The diving bell gave off a sound. And the ark rested in the seventh month, on the seventeenth day of\\\n",
    "the month, upon the mountains of Ararat.And the ark rested in the seventh month, on the seventeenth day of the month, upon the mountains of Ararat. He swung through the fence.  The men circling the house. While running down the street, the man ate apples from a cart. The tree bore fruit and lemons. The dog who ran through the night ate chicken through the night.  The woods are on fire.\"))"
   ]
  },
  {
   "cell_type": "markdown",
   "metadata": {},
   "source": [
    "## Load in some Gutenberg texts."
   ]
  },
  {
   "cell_type": "markdown",
   "metadata": {},
   "source": [
    "I want to loop through a bunch of Gutenberg texts that I've downloaded with the Gutenberg python package.  "
   ]
  },
  {
   "cell_type": "code",
   "execution_count": 10,
   "metadata": {},
   "outputs": [],
   "source": [
    "import os\n",
    "#directory = \"/Users/kyle/Documents/downloading_gutenberg/data/\"\n",
    "directory = \"/Volumes/extra_data/gutenberg/data/\"\n",
    "gb_files = [f for f in os.listdir(directory) if f.startswith('gb_')]"
   ]
  },
  {
   "cell_type": "code",
   "execution_count": 11,
   "metadata": {},
   "outputs": [
    {
     "data": {
      "text/plain": [
       "31116"
      ]
     },
     "execution_count": 11,
     "metadata": {},
     "output_type": "execute_result"
    }
   ],
   "source": [
    "len(gb_files)"
   ]
  },
  {
   "cell_type": "code",
   "execution_count": 12,
   "metadata": {},
   "outputs": [],
   "source": [
    "just_testing = False ### False to run on all Gutenberg files in directory"
   ]
  },
  {
   "cell_type": "code",
   "execution_count": 13,
   "metadata": {},
   "outputs": [],
   "source": [
    "if just_testing==True:\n",
    "    gb_files = gb_files[:20]"
   ]
  },
  {
   "cell_type": "code",
   "execution_count": 14,
   "metadata": {},
   "outputs": [],
   "source": [
    "from gutenberg.cleanup import strip_headers"
   ]
  },
  {
   "cell_type": "code",
   "execution_count": 15,
   "metadata": {},
   "outputs": [],
   "source": [
    "from collections import defaultdict"
   ]
  },
  {
   "cell_type": "code",
   "execution_count": 16,
   "metadata": {
    "scrolled": true
   },
   "outputs": [
    {
     "name": "stderr",
     "output_type": "stream",
     "text": [
      "100%|██████████████████████████████████| 31116/31116 [42:45:08<00:00,  4.95s/it]\n"
     ]
    }
   ],
   "source": [
    "possessor2possessed = defaultdict(int)\n",
    "adj2nouns_tuples = defaultdict(int)\n",
    "noun2verb_tuples = defaultdict(int)\n",
    "banned_books = [\n",
    "    10,#bible...the verse numbers disturb spacy's parser\n",
    "]\n",
    "\n",
    "for fy in tqdm(gb_files):\n",
    "    with open(directory+fy,'r') as f:\n",
    "        tempdata = f.read()\n",
    "        filenumber = fy.lstrip(\"gb_\").rstrip(\".txt\")\n",
    "        if (\"Language: English\" in tempdata[:1000] and int(filenumber) not in banned_books):  ## make sure english \n",
    "            tempdata = strip_headers(tempdata)\n",
    "            tempdata = tempdata.replace(\"\\n\",\" \") ## important! spacy does better without \\n\n",
    "            #print(len(tempdata))\n",
    "            tempspacy = nlp(tempdata[:300000])### limit to first n chars\n",
    "            try:\n",
    "                for pp in list(set(extract_possessor_possessed(tempspacy))):\n",
    "                    possessor2possessed[pp]+=1\n",
    "            except:\n",
    "                pass\n",
    "            try:\n",
    "                for pp in list(set(extract_adj2nouns(tempspacy))):\n",
    "                    adj2nouns_tuples[pp]+=1\n",
    "            except:\n",
    "                pass\n",
    "            try:\n",
    "                for pp in list(set(extract_noun2verb(tempspacy))):\n",
    "                    noun2verb_tuples[pp]+=1\n",
    "            except:\n",
    "                pass\n",
    "                "
   ]
  },
  {
   "cell_type": "markdown",
   "metadata": {},
   "source": [
    "`(possessor,possessed)` tuples?"
   ]
  },
  {
   "cell_type": "code",
   "execution_count": 17,
   "metadata": {},
   "outputs": [
    {
     "data": {
      "text/plain": [
       "[(('mother', 'child'), 122),\n",
       " (('heart', 'workings'), 2),\n",
       " (('youth', 'livery'), 6),\n",
       " (('summer', 'flower'), 7),\n",
       " (('woman', 'son'), 105),\n",
       " (('friar', 'mouth'), 2),\n",
       " (('husband', 'nose'), 20),\n",
       " (('honour', 'ring'), 2),\n",
       " (('botcher', 'prentice'), 1),\n",
       " (('son', 'dearer'), 1)]"
      ]
     },
     "execution_count": 17,
     "metadata": {},
     "output_type": "execute_result"
    }
   ],
   "source": [
    "list(possessor2possessed.items())[:10]"
   ]
  },
  {
   "cell_type": "code",
   "execution_count": 18,
   "metadata": {},
   "outputs": [
    {
     "data": {
      "text/plain": [
       "1561020"
      ]
     },
     "execution_count": 18,
     "metadata": {},
     "output_type": "execute_result"
    }
   ],
   "source": [
    "sum(possessor2possessed.values())"
   ]
  },
  {
   "cell_type": "code",
   "execution_count": 19,
   "metadata": {},
   "outputs": [
    {
     "data": {
      "text/plain": [
       "[(('instant', 'disaster', 1), 5),\n",
       " (('tattered', 'loving', 1), 1),\n",
       " (('high', 'heaven', 1), 277),\n",
       " (('good', 'speed', 1), 596),\n",
       " (('wild', 'boars', 2), 433),\n",
       " (('amorous', 'surfeiter', 1), 1),\n",
       " (('surly', 'bell', 1), 8),\n",
       " (('foolish', 'boy', 1), 472),\n",
       " (('sure', 'wards', 2), 2),\n",
       " (('compelling', 'occasion', 1), 1)]"
      ]
     },
     "execution_count": 19,
     "metadata": {},
     "output_type": "execute_result"
    }
   ],
   "source": [
    "list(adj2nouns_tuples.items())[:10]"
   ]
  },
  {
   "cell_type": "code",
   "execution_count": 20,
   "metadata": {},
   "outputs": [
    {
     "data": {
      "text/plain": [
       "41970393"
      ]
     },
     "execution_count": 20,
     "metadata": {},
     "output_type": "execute_result"
    }
   ],
   "source": [
    "sum(adj2nouns_tuples.values())"
   ]
  },
  {
   "cell_type": "code",
   "execution_count": 21,
   "metadata": {},
   "outputs": [
    {
     "data": {
      "text/plain": [
       "[(('body', 'require', 1), 69),\n",
       " (('art', 'ransom', 1), 2),\n",
       " (('eyes', 'teach', 2), 14),\n",
       " (('time', 'bring on', 1), 6),\n",
       " (('buds', 'doth', 2), 2),\n",
       " (('mother', 'fetch', 1), 16),\n",
       " (('sense', 'save', 1), 72),\n",
       " (('quails', 'Beat', 2), 4),\n",
       " (('mind', 'drink up', 1), 4),\n",
       " (('violet', 'chide', 1), 1)]"
      ]
     },
     "execution_count": 21,
     "metadata": {},
     "output_type": "execute_result"
    }
   ],
   "source": [
    "list(noun2verb_tuples.items())[:10]"
   ]
  },
  {
   "cell_type": "code",
   "execution_count": 22,
   "metadata": {},
   "outputs": [
    {
     "data": {
      "text/plain": [
       "6658234"
      ]
     },
     "execution_count": 22,
     "metadata": {},
     "output_type": "execute_result"
    }
   ],
   "source": [
    "sum(noun2verb_tuples.values())"
   ]
  },
  {
   "cell_type": "markdown",
   "metadata": {},
   "source": [
    "### Output"
   ]
  },
  {
   "cell_type": "code",
   "execution_count": 31,
   "metadata": {},
   "outputs": [
    {
     "data": {
      "text/plain": [
       "475435"
      ]
     },
     "execution_count": 31,
     "metadata": {},
     "output_type": "execute_result"
    }
   ],
   "source": [
    "len((list(possessor2possessed.items())))"
   ]
  },
  {
   "cell_type": "code",
   "execution_count": 23,
   "metadata": {},
   "outputs": [],
   "source": [
    "if just_testing==False:\n",
    "    with open(\"possessor2possessed_tuples_with_count.json\",\"w\") as f:\n",
    "        json.dump(list(possessor2possessed.items()),f)\n",
    "else:\n",
    "    print(\"just a test; not saving data\")"
   ]
  },
  {
   "cell_type": "code",
   "execution_count": 25,
   "metadata": {},
   "outputs": [
    {
     "data": {
      "text/plain": [
       "6132913"
      ]
     },
     "execution_count": 25,
     "metadata": {},
     "output_type": "execute_result"
    }
   ],
   "source": [
    "adj2nouns_tuples_items = list(adj2nouns_tuples.items())\n",
    "len(adj2nouns_tuples_items)"
   ]
  },
  {
   "cell_type": "code",
   "execution_count": 26,
   "metadata": {},
   "outputs": [],
   "source": [
    "adj2nouns_tuples_at_least_2 = [(t,count) for (t,count) in adj2nouns_tuples_items if count>=2]"
   ]
  },
  {
   "cell_type": "code",
   "execution_count": 27,
   "metadata": {},
   "outputs": [
    {
     "data": {
      "text/plain": [
       "2474844"
      ]
     },
     "execution_count": 27,
     "metadata": {},
     "output_type": "execute_result"
    }
   ],
   "source": [
    "len(adj2nouns_tuples_at_least_2)"
   ]
  },
  {
   "cell_type": "code",
   "execution_count": 28,
   "metadata": {},
   "outputs": [],
   "source": [
    "if just_testing==False:\n",
    "    with open(\"adj2nouns_tuples_with_count.json\",\"w\") as f:\n",
    "        json.dump(list(adj2nouns_tuples_at_least_2),f)\n",
    "else:\n",
    "    print(\"just a test; not saving data\")"
   ]
  },
  {
   "cell_type": "code",
   "execution_count": 30,
   "metadata": {},
   "outputs": [
    {
     "data": {
      "text/plain": [
       "2067993"
      ]
     },
     "execution_count": 30,
     "metadata": {},
     "output_type": "execute_result"
    }
   ],
   "source": [
    "len(noun2verb_tuples.items())"
   ]
  },
  {
   "cell_type": "code",
   "execution_count": 29,
   "metadata": {},
   "outputs": [],
   "source": [
    "if just_testing==False:\n",
    "    with open(\"noun2verb_tuples_with_count.json\",\"w\") as f:\n",
    "        json.dump(list(noun2verb_tuples.items()),f)\n",
    "else:\n",
    "    print(\"just a test; not saving data\")"
   ]
  },
  {
   "cell_type": "markdown",
   "metadata": {},
   "source": [
    "***"
   ]
  }
 ],
 "metadata": {
  "kernelspec": {
   "display_name": "ek",
   "language": "python",
   "name": "ek"
  },
  "language_info": {
   "codemirror_mode": {
    "name": "ipython",
    "version": 3
   },
   "file_extension": ".py",
   "mimetype": "text/x-python",
   "name": "python",
   "nbconvert_exporter": "python",
   "pygments_lexer": "ipython3",
   "version": "3.9.12"
  }
 },
 "nbformat": 4,
 "nbformat_minor": 2
}
