{
  "cells": [
    {
      "cell_type": "markdown",
      "metadata": {
        "id": "8lhwKdiElb-W"
      },
      "source": [
        "# Recursive Ekphrasis Gym\n",
        "\n",
        "## Processing `(noun,verb)` pairs"
      ]
    },
    {
      "cell_type": "code",
      "execution_count": null,
      "metadata": {
        "colab": {
          "base_uri": "https://localhost:8080/"
        },
        "id": "4QAPt3jvSBfk",
        "outputId": "933b5002-5541-4653-e686-b0bb492c102c"
      },
      "outputs": [
        {
          "output_type": "stream",
          "name": "stdout",
          "text": [
            "--2022-07-12 23:03:00--  https://github.com/kbooten/ekphrasisgym/raw/main/noun2verb_tuples.json\n",
            "Resolving github.com (github.com)... 20.205.243.166\n",
            "Connecting to github.com (github.com)|20.205.243.166|:443... connected.\n",
            "HTTP request sent, awaiting response... 302 Found\n",
            "Location: https://media.githubusercontent.com/media/kbooten/ekphrasisgym/main/noun2verb_tuples.json [following]\n",
            "--2022-07-12 23:03:00--  https://media.githubusercontent.com/media/kbooten/ekphrasisgym/main/noun2verb_tuples.json\n",
            "Resolving media.githubusercontent.com (media.githubusercontent.com)... 185.199.108.133, 185.199.109.133, 185.199.110.133, ...\n",
            "Connecting to media.githubusercontent.com (media.githubusercontent.com)|185.199.108.133|:443... connected.\n",
            "HTTP request sent, awaiting response... 200 OK\n",
            "Length: 51250034 (49M) [application/octet-stream]\n",
            "Saving to: ‘noun2verb_tuples.json’\n",
            "\n",
            "noun2verb_tuples.js 100%[===================>]  48.88M  --.-KB/s    in 0.1s    \n",
            "\n",
            "2022-07-12 23:03:04 (373 MB/s) - ‘noun2verb_tuples.json’ saved [51250034/51250034]\n",
            "\n"
          ]
        }
      ],
      "source": [
        "! wget https://github.com/kbooten/ekphrasisgym/raw/main/noun2verb_tuples.json"
      ]
    },
    {
      "cell_type": "code",
      "execution_count": null,
      "metadata": {
        "id": "t8Lo-ixmSHRY"
      },
      "outputs": [],
      "source": [
        "import json\n",
        "\n",
        "with open('noun2verb_tuples.json','r') as f:\n",
        "  noun2verb_tuples = json.load(f)"
      ]
    },
    {
      "cell_type": "code",
      "execution_count": null,
      "metadata": {
        "colab": {
          "base_uri": "https://localhost:8080/"
        },
        "id": "QG__OfRVSZou",
        "outputId": "3afaf585-9193-4b69-edfc-44aad0bbbdbf"
      },
      "outputs": [
        {
          "output_type": "execute_result",
          "data": {
            "text/plain": [
              "[['education', 'demand', 1],\n",
              " ['diagram', 'show', 1],\n",
              " ['story', 'stir', 1],\n",
              " ['lamb', 'follow', 1]]"
            ]
          },
          "metadata": {},
          "execution_count": 3
        }
      ],
      "source": [
        "noun2verb_tuples[:4]"
      ]
    },
    {
      "cell_type": "code",
      "execution_count": null,
      "metadata": {
        "id": "WGYlz3HWSkEQ"
      },
      "outputs": [],
      "source": [
        "from collections import defaultdict\n",
        "\n",
        "noun2verb = defaultdict(list)"
      ]
    },
    {
      "cell_type": "code",
      "execution_count": null,
      "metadata": {
        "id": "nxXUD8ApS6Me"
      },
      "outputs": [],
      "source": [
        "for i in noun2verb_tuples:\n",
        "  noun = i[0]\n",
        "  verb = i[1]\n",
        "  number = i[2]\n",
        "  noun2verb[noun].append((verb,number))"
      ]
    },
    {
      "cell_type": "code",
      "execution_count": null,
      "metadata": {
        "colab": {
          "base_uri": "https://localhost:8080/"
        },
        "id": "Q1m8ryOETevQ",
        "outputId": "ed860ae5-f0eb-4021-9660-a4e72bfef7ad"
      },
      "outputs": [
        {
          "output_type": "execute_result",
          "data": {
            "text/plain": [
              "[('regard', 1),\n",
              " ('feel', 1),\n",
              " ('follow', 1),\n",
              " ('lead', 1),\n",
              " ('take', 1),\n",
              " ('nod', 1),\n",
              " ('regain', 1),\n",
              " ('run', 1),\n",
              " ('believe', 1),\n",
              " ('take', 1)]"
            ]
          },
          "metadata": {},
          "execution_count": 6
        }
      ],
      "source": [
        "noun2verb[\"curate\"][:10]"
      ]
    },
    {
      "cell_type": "markdown",
      "source": [
        "Using WordNet to make sure a token is a word."
      ],
      "metadata": {
        "id": "9lEJyxQolx_X"
      }
    },
    {
      "cell_type": "code",
      "execution_count": null,
      "metadata": {
        "colab": {
          "base_uri": "https://localhost:8080/"
        },
        "id": "OAyzCbHUAfb3",
        "outputId": "af37d3df-ec37-4ebd-8ce3-328756b1a0a8"
      },
      "outputs": [
        {
          "output_type": "stream",
          "name": "stderr",
          "text": [
            "[nltk_data] Downloading package wordnet to /root/nltk_data...\n",
            "[nltk_data] Downloading package omw-1.4 to /root/nltk_data...\n"
          ]
        }
      ],
      "source": [
        "import nltk\n",
        "nltk.download('wordnet')\n",
        "nltk.download('omw-1.4')\n",
        "from nltk.corpus import wordnet as wn"
      ]
    },
    {
      "cell_type": "code",
      "execution_count": null,
      "metadata": {
        "colab": {
          "base_uri": "https://localhost:8080/"
        },
        "id": "3P_dXfcGAlpT",
        "outputId": "1fa50730-8634-43bc-e35f-8fd3eb62e6a0"
      },
      "outputs": [
        {
          "output_type": "execute_result",
          "data": {
            "text/plain": [
              "[Synset('hat.n.01'), Synset('hat.n.02')]"
            ]
          },
          "metadata": {},
          "execution_count": 8
        }
      ],
      "source": [
        "wn.synsets(\"hat\",pos=wn.NOUN)"
      ]
    },
    {
      "cell_type": "code",
      "execution_count": null,
      "metadata": {
        "id": "aPYQXHMMTz7O"
      },
      "outputs": [],
      "source": [
        "for key,values in noun2verb.items():\n",
        "  values = [(i,n) for (i,n) in values if wn.synsets(i,pos=wn.VERB)!=[]] ## spellcheck via wordnet\n",
        "  noun2verb[key] = values"
      ]
    },
    {
      "cell_type": "markdown",
      "source": [
        "Get rid of values that are the same as the key."
      ],
      "metadata": {
        "id": "fG9IjRjzP5tI"
      }
    },
    {
      "cell_type": "code",
      "source": [
        "for key,values in noun2verb.items():\n",
        "  noun2verb[key] = [v for v in values if v!=key]"
      ],
      "metadata": {
        "id": "Dy_iJ3aPPfhB"
      },
      "execution_count": null,
      "outputs": []
    },
    {
      "cell_type": "code",
      "source": [
        "noun2verb[\"pig\"][:3]"
      ],
      "metadata": {
        "colab": {
          "base_uri": "https://localhost:8080/"
        },
        "id": "HTEzwGpKPsDN",
        "outputId": "728d7511-5aaf-4cc3-bb38-21343d892f95"
      },
      "execution_count": null,
      "outputs": [
        {
          "output_type": "execute_result",
          "data": {
            "text/plain": [
              "[('present', 1), ('change', 1), ('get', 1)]"
            ]
          },
          "metadata": {},
          "execution_count": 11
        }
      ]
    },
    {
      "cell_type": "markdown",
      "source": [
        "Sometimes a value is just a letter.  Filter out really short words."
      ],
      "metadata": {
        "id": "a-Tr00YrQEa3"
      }
    },
    {
      "cell_type": "code",
      "source": [
        "for key,values in noun2verb.items():\n",
        "  noun2verb[key] = [(i,n) for (i,n) in values if len(i)>2]"
      ],
      "metadata": {
        "id": "IzPENNgYPt5b"
      },
      "execution_count": null,
      "outputs": []
    },
    {
      "cell_type": "markdown",
      "source": [
        "### Rank by TF-IDF"
      ],
      "metadata": {
        "id": "qPlN_jb5RYJf"
      }
    },
    {
      "cell_type": "code",
      "execution_count": null,
      "metadata": {
        "id": "2CiZ-rGQyUH5"
      },
      "outputs": [],
      "source": [
        "sets_of_words = list(noun2verb.values())"
      ]
    },
    {
      "cell_type": "code",
      "source": [
        "total_number_of_sets = len(sets_of_words)\n",
        "total_number_of_sets"
      ],
      "metadata": {
        "colab": {
          "base_uri": "https://localhost:8080/"
        },
        "id": "325g3Ya3QxeP",
        "outputId": "0dbb49a1-70dc-44ac-b09a-8fc9d0edb20f"
      },
      "execution_count": null,
      "outputs": [
        {
          "output_type": "execute_result",
          "data": {
            "text/plain": [
              "58514"
            ]
          },
          "metadata": {},
          "execution_count": 14
        }
      ]
    },
    {
      "cell_type": "code",
      "source": [
        "from collections import defaultdict\n",
        "\n",
        "word2doc_count = defaultdict(int)"
      ],
      "metadata": {
        "id": "QbDvRQjPPD7t"
      },
      "execution_count": null,
      "outputs": []
    },
    {
      "cell_type": "code",
      "source": [
        "for s in sets_of_words:\n",
        "  s = list(set(s))\n",
        "  for t in s:\n",
        "    word2doc_count[t]+=1"
      ],
      "metadata": {
        "id": "89VhYJGLO7Sp"
      },
      "execution_count": null,
      "outputs": []
    },
    {
      "cell_type": "code",
      "source": [
        "word2doc_count['friend']"
      ],
      "metadata": {
        "colab": {
          "base_uri": "https://localhost:8080/"
        },
        "id": "gTupUdqoP1LV",
        "outputId": "32aa7116-46a0-4e10-e198-e4ca09ae01b4"
      },
      "execution_count": null,
      "outputs": [
        {
          "output_type": "execute_result",
          "data": {
            "text/plain": [
              "0"
            ]
          },
          "metadata": {},
          "execution_count": 17
        }
      ]
    },
    {
      "cell_type": "code",
      "source": [
        "noun2verbs_and_weights = {}"
      ],
      "metadata": {
        "id": "rp-8uHtIQY6N"
      },
      "execution_count": null,
      "outputs": []
    },
    {
      "cell_type": "code",
      "source": [
        "for key,words in noun2verb.items():\n",
        "  if len(words)!=0: ## no empty sets\n",
        "    unique_words = list(set(words))\n",
        "    verbs_and_weights = []\n",
        "    for w in unique_words:\n",
        "      tf = words.count(w)/len(words)\n",
        "      idf = total_number_of_sets/word2doc_count[w]\n",
        "      tfidf = tf * idf\n",
        "      verbs_and_weights.append((w,tfidf))\n",
        "    verbs_and_weights.sort(key=lambda x:x[1], reverse=True)\n",
        "    noun2verbs_and_weights[key]=verbs_and_weights[:20]"
      ],
      "metadata": {
        "id": "At0wCZGvQERF"
      },
      "execution_count": null,
      "outputs": []
    },
    {
      "cell_type": "code",
      "source": [
        "noun2verbs_and_weights['friend']"
      ],
      "metadata": {
        "colab": {
          "base_uri": "https://localhost:8080/"
        },
        "id": "KU9yuTFjSLE0",
        "outputId": "4def4645-8528-4262-e1d4-67ffa6cb3d26"
      },
      "execution_count": null,
      "outputs": [
        {
          "output_type": "execute_result",
          "data": {
            "text/plain": [
              "[(('referee', 1), 9.16716277612408),\n",
              " (('expatiate', 1), 9.16716277612408),\n",
              " (('cuckold', 1), 9.16716277612408),\n",
              " (('prevaricate', 1), 4.58358138806204),\n",
              " (('orate', 1), 4.58358138806204),\n",
              " (('fawn', 1), 4.58358138806204),\n",
              " (('misappropriate', 1), 3.0557209253746933),\n",
              " (('needle', 1), 3.0557209253746933),\n",
              " (('shin', 1), 2.29179069403102),\n",
              " (('smart', 1), 2.29179069403102),\n",
              " (('clump', 1), 2.29179069403102),\n",
              " (('capitalize', 1), 2.037147283583129),\n",
              " (('patent', 1), 1.8334325552248159),\n",
              " (('palpitate', 1), 1.8334325552248159),\n",
              " (('skid', 1), 1.8334325552248159),\n",
              " (('twit', 1), 1.6667568683861962),\n",
              " (('joke', 1), 1.6667568683861962),\n",
              " (('converse', 1), 1.6667568683861962),\n",
              " (('book', 1), 1.6667568683861962),\n",
              " (('overdraw', 1), 1.5278604626873467)]"
            ]
          },
          "metadata": {},
          "execution_count": 20
        }
      ]
    },
    {
      "cell_type": "code",
      "source": [
        "with open('noun2verbs_and_weights.json','w') as f:\n",
        "  json.dump(noun2verbs_and_weights,f)"
      ],
      "metadata": {
        "id": "NbdOyTd0m2RS"
      },
      "execution_count": null,
      "outputs": []
    },
    {
      "cell_type": "code",
      "source": [
        "from google.colab import files\n",
        "files.download('/content/noun2verbs_and_weights.json')"
      ],
      "metadata": {
        "id": "xx8H32zrrMIG",
        "colab": {
          "base_uri": "https://localhost:8080/",
          "height": 34
        },
        "outputId": "a64b9d52-a068-4fac-97af-3d3547636a78"
      },
      "execution_count": null,
      "outputs": [
        {
          "output_type": "display_data",
          "data": {
            "text/plain": [
              "<IPython.core.display.Javascript object>"
            ],
            "application/javascript": [
              "\n",
              "    async function download(id, filename, size) {\n",
              "      if (!google.colab.kernel.accessAllowed) {\n",
              "        return;\n",
              "      }\n",
              "      const div = document.createElement('div');\n",
              "      const label = document.createElement('label');\n",
              "      label.textContent = `Downloading \"${filename}\": `;\n",
              "      div.appendChild(label);\n",
              "      const progress = document.createElement('progress');\n",
              "      progress.max = size;\n",
              "      div.appendChild(progress);\n",
              "      document.body.appendChild(div);\n",
              "\n",
              "      const buffers = [];\n",
              "      let downloaded = 0;\n",
              "\n",
              "      const channel = await google.colab.kernel.comms.open(id);\n",
              "      // Send a message to notify the kernel that we're ready.\n",
              "      channel.send({})\n",
              "\n",
              "      for await (const message of channel.messages) {\n",
              "        // Send a message to notify the kernel that we're ready.\n",
              "        channel.send({})\n",
              "        if (message.buffers) {\n",
              "          for (const buffer of message.buffers) {\n",
              "            buffers.push(buffer);\n",
              "            downloaded += buffer.byteLength;\n",
              "            progress.value = downloaded;\n",
              "          }\n",
              "        }\n",
              "      }\n",
              "      const blob = new Blob(buffers, {type: 'application/binary'});\n",
              "      const a = document.createElement('a');\n",
              "      a.href = window.URL.createObjectURL(blob);\n",
              "      a.download = filename;\n",
              "      div.appendChild(a);\n",
              "      a.click();\n",
              "      div.remove();\n",
              "    }\n",
              "  "
            ]
          },
          "metadata": {}
        },
        {
          "output_type": "display_data",
          "data": {
            "text/plain": [
              "<IPython.core.display.Javascript object>"
            ],
            "application/javascript": [
              "download(\"download_8ea796d2-7726-4c3b-935a-59a62827f2d4\", \"noun2verbs_and_weights.json\", 11887738)"
            ]
          },
          "metadata": {}
        }
      ]
    },
    {
      "cell_type": "markdown",
      "source": [
        "***"
      ],
      "metadata": {
        "id": "AeerXNIZo8ml"
      }
    }
  ],
  "metadata": {
    "accelerator": "GPU",
    "colab": {
      "collapsed_sections": [],
      "name": "processing_noun_verb_pairs.ipynb",
      "provenance": []
    },
    "kernelspec": {
      "display_name": "Python 3",
      "name": "python3"
    },
    "language_info": {
      "name": "python"
    }
  },
  "nbformat": 4,
  "nbformat_minor": 0
}